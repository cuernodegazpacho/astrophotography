{
 "cells": [
  {
   "cell_type": "markdown",
   "id": "1993a8b8",
   "metadata": {},
   "source": [
    "# Image Offsets: Create offset arrays used by drizzle"
   ]
  },
  {
   "cell_type": "markdown",
   "id": "0f04ec8a",
   "metadata": {},
   "source": [
    "The offset tables created by a previous notebook (Offsets_2) are used to generate the X and Y offset arrays used by drizzle.\n",
    "\n",
    "Each offset table will generate 2 arrays, for X and Y respectively, stored as FITS image extensions of short float type.\n",
    "\n",
    "The algorithms were developed in the Timing notebook; here, they are cast as callable functions used in a loop to process all images in the sequence."
   ]
  },
  {
   "cell_type": "code",
   "execution_count": 1,
   "id": "5a2fabec",
   "metadata": {},
   "outputs": [],
   "source": [
    "import os, glob\n",
    "import numpy as np\n",
    "\n",
    "import multiprocessing as mp\n",
    "from multiprocessing import Pool\n",
    "\n",
    "from astropy.table import Table\n",
    "\n",
    "import rawpy"
   ]
  },
  {
   "cell_type": "code",
   "execution_count": 2,
   "id": "f5a47c81",
   "metadata": {},
   "outputs": [],
   "source": [
    "datadir = '../astrophotography_data/MilkyWayPrettyBoy/12800/light/'"
   ]
  },
  {
   "cell_type": "markdown",
   "id": "7f7c10a7",
   "metadata": {},
   "source": [
    "## Read last table in sequence, and prototype image"
   ]
  },
  {
   "cell_type": "markdown",
   "id": "739b6749",
   "metadata": {},
   "source": [
    "Starting with the last table ensures that we get always the same stars along the entire sequence. Offset tables at the beginning of the sequence may include stars that are dropped later on."
   ]
  },
  {
   "cell_type": "code",
   "execution_count": 3,
   "id": "a9fedbdd",
   "metadata": {},
   "outputs": [],
   "source": [
    "# last table in sequence\n",
    "table_list = glob.glob(datadir + '/*.offsets_table.fits')\n",
    "table_list.sort()\n",
    "last = table_list[-1]\n",
    "offsets_table = Table.read(last)"
   ]
  },
  {
   "cell_type": "code",
   "execution_count": 4,
   "id": "7c93ba29",
   "metadata": {},
   "outputs": [
    {
     "name": "stdout",
     "output_type": "stream",
     "text": [
      "(2848, 4256)\n",
      "4256 2848\n"
     ]
    }
   ],
   "source": [
    "# prototype image (used to define array size)\n",
    "image_name = last.split('/')[-1]\n",
    "image_name = image_name.replace('.offsets_table.fits', '.ARW')\n",
    "image_name = os.path.join(datadir, image_name)\n",
    "raw = rawpy.imread(image_name)\n",
    "imarray = raw.raw_image_visible.astype(float)\n",
    "\n",
    "# this makes indices consistent with daofind-defined centroids\n",
    "nx = imarray.shape[1]\n",
    "ny = imarray.shape[0]\n",
    "\n",
    "print(imarray.shape)\n",
    "print(nx, ny)"
   ]
  },
  {
   "cell_type": "markdown",
   "id": "3e63e1be",
   "metadata": {},
   "source": [
    "## Create output arrays and get data from offsets table"
   ]
  },
  {
   "cell_type": "code",
   "execution_count": 5,
   "id": "a1493ada",
   "metadata": {},
   "outputs": [],
   "source": [
    "offset_array_x = np.asarray(imarray) * 0.0\n",
    "offset_array_y = np.asarray(imarray) * 0.0"
   ]
  },
  {
   "cell_type": "code",
   "execution_count": 6,
   "id": "457c25ac",
   "metadata": {},
   "outputs": [],
   "source": [
    "centroid_x = offsets_table['xcentroid'].data\n",
    "centroid_y = offsets_table['ycentroid'].data\n",
    "offset_x = offsets_table['xoffset'].data\n",
    "offset_y = offsets_table['yoffset'].data"
   ]
  },
  {
   "cell_type": "markdown",
   "id": "d2fc1ba8",
   "metadata": {},
   "source": [
    "## Functions"
   ]
  },
  {
   "cell_type": "code",
   "execution_count": 7,
   "id": "9668f5d0",
   "metadata": {},
   "outputs": [],
   "source": [
    "# Comparison functions\n",
    "gt_zero = lambda x: x > 0.0\n",
    "lt_zero = lambda x: x < 0.0\n",
    "\n",
    "# Gets the index of the closest star in table. \n",
    "# The differences are in the sense pixel - star centroid.\n",
    "# The comparison functions define from which quadrant the star is drawn from.\n",
    "def closest(diff_x, diff_y, compare_x, compare_y):\n",
    "    # Compute mask that masks out everything that is outside \n",
    "    # the quadrant defined by the comparison functions\n",
    "    mask_x = np.where(compare_x(diff_x), 1, 0)\n",
    "    mask_y = np.where(compare_y(diff_y), 1, 0)\n",
    "    mask = mask_x * mask_y\n",
    "\n",
    "    # Get index of star at minimum distance\n",
    "    distance = np.sqrt((diff_x * diff_x + diff_y * diff_y)) * mask\n",
    "    if np.nonzero(distance)[0].size > 0:\n",
    "        mindist = np.min(distance[np.nonzero(distance)])\n",
    "        index = np.where(distance == mindist )[0][0]\n",
    "        return index, mindist\n",
    "    else:\n",
    "        return -1, 0.0"
   ]
  },
  {
   "cell_type": "markdown",
   "id": "dc8bfd3c",
   "metadata": {},
   "source": [
    "### Parallelization functions"
   ]
  },
  {
   "cell_type": "markdown",
   "id": "ade2bc3f",
   "metadata": {},
   "source": [
    "The offset computation for each individual pixel is prohibitive without parallelization."
   ]
  },
  {
   "cell_type": "code",
   "execution_count": 8,
   "id": "0b155724",
   "metadata": {},
   "outputs": [],
   "source": [
    "# Callback to collect results from workers into sections of the output arrays\n",
    "def collect_result(results):\n",
    "    \n",
    "    x0 = results['x0']\n",
    "    y0 = results['y0']\n",
    "    nx = results['size_x']\n",
    "    ny = results['size_y']\n",
    "\n",
    "    offset_array_section_x = results['offset_array_x']\n",
    "    offset_array_section_y = results['offset_array_y']\n",
    "    \n",
    "    print(\"offset_array_x.shape:  \", offset_array_x.shape)\n",
    "    \n",
    "    offset_array_x[y0:y0+ny,x0:x0+nx] = offset_array_section_x\n",
    "    offset_array_y[y0:y0+ny,x0:x0+nx] = offset_array_section_y\n",
    "\n",
    "class Worker:\n",
    "    '''\n",
    "    A class with callable instances that execute the offset calculation\n",
    "    algorithm over a section of the input image. It provides the callable \n",
    "    for the `Pool.apply_async` function, and also holds all parameters \n",
    "    necessary to perform the calculation.\n",
    "    '''\n",
    "    def __init__(self, x0, y0, size_x, size_y, step_x, step_y, centroid_x, centroid_y, \n",
    "                offset_x, offset_y):\n",
    "        '''\n",
    "        Parameters:\n",
    "        \n",
    "        x0, y0 - top left pixel of the image section designated for this instance\n",
    "        size_x, size_y - size of the image section\n",
    "        step_x - step used in the x direction when looping over pixels\n",
    "        step_y - step used in the y direction when looping over pixels\n",
    "        centroid_x - 1-D data from the `xcentroid` column in the offsets table \n",
    "        centroid_y - 1-D data from the `ycentroid` column in the offsets table \n",
    "        offset_x - 1-D data from the `xoffset` column in the offsets table \n",
    "        offset_y - 1-D data from the `yoffset` column in the offsets table \n",
    "        \n",
    "        Returns:\n",
    "        \n",
    "        dict with output arrays. To be collected by a callback function. \n",
    "        '''\n",
    "        self.x0 = x0\n",
    "        self.y0 = y0\n",
    "        self.size_x = size_x\n",
    "        self.size_y = size_y\n",
    "        self.step_x = step_x\n",
    "        self.step_y = step_y\n",
    "\n",
    "        self.centroid_x = centroid_x\n",
    "        self.centroid_y = centroid_y\n",
    "        self.offset_x = offset_x\n",
    "        self.offset_y = offset_y\n",
    "        \n",
    "        # create local output arrays\n",
    "        self.offset_array_x = np.zeros(shape=(self.size_y, self.size_x))\n",
    "        self.offset_array_y = np.zeros(shape=(self.size_y, self.size_x))\n",
    "        \n",
    "        print(self.offset_array_x.shape)\n",
    "\n",
    "    def __call__(self):\n",
    "#         max_x = self.x0 + self.size_x - self.step_x\n",
    "#         max_y = self.y0 + self.size_y - self.step_y\n",
    "        \n",
    "#         print(\"max: \", max_x, max_y)\n",
    "\n",
    "#         for i in range(self.x0, max_x, self.step_x):\n",
    "#             for j in range(self.y0, max_y, self.step_y):\n",
    "\n",
    "        for i in range(0, self.size_x, self.step_x):\n",
    "            for j in range(0, self.size_y, self.step_y):\n",
    "                \n",
    "#                 print(j)\n",
    "        # for i in range(2000, 2001):\n",
    "        #     for j in range(1000, 1003):\n",
    "\n",
    "                pixel_x = int(i + self.x0)\n",
    "                pixel_y = int(j + self.y0)\n",
    "\n",
    "                diff_x = pixel_x - self.centroid_x\n",
    "                diff_y = pixel_y - self.centroid_y\n",
    "\n",
    "                index = np.array(range(4), dtype=int)\n",
    "                dist  = np.array(range(4), dtype=float)\n",
    "\n",
    "                # get index and distance of the closest star, one per quadrant\n",
    "                index[0], dist[0] = closest(diff_x, diff_y, gt_zero, gt_zero)\n",
    "                index[1], dist[1] = closest(diff_x, diff_y, lt_zero, gt_zero)\n",
    "                index[2], dist[2] = closest(diff_x, diff_y, gt_zero, lt_zero)\n",
    "                index[3], dist[3] = closest(diff_x, diff_y, lt_zero, lt_zero)\n",
    "\n",
    "                # need a cleanup here. Negative indices, zeroed distances.\n",
    "\n",
    "                # weighted average of the offset values. The weight is the inverse distance pixel-star.\n",
    "                sumweights = 0.0\n",
    "                for k in range(len(dist)):\n",
    "                    if dist[k] > 0.:\n",
    "                        sumweights += 1./dist[k]\n",
    "                        \n",
    "                weighted_offset_x = 0.0\n",
    "                weighted_offset_y = 0.0\n",
    "\n",
    "                for k in range(len(index)):\n",
    "                    if index[k] > 0:\n",
    "                        weighted_offset_x += self.offset_x[index[k]] * (1./dist[k] / sumweights)\n",
    "                        weighted_offset_y += self.offset_y[index[k]] * (1./dist[k] / sumweights)\n",
    "\n",
    "                self.offset_array_x[j][i] = weighted_offset_x\n",
    "                self.offset_array_y[j][i] = weighted_offset_y\n",
    "        \n",
    "        # return the local output arrays with offsets for this section of the image,\n",
    "        # plus metadata to locate the section on the full offsets arrays.\n",
    "        return {'x0': self.x0,\n",
    "                'y0': self.y0,\n",
    "                'size_x': self.size_x,\n",
    "                'size_y': self.size_y,\n",
    "                'offset_array_x': self.offset_array_x,\n",
    "                'offset_array_y': self.offset_array_y\n",
    "               }"
   ]
  },
  {
   "cell_type": "markdown",
   "id": "9d6af24a",
   "metadata": {},
   "source": [
    "## Populate output arays"
   ]
  },
  {
   "cell_type": "code",
   "execution_count": 9,
   "id": "3d52e348",
   "metadata": {
    "scrolled": false
   },
   "outputs": [
    {
     "name": "stdout",
     "output_type": "stream",
     "text": [
      "(2848, 532)\n",
      "(2848, 532)\n",
      "(2848, 532)\n",
      "(2848, 532)\n",
      "(2848, 532)\n",
      "(2848, 532)\n",
      "(2848, 532)\n",
      "(2848, 532)\n",
      "offset_array_x.shape:   (2848, 4256)\n",
      "offset_array_x.shape:   (2848, 4256)\n",
      "offset_array_x.shape:   (2848, 4256)\n",
      "offset_array_x.shape:   (2848, 4256)\n",
      "offset_array_x.shape:   (2848, 4256)\n",
      "offset_array_x.shape:   (2848, 4256)\n",
      "offset_array_x.shape:   (2848, 4256)\n",
      "offset_array_x.shape:   (2848, 4256)\n"
     ]
    }
   ],
   "source": [
    "# each thread runs over a subsection of the image\n",
    "# w1 = Worker(0,           0, int(nx/4), ny, 5, 5, centroid_x, centroid_y, offset_x, offset_y)\n",
    "# w2 = Worker(int(nx/4),   0, int(nx/4), ny, 5, 5, centroid_x, centroid_y, offset_x, offset_y)\n",
    "# w3 = Worker(int(nx/2),   0, int(nx/4), ny, 5, 5, centroid_x, centroid_y, offset_x, offset_y)\n",
    "# w4 = Worker(int(3*nx/4), 0, int(nx/4), ny, 5, 5, centroid_x, centroid_y, offset_x, offset_y)\n",
    "\n",
    "# number of processors\n",
    "nproc = 8\n",
    "\n",
    "results = []\n",
    "pool = Pool(nproc)\n",
    "\n",
    "for p in range(nproc):\n",
    "    worker = Worker(int(p*nx/nproc), 0, int(nx/nproc), ny, 2, 2, centroid_x, centroid_y, offset_x, offset_y)\n",
    "    r = pool.apply_async(worker, callback=collect_result)\n",
    "    results.append(r)\n",
    "    \n",
    "    \n",
    "# r = pool.apply_async(w1, callback=collect_result)\n",
    "# results.append(r)\n",
    "# r = pool.apply_async(w2, callback=collect_result)\n",
    "# results.append(r)\n",
    "# r = pool.apply_async(w3, callback=collect_result)\n",
    "# results.append(r)\n",
    "# r = pool.apply_async(w4, callback=collect_result)\n",
    "# results.append(r)\n",
    "\n",
    "for r in results:\n",
    "    r.wait()\n",
    "\n",
    "pool.close()\n",
    "\n",
    "# alternate, non-threaded version to test the worker code\n",
    "# collect_result(w1())\n",
    "# collect_result(w2())"
   ]
  },
  {
   "cell_type": "code",
   "execution_count": 10,
   "id": "fed954c1",
   "metadata": {},
   "outputs": [
    {
     "data": {
      "text/plain": [
       "array([[-24.72381179,   0.        , -24.72757489,   0.        ,\n",
       "        -24.73144622,   0.        , -24.8062214 ,   0.        ,\n",
       "        -24.80472781,   0.        ],\n",
       "       [  0.        ,   0.        ,   0.        ,   0.        ,\n",
       "          0.        ,   0.        ,   0.        ,   0.        ,\n",
       "          0.        ,   0.        ],\n",
       "       [-24.69539601,   0.        , -24.69874399,   0.        ,\n",
       "        -24.70226868,   0.        , -24.78021813,   0.        ,\n",
       "        -24.77850063,   0.        ],\n",
       "       [  0.        ,   0.        ,   0.        ,   0.        ,\n",
       "          0.        ,   0.        ,   0.        ,   0.        ,\n",
       "          0.        ,   0.        ],\n",
       "       [-24.66661972,   0.        , -24.6696302 ,   0.        ,\n",
       "        -24.67289365,   0.        , -24.57851558,   0.        ,\n",
       "        -24.57737961,   0.        ],\n",
       "       [  0.        ,   0.        ,   0.        ,   0.        ,\n",
       "          0.        ,   0.        ,   0.        ,   0.        ,\n",
       "          0.        ,   0.        ],\n",
       "       [-24.63753924,   0.        , -24.64027496,   0.        ,\n",
       "        -24.64334568,   0.        , -24.54452135,   0.        ,\n",
       "        -24.54302175,   0.        ],\n",
       "       [  0.        ,   0.        ,   0.        ,   0.        ,\n",
       "          0.        ,   0.        ,   0.        ,   0.        ,\n",
       "          0.        ,   0.        ],\n",
       "       [-24.60820211,   0.        , -24.61071103,   0.        ,\n",
       "        -24.61364187,   0.        , -24.51053676,   0.        ,\n",
       "        -24.50876056,   0.        ],\n",
       "       [  0.        ,   0.        ,   0.        ,   0.        ,\n",
       "          0.        ,   0.        ,   0.        ,   0.        ,\n",
       "          0.        ,   0.        ]])"
      ]
     },
     "execution_count": 10,
     "metadata": {},
     "output_type": "execute_result"
    }
   ],
   "source": [
    "offset_array_x[1500:1510,1500:1510]"
   ]
  },
  {
   "cell_type": "code",
   "execution_count": 11,
   "id": "b260b2aa",
   "metadata": {},
   "outputs": [
    {
     "data": {
      "text/plain": [
       "array([[-33.84440213,   0.        , -33.87840953,   0.        ,\n",
       "        -33.91298056,   0.        , -33.94809179,   0.        ,\n",
       "        -33.98371768,   0.        ],\n",
       "       [  0.        ,   0.        ,   0.        ,   0.        ,\n",
       "          0.        ,   0.        ,   0.        ,   0.        ,\n",
       "          0.        ,   0.        ],\n",
       "       [-33.82014   ,   0.        , -33.85398904,   0.        ,\n",
       "        -33.88839183,   0.        , -33.92332209,   0.        ,\n",
       "        -33.95875131,   0.        ],\n",
       "       [  0.        ,   0.        ,   0.        ,   0.        ,\n",
       "          0.        ,   0.        ,   0.        ,   0.        ,\n",
       "          0.        ,   0.        ],\n",
       "       [-33.79520025,   0.        , -33.82890549,   0.        ,\n",
       "        -33.8631557 ,   0.        , -33.89792172,   0.        ,\n",
       "        -33.93317221,   0.        ],\n",
       "       [  0.        ,   0.        ,   0.        ,   0.        ,\n",
       "          0.        ,   0.        ,   0.        ,   0.        ,\n",
       "          0.        ,   0.        ],\n",
       "       [-33.76959825,   0.        , -33.80317745,   0.        ,\n",
       "        -33.83729396,   0.        , -33.87191583,   0.        ,\n",
       "        -33.90700891,   0.        ],\n",
       "       [  0.        ,   0.        ,   0.        ,   0.        ,\n",
       "          0.        ,   0.        ,   0.        ,   0.        ,\n",
       "          0.        ,   0.        ],\n",
       "       [-33.74334881,   0.        , -33.77682282,   0.        ,\n",
       "        -33.8108277 ,   0.        , -33.8453287 ,   0.        ,\n",
       "        -33.88028894,   0.        ],\n",
       "       [  0.        ,   0.        ,   0.        ,   0.        ,\n",
       "          0.        ,   0.        ,   0.        ,   0.        ,\n",
       "          0.        ,   0.        ]])"
      ]
     },
     "execution_count": 11,
     "metadata": {},
     "output_type": "execute_result"
    }
   ],
   "source": [
    "offset_array_x[1500:1510,3500:3510]"
   ]
  },
  {
   "cell_type": "code",
   "execution_count": 12,
   "id": "213eebef",
   "metadata": {},
   "outputs": [],
   "source": [
    "# offset_array_x_2[1500:1510,1500:1510]"
   ]
  },
  {
   "cell_type": "code",
   "execution_count": 13,
   "id": "7135a3a7",
   "metadata": {},
   "outputs": [],
   "source": [
    "# offset_array_x_2[1500:1510,3500:3510]"
   ]
  }
 ],
 "metadata": {
  "kernelspec": {
   "display_name": "Python 3",
   "language": "python",
   "name": "python3"
  },
  "language_info": {
   "codemirror_mode": {
    "name": "ipython",
    "version": 3
   },
   "file_extension": ".py",
   "mimetype": "text/x-python",
   "name": "python",
   "nbconvert_exporter": "python",
   "pygments_lexer": "ipython3",
   "version": "3.7.10"
  }
 },
 "nbformat": 4,
 "nbformat_minor": 5
}
