{
 "cells": [
  {
   "cell_type": "markdown",
   "id": "1993a8b8",
   "metadata": {},
   "source": [
    "# Image Offsets: Create offset arrays used by drizzle"
   ]
  },
  {
   "cell_type": "markdown",
   "id": "0f04ec8a",
   "metadata": {},
   "source": [
    "The offset tables created by a previous notebook (Offsets_2) are used to generate the X and Y offset arrays used by drizzle.\n",
    "\n",
    "Each offset table will generate 2 arrays, for X and Y respectively, stored as FITS image of short float type.\n",
    "\n",
    "The algorithms were developed in the Timing notebook; here, they are cast as callable functions used in a loop to process all images in the sequence."
   ]
  },
  {
   "cell_type": "code",
   "execution_count": 1,
   "id": "5a2fabec",
   "metadata": {},
   "outputs": [],
   "source": [
    "import os, glob\n",
    "import numpy as np\n",
    "\n",
    "from astropy.table import Table\n",
    "\n",
    "import rawpy"
   ]
  },
  {
   "cell_type": "code",
   "execution_count": 2,
   "id": "f5a47c81",
   "metadata": {},
   "outputs": [],
   "source": [
    "datadir = '../astrophotography_data/MilkyWayPrettyBoy/12800/light/'"
   ]
  },
  {
   "cell_type": "markdown",
   "id": "fae480c2",
   "metadata": {},
   "source": [
    "## Functions"
   ]
  },
  {
   "cell_type": "code",
   "execution_count": 3,
   "id": "f59f515a",
   "metadata": {},
   "outputs": [],
   "source": [
    "# Comparison functions\n",
    "gt_zero = lambda x: x > 0.0\n",
    "lt_zero = lambda x: x < 0.0\n",
    "\n",
    "# Gets the index of the closest star in table. \n",
    "# The differences are in the sense pixel - star centroid.\n",
    "# The comparison functions define from which quadrant the star is drawn from.\n",
    "def closest(diff_x, diff_y, compare_x, compare_y):\n",
    "    # Compute mask that masks out everything that is outside \n",
    "    # the quadrant defined by the comparison functions\n",
    "    mask_x = np.where(compare_x(diff_x), 1, 0)\n",
    "    mask_y = np.where(compare_y(diff_y), 1, 0)\n",
    "    mask = mask_x * mask_y\n",
    "\n",
    "    # Get index of star at minimum distance\n",
    "    distance = np.sqrt((diff_x * diff_x + diff_y * diff_y)) * mask\n",
    "    if np.nonzero(distance)[0].size > 0:\n",
    "        mindist = np.min(distance[np.nonzero(distance)])\n",
    "        index = np.where(distance == mindist )[0][0]\n",
    "        return index, mindist\n",
    "    else:\n",
    "        return -1, 0.0"
   ]
  },
  {
   "cell_type": "markdown",
   "id": "7f7c10a7",
   "metadata": {},
   "source": [
    "## Read last table in sequence, and prototype image"
   ]
  },
  {
   "cell_type": "markdown",
   "id": "739b6749",
   "metadata": {},
   "source": [
    "Starting with the last table ensures that we get always the same stars along the entire sequence. Offset tables at the beginning of the sequence may include stars that are dropped later on."
   ]
  },
  {
   "cell_type": "code",
   "execution_count": 4,
   "id": "a9fedbdd",
   "metadata": {},
   "outputs": [],
   "source": [
    "# last table in sequence\n",
    "table_list = glob.glob(datadir + '/*.offsets_table.fits')\n",
    "table_list.sort()\n",
    "last = table_list[-1]\n",
    "offsets_table = Table.read(last)"
   ]
  },
  {
   "cell_type": "code",
   "execution_count": 5,
   "id": "7c93ba29",
   "metadata": {},
   "outputs": [
    {
     "name": "stdout",
     "output_type": "stream",
     "text": [
      "4256 2848\n"
     ]
    }
   ],
   "source": [
    "# prototype image (used to define array size)\n",
    "image_name = last.split('/')[-1]\n",
    "image_name = image_name.replace('.offsets_table.fits', '.ARW')\n",
    "image_name = os.path.join(datadir, image_name)\n",
    "raw = rawpy.imread(image_name)\n",
    "imarray = raw.raw_image_visible.astype(float)\n",
    "\n",
    "ny = imarray.shape[0]\n",
    "nx = imarray.shape[1]\n",
    "\n",
    "print(nx, ny)"
   ]
  },
  {
   "cell_type": "markdown",
   "id": "3e63e1be",
   "metadata": {},
   "source": [
    "## Create and populate arrays with interpolated offsets"
   ]
  },
  {
   "cell_type": "code",
   "execution_count": 6,
   "id": "a1493ada",
   "metadata": {},
   "outputs": [],
   "source": [
    "offset_array_x = np.asarray(imarray) * 0.0\n",
    "offset_array_y = np.asarray(imarray) * 0.0"
   ]
  },
  {
   "cell_type": "code",
   "execution_count": 7,
   "id": "457c25ac",
   "metadata": {},
   "outputs": [],
   "source": [
    "centroid_x = offsets_table['xcentroid'].data\n",
    "centroid_y = offsets_table['ycentroid'].data\n",
    "offset_x = offsets_table['xoffset'].data\n",
    "offset_y = offsets_table['yoffset'].data"
   ]
  },
  {
   "cell_type": "code",
   "execution_count": 8,
   "id": "3d52e348",
   "metadata": {
    "scrolled": false
   },
   "outputs": [
    {
     "name": "stderr",
     "output_type": "stream",
     "text": [
      "/Users/busko/Projects/software/miniconda3_2/envs/raw/lib/python3.7/site-packages/ipykernel_launcher.py:24: RuntimeWarning: divide by zero encountered in double_scalars\n",
      "/Users/busko/Projects/software/miniconda3_2/envs/raw/lib/python3.7/site-packages/ipykernel_launcher.py:27: RuntimeWarning: divide by zero encountered in double_scalars\n",
      "/Users/busko/Projects/software/miniconda3_2/envs/raw/lib/python3.7/site-packages/ipykernel_launcher.py:27: RuntimeWarning: invalid value encountered in double_scalars\n",
      "/Users/busko/Projects/software/miniconda3_2/envs/raw/lib/python3.7/site-packages/ipykernel_launcher.py:31: RuntimeWarning: divide by zero encountered in double_scalars\n",
      "/Users/busko/Projects/software/miniconda3_2/envs/raw/lib/python3.7/site-packages/ipykernel_launcher.py:31: RuntimeWarning: invalid value encountered in double_scalars\n",
      "/Users/busko/Projects/software/miniconda3_2/envs/raw/lib/python3.7/site-packages/ipykernel_launcher.py:28: RuntimeWarning: divide by zero encountered in double_scalars\n",
      "/Users/busko/Projects/software/miniconda3_2/envs/raw/lib/python3.7/site-packages/ipykernel_launcher.py:28: RuntimeWarning: invalid value encountered in double_scalars\n",
      "/Users/busko/Projects/software/miniconda3_2/envs/raw/lib/python3.7/site-packages/ipykernel_launcher.py:32: RuntimeWarning: divide by zero encountered in double_scalars\n",
      "/Users/busko/Projects/software/miniconda3_2/envs/raw/lib/python3.7/site-packages/ipykernel_launcher.py:32: RuntimeWarning: invalid value encountered in double_scalars\n"
     ]
    }
   ],
   "source": [
    "for i in range(0, nx, 30):\n",
    "    for j in range(0, ny, 30):\n",
    "# for i in range(2000, 2001):\n",
    "#     for j in range(1000, 1003):\n",
    "\n",
    "        pixel_x = i\n",
    "        pixel_y = j\n",
    "\n",
    "        diff_x = pixel_x - centroid_x\n",
    "        diff_y = pixel_y - centroid_y\n",
    "        \n",
    "        index = np.array(range(4), dtype=int)\n",
    "        dist  = np.array(range(4), dtype=float)\n",
    "        \n",
    "        # get index and distance of the closest star, one per quadrant\n",
    "        index[0], dist[0] = closest(diff_x, diff_y, gt_zero, gt_zero)\n",
    "        index[1], dist[1] = closest(diff_x, diff_y, lt_zero, gt_zero)\n",
    "        index[2], dist[2] = closest(diff_x, diff_y, gt_zero, lt_zero)\n",
    "        index[3], dist[3] = closest(diff_x, diff_y, lt_zero, lt_zero)\n",
    "        \n",
    "        # need a cleanup here. Negative indices, zeroed distances.\n",
    "\n",
    "        # weighted average of the offset values. The weight is the inverse distance pixel-star.\n",
    "        sumweights = 1./dist[0] + 1./dist[1] + 1./dist[2] + 1./dist[3]\n",
    "        weighted_offset_x = offset_x[index[0]] * (1./dist[0] / sumweights) + \\\n",
    "                            offset_x[index[1]] * (1./dist[1] / sumweights) + \\\n",
    "                            offset_x[index[2]] * (1./dist[2] / sumweights) + \\\n",
    "                            offset_x[index[3]] * (1./dist[3] / sumweights)\n",
    "        weighted_offset_y = offset_y[index[0]] * (1./dist[0] / sumweights) + \\\n",
    "                            offset_y[index[1]] * (1./dist[1] / sumweights) + \\\n",
    "                            offset_y[index[2]] * (1./dist[2] / sumweights) + \\\n",
    "                            offset_y[index[3]] * (1./dist[3] / sumweights)\n",
    "\n",
    "        offset_array_x[j][i] = weighted_offset_x\n",
    "        offset_array_y[j][i] = weighted_offset_y\n",
    "\n",
    "\n",
    "\n",
    "        \n",
    "\n"
   ]
  },
  {
   "cell_type": "code",
   "execution_count": 13,
   "id": "fed954c1",
   "metadata": {},
   "outputs": [
    {
     "data": {
      "text/plain": [
       "array([[  0.        ,   0.        ,   0.        ,   0.        ,\n",
       "          0.        ,   0.        ,   0.        ,   0.        ,\n",
       "          0.        ,   0.        ,   0.        ,   0.        ,\n",
       "          0.        ,   0.        ,   0.        ,   0.        ,\n",
       "          0.        ,   0.        ,   0.        ,   0.        ],\n",
       "       [  0.        ,   0.        ,   0.        ,   0.        ,\n",
       "          0.        ,   0.        ,   0.        ,   0.        ,\n",
       "          0.        ,   0.        ,   0.        ,   0.        ,\n",
       "          0.        ,   0.        ,   0.        ,   0.        ,\n",
       "          0.        ,   0.        ,   0.        ,   0.        ],\n",
       "       [  0.        ,   0.        ,   0.        ,   0.        ,\n",
       "          0.        ,   0.        ,   0.        ,   0.        ,\n",
       "          0.        ,   0.        ,   0.        ,   0.        ,\n",
       "          0.        ,   0.        ,   0.        ,   0.        ,\n",
       "          0.        ,   0.        ,   0.        ,   0.        ],\n",
       "       [  0.        ,   0.        ,   0.        ,   0.        ,\n",
       "          0.        ,   0.        ,   0.        ,   0.        ,\n",
       "          0.        ,   0.        ,   0.        ,   0.        ,\n",
       "          0.        ,   0.        ,   0.        ,   0.        ,\n",
       "          0.        ,   0.        ,   0.        ,   0.        ],\n",
       "       [  0.        ,   0.        ,   0.        ,   0.        ,\n",
       "          0.        ,   0.        ,   0.        ,   0.        ,\n",
       "          0.        ,   0.        ,   0.        ,   0.        ,\n",
       "          0.        ,   0.        ,   0.        ,   0.        ,\n",
       "          0.        ,   0.        ,   0.        ,   0.        ],\n",
       "       [  0.        ,   0.        ,   0.        ,   0.        ,\n",
       "          0.        ,   0.        ,   0.        ,   0.        ,\n",
       "          0.        ,   0.        ,   0.        ,   0.        ,\n",
       "          0.        ,   0.        ,   0.        ,   0.        ,\n",
       "          0.        ,   0.        ,   0.        ,   0.        ],\n",
       "       [  0.        ,   0.        ,   0.        ,   0.        ,\n",
       "          0.        ,   0.        ,   0.        ,   0.        ,\n",
       "          0.        ,   0.        ,   0.        ,   0.        ,\n",
       "          0.        ,   0.        ,   0.        ,   0.        ,\n",
       "          0.        ,   0.        ,   0.        ,   0.        ],\n",
       "       [  0.        ,   0.        ,   0.        ,   0.        ,\n",
       "          0.        ,   0.        ,   0.        ,   0.        ,\n",
       "          0.        ,   0.        ,   0.        ,   0.        ,\n",
       "          0.        ,   0.        ,   0.        ,   0.        ,\n",
       "          0.        ,   0.        ,   0.        ,   0.        ],\n",
       "       [  0.        ,   0.        ,   0.        ,   0.        ,\n",
       "          0.        ,   0.        ,   0.        ,   0.        ,\n",
       "          0.        ,   0.        ,   0.        ,   0.        ,\n",
       "          0.        ,   0.        ,   0.        ,   0.        ,\n",
       "          0.        ,   0.        ,   0.        ,   0.        ],\n",
       "       [  0.        ,   0.        ,   0.        ,   0.        ,\n",
       "          0.        ,   0.        ,   0.        ,   0.        ,\n",
       "          0.        ,   0.        ,   0.        ,   0.        ,\n",
       "          0.        ,   0.        ,   0.        ,   0.        ,\n",
       "          0.        ,   0.        ,   0.        ,   0.        ],\n",
       "       [  0.        ,   0.        ,   0.        ,   0.        ,\n",
       "          0.        ,   0.        ,   0.        ,   0.        ,\n",
       "          0.        ,   0.        , -14.17931224,   0.        ,\n",
       "          0.        ,   0.        ,   0.        ,   0.        ,\n",
       "          0.        ,   0.        ,   0.        ,   0.        ],\n",
       "       [  0.        ,   0.        ,   0.        ,   0.        ,\n",
       "          0.        ,   0.        ,   0.        ,   0.        ,\n",
       "          0.        ,   0.        ,   0.        ,   0.        ,\n",
       "          0.        ,   0.        ,   0.        ,   0.        ,\n",
       "          0.        ,   0.        ,   0.        ,   0.        ],\n",
       "       [  0.        ,   0.        ,   0.        ,   0.        ,\n",
       "          0.        ,   0.        ,   0.        ,   0.        ,\n",
       "          0.        ,   0.        ,   0.        ,   0.        ,\n",
       "          0.        ,   0.        ,   0.        ,   0.        ,\n",
       "          0.        ,   0.        ,   0.        ,   0.        ],\n",
       "       [  0.        ,   0.        ,   0.        ,   0.        ,\n",
       "          0.        ,   0.        ,   0.        ,   0.        ,\n",
       "          0.        ,   0.        ,   0.        ,   0.        ,\n",
       "          0.        ,   0.        ,   0.        ,   0.        ,\n",
       "          0.        ,   0.        ,   0.        ,   0.        ],\n",
       "       [  0.        ,   0.        ,   0.        ,   0.        ,\n",
       "          0.        ,   0.        ,   0.        ,   0.        ,\n",
       "          0.        ,   0.        ,   0.        ,   0.        ,\n",
       "          0.        ,   0.        ,   0.        ,   0.        ,\n",
       "          0.        ,   0.        ,   0.        ,   0.        ],\n",
       "       [  0.        ,   0.        ,   0.        ,   0.        ,\n",
       "          0.        ,   0.        ,   0.        ,   0.        ,\n",
       "          0.        ,   0.        ,   0.        ,   0.        ,\n",
       "          0.        ,   0.        ,   0.        ,   0.        ,\n",
       "          0.        ,   0.        ,   0.        ,   0.        ],\n",
       "       [  0.        ,   0.        ,   0.        ,   0.        ,\n",
       "          0.        ,   0.        ,   0.        ,   0.        ,\n",
       "          0.        ,   0.        ,   0.        ,   0.        ,\n",
       "          0.        ,   0.        ,   0.        ,   0.        ,\n",
       "          0.        ,   0.        ,   0.        ,   0.        ],\n",
       "       [  0.        ,   0.        ,   0.        ,   0.        ,\n",
       "          0.        ,   0.        ,   0.        ,   0.        ,\n",
       "          0.        ,   0.        ,   0.        ,   0.        ,\n",
       "          0.        ,   0.        ,   0.        ,   0.        ,\n",
       "          0.        ,   0.        ,   0.        ,   0.        ],\n",
       "       [  0.        ,   0.        ,   0.        ,   0.        ,\n",
       "          0.        ,   0.        ,   0.        ,   0.        ,\n",
       "          0.        ,   0.        ,   0.        ,   0.        ,\n",
       "          0.        ,   0.        ,   0.        ,   0.        ,\n",
       "          0.        ,   0.        ,   0.        ,   0.        ],\n",
       "       [  0.        ,   0.        ,   0.        ,   0.        ,\n",
       "          0.        ,   0.        ,   0.        ,   0.        ,\n",
       "          0.        ,   0.        ,   0.        ,   0.        ,\n",
       "          0.        ,   0.        ,   0.        ,   0.        ,\n",
       "          0.        ,   0.        ,   0.        ,   0.        ]])"
      ]
     },
     "execution_count": 13,
     "metadata": {},
     "output_type": "execute_result"
    }
   ],
   "source": [
    "offset_array_x[1940:1960,1940:1960]"
   ]
  },
  {
   "cell_type": "code",
   "execution_count": null,
   "id": "b260b2aa",
   "metadata": {},
   "outputs": [],
   "source": []
  }
 ],
 "metadata": {
  "kernelspec": {
   "display_name": "Python 3",
   "language": "python",
   "name": "python3"
  },
  "language_info": {
   "codemirror_mode": {
    "name": "ipython",
    "version": 3
   },
   "file_extension": ".py",
   "mimetype": "text/x-python",
   "name": "python",
   "nbconvert_exporter": "python",
   "pygments_lexer": "ipython3",
   "version": "3.7.10"
  }
 },
 "nbformat": 4,
 "nbformat_minor": 5
}
