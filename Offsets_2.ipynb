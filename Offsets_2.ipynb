{
 "cells": [
  {
   "cell_type": "markdown",
   "metadata": {},
   "source": [
    "# Image Offsets: Process sequence"
   ]
  },
  {
   "cell_type": "markdown",
   "metadata": {},
   "source": [
    "This notebook transforms the procedures developed in `Offsets_1.ipynb` into callable functions. \n",
    "\n",
    "These functions are used in a loop to process an entire sequence of images. Results are later examined in plots."
   ]
  },
  {
   "cell_type": "code",
   "execution_count": null,
   "metadata": {},
   "outputs": [],
   "source": [
    "%pylab notebook\n",
    "%matplotlib notebook\n",
    "\n",
    "import os, glob\n",
    "\n",
    "import numpy as np\n",
    "from matplotlib.pyplot import imshow\n",
    "import matplotlib.pyplot as plt\n",
    "\n",
    "from scipy.optimize import minimize\n",
    "from astropy.table import Table, vstack\n",
    "from astropy.stats import SigmaClip\n",
    "\n",
    "import photutils\n",
    "from photutils import Background2D, ModeEstimatorBackground, DAOStarFinder\n",
    "\n",
    "import rawpy"
   ]
  },
  {
   "cell_type": "code",
   "execution_count": null,
   "metadata": {},
   "outputs": [],
   "source": [
    "# parameters for background subtraction and star finding\n",
    "bkg_sigma = 3.0\n",
    "bkg_cell_footprint = (100, 100)\n",
    "bkg_filter = (5, 5)\n",
    "dao_fwhm = 3.0\n",
    "dao_threshold = 10.\n",
    "\n",
    "# operators\n",
    "sigma_clip = SigmaClip(sigma=bkg_sigma)\n",
    "bkg_estimator = ModeEstimatorBackground()"
   ]
  },
  {
   "cell_type": "code",
   "execution_count": null,
   "metadata": {},
   "outputs": [],
   "source": [
    "# 1st test image - this will be the reference image against with subsequent images\n",
    "# will have their offsets computed. We need to read it here to get the camera color \n",
    "# array specification as well.\n",
    "fname = '../astrophotography_data/MilkyWayPrettyBoy/12800/light/DSC03779.ARW'\n",
    "raw = rawpy.imread(fname)\n",
    "imarray = raw.raw_image_visible.astype(float)"
   ]
  },
  {
   "cell_type": "code",
   "execution_count": null,
   "metadata": {},
   "outputs": [],
   "source": [
    "# masks that isolate the RGB pixels - these are camera-dependent and work with all images\n",
    "colors_array = raw.raw_colors_visible\n",
    "\n",
    "red_mask = np.where(colors_array == 0, 1, 0)\n",
    "\n",
    "green_mask_1 = np.where(colors_array == 1, 1, 0)\n",
    "green_mask_2 = np.where(colors_array == 3, 1, 0)\n",
    "green_mask = green_mask_1 | green_mask_2\n",
    "\n",
    "blue_mask = np.where(colors_array == 2, 1, 0)"
   ]
  },
  {
   "cell_type": "code",
   "execution_count": null,
   "metadata": {},
   "outputs": [],
   "source": [
    "# normalization factors for the RGB arrays\n",
    "red_norm = 1.321875  # smooth background\n",
    "green_norm = 1.\n",
    "blue_norm = 1.27695312"
   ]
  },
  {
   "cell_type": "code",
   "execution_count": null,
   "metadata": {},
   "outputs": [],
   "source": [
    "def get_offsets(sources, sources_prev):\n",
    "    sources_out.add_column(np.nan, name='xoffset')\n",
    "    sources_out.add_column(np.nan, name='yoffset')\n",
    "    sources_out.add_column(0, name='ref_row')\n",
    "    sources_out.add_column(0, name='prev_row')\n",
    "\n",
    "    # loop over rows in previous table\n",
    "    for row_index_prev in range(len(sources_prev)):\n",
    "        # index in reference table\n",
    "        ref_row = sources_prev[row_index_prev]['ref_row']\n",
    "\n",
    "        # if previous table does not contain a pointer to the reference \n",
    "        # table, ignore.\n",
    "        if ref_row == 0:\n",
    "            continue\n",
    "\n",
    "        # get position in previous table\n",
    "        x_prev = sources_prev[row_index_prev]['xcentroid']\n",
    "        y_prev = sources_prev[row_index_prev]['ycentroid']\n",
    "\n",
    "        # loop over rows in current table\n",
    "        for row_index in range(len(sources3)):\n",
    "            x = sources[row_index]['xcentroid']\n",
    "            y = sources[row_index]['ycentroid']\n",
    "\n",
    "            # offsets in relation to previous table - these are the ones to check for proximity\n",
    "            x_off_previous = x - x_prev\n",
    "            y_off_previous = y - y_prev\n",
    "\n",
    "            # check for proximity, and store relevant info if found\n",
    "            if abs(x_off_previous) <= 1.5 and abs(y_off_previous) <= 1.5:\n",
    "\n",
    "                # offsets in relation to reference table\n",
    "                sources[row_index]['xoffset'] = x - sources[ref_row]['xcentroid']\n",
    "                sources[row_index]['yoffset'] = y - sources[ref_row]['ycentroid']\n",
    "\n",
    "                # store pointers to rows in reference and previous tables\n",
    "                sources[row_index]['ref_row'] = ref_row\n",
    "                sources[row_index]['prev_row'] = row_index_prev\n",
    "\n",
    "                break # if there is another star that matches the criterion, just ignore it"
   ]
  },
  {
   "cell_type": "code",
   "execution_count": null,
   "metadata": {},
   "outputs": [],
   "source": [
    "def find_stars(image_name, sources_table_previous=None):\n",
    "    \n",
    "    raw = rawpy.imread(image_name)\n",
    "    imarray = raw.raw_image_visible.astype(float)\n",
    "    \n",
    "    # normalize\n",
    "    raw_norm_1 = imarray * (red_mask * red_norm)\n",
    "    raw_norm_2 = raw_norm_1 + imarray * (green_mask * 1.0)\n",
    "    raw_norm = raw_norm_2 + imarray * (blue_mask * blue_norm)\n",
    "\n",
    "    # handle saturated pixels\n",
    "    raw_norm = np.where(imarray > 16380, imarray, raw_norm)\n",
    "\n",
    "    # compute and subtract background\n",
    "    bkg = Background2D(raw_norm, bkg_cell_footprint, filter_size=bkg_filter, sigma_clip=sigma_clip, bkg_estimator=bkg_estimator)\n",
    "    subtracted = raw_norm - bkg.background\n",
    "\n",
    "    # find stars\n",
    "    daofind = DAOStarFinder(fwhm=dao_fwhm, threshold=dao_threshold * bkg.background_rms_median) \n",
    "    sources = daofind(subtracted)\n",
    "    \n",
    "    # keep only the NaN-free entries\n",
    "    has_nan = np.zeros(len(sources), dtype=bool)\n",
    "    xoff = np.array(sources['xoffset'])\n",
    "    has_nan |= np.isnan(xoff)\n",
    "    sources_no_nan = sources[~has_nan]\n",
    "    "
   ]
  },
  {
   "cell_type": "code",
   "execution_count": null,
   "metadata": {
    "scrolled": false
   },
   "outputs": [],
   "source": [
    "# build raw image with \"normalized\" RGB subarrays. Explictly ignore flat field.\n",
    "raw_norm_1 = imarray * (red_mask * red_norm)\n",
    "raw_norm_2 = raw_norm_1 + imarray * (green_mask * green_norm)\n",
    "raw_norm = raw_norm_2 + imarray * (blue_mask * blue_norm)"
   ]
  },
  {
   "cell_type": "code",
   "execution_count": null,
   "metadata": {},
   "outputs": [],
   "source": [
    "# handle saturated pixels\n",
    "raw_norm = np.where(imarray > 16380, imarray, raw_norm)"
   ]
  },
  {
   "cell_type": "code",
   "execution_count": null,
   "metadata": {},
   "outputs": [],
   "source": [
    "plt.figure(figsize=[9, 5])\n",
    "print(np.max(raw_norm))\n",
    "plt.imshow(raw_norm, vmin=0, vmax=2000, cmap='binary')\n",
    "# plt.imshow(raw_norm, vmax=28000, cmap='gist_stern')\n",
    "plt.colorbar()\n",
    "\n",
    "section = raw_norm[750:810,3320:3380]\n",
    "print(\"Relative standard deviation of a smooth patch: \", np.std(section) / np.median(section))"
   ]
  },
  {
   "cell_type": "code",
   "execution_count": null,
   "metadata": {},
   "outputs": [],
   "source": [
    "# estimate background\n",
    "bkg = Background2D(raw_norm, bkg_cell_footprint, filter_size=bkg_filter, sigma_clip=sigma_clip, bkg_estimator=bkg_estimator)"
   ]
  },
  {
   "cell_type": "code",
   "execution_count": null,
   "metadata": {},
   "outputs": [],
   "source": [
    "plt.figure(figsize=[10, 6])\n",
    "plt.imshow(bkg.background, vmin=0, vmax=1000)\n",
    "bkg.plot_meshes(outlines=True, color='#1f77b4')\n",
    "plt.colorbar()"
   ]
  },
  {
   "cell_type": "code",
   "execution_count": null,
   "metadata": {},
   "outputs": [],
   "source": [
    "subtracted = raw_norm - bkg.background"
   ]
  },
  {
   "cell_type": "code",
   "execution_count": null,
   "metadata": {
    "scrolled": false
   },
   "outputs": [],
   "source": [
    "plt.figure(figsize=[10, 6])\n",
    "plt.imshow(subtracted, vmin=0, vmax=800, cmap='binary')\n",
    "plt.colorbar()"
   ]
  },
  {
   "cell_type": "code",
   "execution_count": null,
   "metadata": {},
   "outputs": [],
   "source": [
    "# find star images\n",
    "daofind = DAOStarFinder(fwhm=dao_fwhm, \n",
    "                        threshold=dao_threshold * bkg.background_rms_median)  \n",
    "\n",
    "# can't be too strict with these. Many images are very non-circular \n",
    "# and non-Gaussian due to strong undersampling\n",
    "#                         sharplo=0.1, sharphi=0.8,\n",
    "#                         roundlo=-0.7, roundhi=0.7,\n",
    "\n",
    "sources = daofind(subtracted)  "
   ]
  },
  {
   "cell_type": "code",
   "execution_count": null,
   "metadata": {},
   "outputs": [],
   "source": [
    "for col in sources.colnames:  \n",
    "    sources[col].info.format = '%.4g'  # for consistent table output\n",
    "print(sources)  "
   ]
  },
  {
   "cell_type": "code",
   "execution_count": null,
   "metadata": {},
   "outputs": [],
   "source": [
    "# statistics\n",
    "print(\"Mean roundness: \", np.average(sources['roundness1']), \"stdev: \", np.std(sources['roundness1']))\n",
    "print(\"Mean sharpness: \", np.average(sources['sharpness']), \"stdev: \", np.std(sources['sharpness']))"
   ]
  },
  {
   "cell_type": "code",
   "execution_count": null,
   "metadata": {
    "scrolled": false
   },
   "outputs": [],
   "source": [
    "positions = [(x,y) for x,y in zip(sources['xcentroid'], sources['ycentroid'])]\n",
    "apertures = CircularAperture(positions, r=5.)\n",
    "plt.figure(figsize=[9, 6])\n",
    "plt.imshow(subtracted, vmin=-40, vmax=1300, cmap='binary')\n",
    "plt.colorbar()\n",
    "ap = apertures.plot(color='red')"
   ]
  },
  {
   "cell_type": "markdown",
   "metadata": {},
   "source": [
    "## Statistical analysis"
   ]
  },
  {
   "cell_type": "markdown",
   "metadata": {},
   "source": [
    "These notebook cells (normally not executed) are used to find optimal R and B normalization factors that would minimize roudness (or maximize sharpness)."
   ]
  },
  {
   "cell_type": "code",
   "execution_count": null,
   "metadata": {},
   "outputs": [],
   "source": [
    "# optimization functions\n",
    "def stats(table):\n",
    "    mean_roundness = np.average(table['roundness1'])\n",
    "    mean_sharpness = np.average(table['sharpness'])\n",
    "    \n",
    "    print(mean_roundness, mean_shapness)\n",
    "\n",
    "    return abs(mean_roundness)\n",
    "#     return 1./ mean_sharpness   # maximum shapness\n",
    "\n",
    "def objective_function(coeffs):\n",
    "    \n",
    "    red_norm = coeffs[0]\n",
    "    blue_norm = coeffs[1]\n",
    "    \n",
    "    raw_norm_1 = imarray * (red_mask * red_norm)\n",
    "    raw_norm_2 = raw_norm_1 + imarray * (green_mask * 1.0)\n",
    "    raw_norm = raw_norm_2 + imarray * (blue_mask * blue_norm)\n",
    "    \n",
    "    raw_norm = np.where(imarray > 16380, imarray, raw_norm)\n",
    "    \n",
    "    bkg = Background2D(raw_norm, bkg_cell_footprint, filter_size=bkg_filter, sigma_clip=sigma_clip, bkg_estimator=bkg_estimator)\n",
    "    subtracted = raw_norm - bkg.background\n",
    "    \n",
    "    daofind = DAOStarFinder(fwhm=dao_fwhm, threshold=dao_threshold * bkg.background_rms_median)  \n",
    "    sources = daofind(subtracted)\n",
    "    \n",
    "    return stats(sources)  "
   ]
  },
  {
   "cell_type": "code",
   "execution_count": null,
   "metadata": {},
   "outputs": [],
   "source": [
    "# res = minimize(objective_function, (1.3, 1.3), method='Nelder-Mead', tol=1e-2)\n",
    "# print(res.x, res.fun)"
   ]
  },
  {
   "cell_type": "markdown",
   "metadata": {},
   "source": [
    "### Conclusion"
   ]
  },
  {
   "cell_type": "markdown",
   "metadata": {},
   "source": [
    "It appears that optimizing for sharpness or roundness doesn't lead to any significant gain in star image conditioning. Too high sharpness causes star images to become crosses. Too low roundness discards a lot of apparently good star images. \n",
    "\n",
    "Assuming that DAOfind is optimizing for a Gaussian profile, we can safely assume that the best approach is to optimize for minimum background scatter and leave it at that."
   ]
  },
  {
   "cell_type": "markdown",
   "metadata": {},
   "source": [
    "## Correlate two contiguous images"
   ]
  },
  {
   "cell_type": "code",
   "execution_count": null,
   "metadata": {},
   "outputs": [],
   "source": [
    "# this is the next image after the test image used at the beginning of the notebook\n",
    "fname2 = '../astrophotography_data/MilkyWayPrettyBoy/12800/light/DSC03780.ARW'\n",
    "raw2 = rawpy.imread(fname2)\n",
    "imarray2 = raw2.raw_image_visible.astype(float)"
   ]
  },
  {
   "cell_type": "code",
   "execution_count": null,
   "metadata": {},
   "outputs": [],
   "source": [
    "# normalize\n",
    "raw_norm_1_2 = imarray2 * (red_mask * red_norm)\n",
    "raw_norm_2_2 = raw_norm_1_2 + imarray2 * (green_mask * 1.0)\n",
    "raw_norm2 = raw_norm_2_2 + imarray2 * (blue_mask * blue_norm)\n",
    "\n",
    "# handle saturated pixels\n",
    "raw_norm2 = np.where(imarray2 > 16380, imarray2, raw_norm2)\n",
    "\n",
    "# compute and subtract background\n",
    "bkg2 = Background2D(raw_norm2, bkg_cell_footprint, filter_size=bkg_filter, sigma_clip=sigma_clip, bkg_estimator=bkg_estimator)\n",
    "subtracted2 = raw_norm2 - bkg2.background\n",
    "\n",
    "# find stars\n",
    "daofind = DAOStarFinder(fwhm=dao_fwhm, threshold=dao_threshold * bkg2.background_rms_median) \n",
    "sources2 = daofind(subtracted2)"
   ]
  },
  {
   "cell_type": "code",
   "execution_count": null,
   "metadata": {},
   "outputs": [],
   "source": [
    "for col in sources2.colnames:  \n",
    "    sources2[col].info.format = '%.4g'  # for consistent table output\n",
    "print(sources2)  "
   ]
  },
  {
   "cell_type": "code",
   "execution_count": null,
   "metadata": {},
   "outputs": [],
   "source": [
    "# plot positions from both first and second images\n",
    "positions2 = [(x,y) for x,y in zip(sources2['xcentroid'], sources2['ycentroid'])]\n",
    "apertures2 = CircularAperture(positions2, r=5.)\n",
    "plt.figure(figsize=[9, 6])\n",
    "plt.imshow(subtracted2, vmin=-40, vmax=1300, cmap='binary')\n",
    "plt.colorbar()\n",
    "ap2 = apertures2.plot(color='red')\n",
    "ap_ = apertures.plot(color='green') # first image"
   ]
  },
  {
   "cell_type": "markdown",
   "metadata": {},
   "source": [
    "### Build table with offsets in star positions"
   ]
  },
  {
   "cell_type": "markdown",
   "metadata": {},
   "source": [
    "First thing to do is to find each pair of stars, one in each table.\n",
    "\n",
    "For that, we use the centroid positions: for every star in the first table, look for the one star in the second table whose position differs by less than 1.5 pixel (in both X and Y coords).\n",
    "\n",
    "We also need to store two pointers in the second table. To allow navigation in the list of tables associated to a set of images:\n",
    "\n",
    " - the row number of the same star in the reference (first) table.\n",
    " - the row number of the same star in the *previous* image in the sequence.\n",
    " \n",
    "The reference image won't have neither of these columns. In the 2nd table in the sequence, these columns will be redundant."
   ]
  },
  {
   "cell_type": "code",
   "execution_count": null,
   "metadata": {},
   "outputs": [],
   "source": [
    "sources2.add_column(np.nan, name='xoffset')\n",
    "sources2.add_column(np.nan, name='yoffset')\n",
    "sources2.add_column(0, name='ref_row')\n",
    "sources2.add_column(0, name='prev_row') # redundant for the 2nd image in sequence\n",
    "\n",
    "for row_index in range(len(sources)):\n",
    "    x = sources[row_index]['xcentroid']\n",
    "    y = sources[row_index]['ycentroid']\n",
    "    \n",
    "    for row2_index in range(len(sources2)):\n",
    "        x2 = sources2[row2_index]['xcentroid']\n",
    "        y2 = sources2[row2_index]['ycentroid']\n",
    "        x_off = x2 - x\n",
    "        y_off = y2 - y\n",
    "        if abs(x_off) <= 1.5 and abs(y_off) <= 1.5:\n",
    "            sources2[row2_index]['xoffset'] = x_off\n",
    "            sources2[row2_index]['yoffset'] = y_off\n",
    "            sources2[row2_index]['ref_row'] = row_index\n",
    "            sources2[row2_index]['prev_row'] = row_index\n",
    "            \n",
    "            break # if there is another star that matches the criterion, just ignore it"
   ]
  },
  {
   "cell_type": "code",
   "execution_count": null,
   "metadata": {},
   "outputs": [],
   "source": [
    "for col in sources2.colnames:  \n",
    "    sources2[col].info.format = '%.5g'  # for consistent table output\n",
    "print(sources2)  "
   ]
  },
  {
   "cell_type": "code",
   "execution_count": null,
   "metadata": {},
   "outputs": [],
   "source": [
    "# stats\n",
    "print(np.nanmean(sources2['xoffset']), np.nanstd(sources2['xoffset']))\n",
    "print(np.nanmean(sources2['yoffset']), np.nanstd(sources2['yoffset']))\n",
    "print(np.count_nonzero(~np.isnan(sources2['xoffset'])))"
   ]
  },
  {
   "cell_type": "code",
   "execution_count": null,
   "metadata": {},
   "outputs": [],
   "source": [
    "# keep only the NaN-free entries\n",
    "has_nan = np.zeros(len(sources2), dtype=bool)\n",
    "xoff = np.array(sources2['xoffset'])\n",
    "has_nan |= np.isnan(xoff)\n",
    "sources2_no_nan = sources2[~has_nan]"
   ]
  },
  {
   "cell_type": "code",
   "execution_count": null,
   "metadata": {},
   "outputs": [],
   "source": [
    "for col in sources2_no_nan.colnames:  \n",
    "    sources2_no_nan[col].info.format = '%.5g'  # for consistent table output\n",
    "print(sources2_no_nan)"
   ]
  },
  {
   "cell_type": "code",
   "execution_count": null,
   "metadata": {},
   "outputs": [],
   "source": [
    "positions2_n = [(x,y) for x,y in zip(sources2_no_nan['xcentroid'], sources2_no_nan['ycentroid'])]\n",
    "apertures2_n = CircularAperture(positions2_n, r=5.)\n",
    "plt.figure(figsize=[9, 6])\n",
    "plt.imshow(subtracted2, vmin=-40, vmax=1300, cmap='binary')\n",
    "plt.colorbar()\n",
    "ap2_n = apertures2_n.plot(color='red')"
   ]
  },
  {
   "cell_type": "markdown",
   "metadata": {},
   "source": [
    "## Add third image in sequence"
   ]
  },
  {
   "cell_type": "markdown",
   "metadata": {},
   "source": [
    "The table associated to this image should contain offsets in relation to the first image. But to find star pairs, the code must use the second image. That is, the image immediately before it in the image time sequence.\n",
    "\n",
    "We may want to add the image name (or path) to the table header."
   ]
  },
  {
   "cell_type": "code",
   "execution_count": null,
   "metadata": {},
   "outputs": [],
   "source": [
    "# this is the next, third image \n",
    "fname3 = '../astrophotography_data/MilkyWayPrettyBoy/12800/light/DSC03781.ARW'\n",
    "raw3 = rawpy.imread(fname3)\n",
    "imarray3 = raw3.raw_image_visible.astype(float)"
   ]
  },
  {
   "cell_type": "code",
   "execution_count": null,
   "metadata": {
    "scrolled": true
   },
   "outputs": [],
   "source": [
    "# normalize\n",
    "raw_norm_1_3 = imarray3 * (red_mask * red_norm)\n",
    "raw_norm_2_3 = raw_norm_1_3 + imarray3 * (green_mask * 1.0)\n",
    "raw_norm3 = raw_norm_2_3 + imarray3 * (blue_mask * blue_norm)\n",
    "\n",
    "# handle saturated pixels\n",
    "raw_norm3 = np.where(imarray3 > 16380, imarray3, raw_norm3)\n",
    "\n",
    "# compute and subtract background\n",
    "bkg3 = Background2D(raw_norm3, bkg_cell_footprint, filter_size=bkg_filter, sigma_clip=sigma_clip, bkg_estimator=bkg_estimator)\n",
    "subtracted3 = raw_norm3 - bkg3.background\n",
    "\n",
    "# find stars\n",
    "daofind = DAOStarFinder(fwhm=dao_fwhm, threshold=dao_threshold * bkg3.background_rms_median)  \n",
    "sources3 = daofind(subtracted3)"
   ]
  },
  {
   "cell_type": "code",
   "execution_count": null,
   "metadata": {},
   "outputs": [],
   "source": [
    "for col in sources3.colnames:  \n",
    "    sources3[col].info.format = '%.5g'  # for consistent table output\n",
    "print(sources3)  "
   ]
  },
  {
   "cell_type": "markdown",
   "metadata": {},
   "source": [
    "Here we do the more general table operation to correlate the positions just gotten from the 3rd image, with the positions from the second image. But storing offsets in relation to the first (reference) image."
   ]
  },
  {
   "cell_type": "code",
   "execution_count": null,
   "metadata": {
    "scrolled": false
   },
   "outputs": [],
   "source": [
    "sources3.add_column(np.nan, name='xoffset')\n",
    "sources3.add_column(np.nan, name='yoffset')\n",
    "sources3.add_column(0, name='ref_row')\n",
    "sources3.add_column(0, name='prev_row')\n",
    "\n",
    "# loop over rows in 2nd table\n",
    "for row_index2 in range(len(sources2_no_nan)):\n",
    "    # get position in 2nd table, and index in 1st table\n",
    "    x2 = sources2_no_nan[row_index2]['xcentroid']\n",
    "    y2 = sources2_no_nan[row_index2]['ycentroid']\n",
    "    ref_row = sources2_no_nan[row_index2]['ref_row']\n",
    "    \n",
    "    if ref_row == 0:\n",
    "        continue\n",
    "\n",
    "    # loop over rows in 3rd (newest) table\n",
    "    for row_index3 in range(len(sources3)):\n",
    "        x3 = sources3[row_index3]['xcentroid']\n",
    "        y3 = sources3[row_index3]['ycentroid']\n",
    "        \n",
    "        # offsets in relation to 2nd table - these are the ones to check for proximity\n",
    "        x32_off = x3 - x2\n",
    "        y32_off = y3 - y2\n",
    "        \n",
    "        # offsets in relation to reference table\n",
    "        x_ref = sources[ref_row]['xcentroid']\n",
    "        y_ref = sources[ref_row]['ycentroid']\n",
    "        x_off = x3 - x_ref\n",
    "        y_off = y3 - y_ref\n",
    "\n",
    "        if abs(x32_off) <= 1.5 and abs(y32_off) <= 1.5:\n",
    "            sources3[row_index3]['xoffset'] = x_off\n",
    "            sources3[row_index3]['yoffset'] = y_off\n",
    "            \n",
    "            # store pointers to rows in reference and previous tables\n",
    "            sources3[row_index3]['ref_row'] = ref_row\n",
    "            sources3[row_index3]['prev_row'] = row_index2\n",
    "            \n",
    "            break # if there is another star that matches the criterion, just ignore it"
   ]
  },
  {
   "cell_type": "code",
   "execution_count": null,
   "metadata": {},
   "outputs": [],
   "source": [
    "for col in sources3.colnames:  \n",
    "    sources3[col].info.format = '%.5g'  # for consistent table output\n",
    "print(sources3)  "
   ]
  },
  {
   "cell_type": "code",
   "execution_count": null,
   "metadata": {},
   "outputs": [],
   "source": [
    "# keep only the NaN-free entries\n",
    "has_nan = np.zeros(len(sources3), dtype=bool)\n",
    "xoff = np.array(sources3['xoffset'])\n",
    "has_nan |= np.isnan(xoff)\n",
    "sources3_no_nan = sources3[~has_nan]"
   ]
  },
  {
   "cell_type": "code",
   "execution_count": null,
   "metadata": {},
   "outputs": [],
   "source": [
    "for col in sources3_no_nan.colnames:  \n",
    "    sources3_no_nan[col].info.format = '%.5g'  # for consistent table output\n",
    "print(sources3_no_nan)  "
   ]
  },
  {
   "cell_type": "code",
   "execution_count": null,
   "metadata": {},
   "outputs": [],
   "source": [
    "# stats\n",
    "print(np.nanmean(sources3_no_nan['xoffset']), np.nanstd(sources3_no_nan['xoffset']))\n",
    "print(np.nanmean(sources3_no_nan['yoffset']), np.nanstd(sources3_no_nan['yoffset']))\n",
    "print(np.count_nonzero(~np.isnan(sources3_no_nan['xoffset'])))"
   ]
  },
  {
   "cell_type": "code",
   "execution_count": null,
   "metadata": {},
   "outputs": [],
   "source": [
    "# plot positions from 3 images\n",
    "positions3 = [(x,y) for x,y in zip(sources3['xcentroid'], sources3['ycentroid'])]\n",
    "apertures3 = CircularAperture(positions3, r=5.)\n",
    "plt.figure(figsize=[9, 6])\n",
    "plt.imshow(subtracted3, vmin=-40, vmax=1300, cmap='binary')\n",
    "plt.colorbar()\n",
    "ap3 = apertures3.plot(color='blue')\n",
    "ap2 = apertures2.plot(color='green') \n",
    "ap1 = apertures.plot(color='red') "
   ]
  },
  {
   "cell_type": "markdown",
   "metadata": {},
   "source": [
    "## Save to file"
   ]
  },
  {
   "cell_type": "code",
   "execution_count": null,
   "metadata": {},
   "outputs": [],
   "source": [
    "sources3_no_nan.write('table.fits', format='fits', overwrite=True)"
   ]
  },
  {
   "cell_type": "code",
   "execution_count": null,
   "metadata": {},
   "outputs": [],
   "source": [
    "test = Table.read('table.fits')"
   ]
  },
  {
   "cell_type": "code",
   "execution_count": null,
   "metadata": {},
   "outputs": [],
   "source": [
    "test"
   ]
  },
  {
   "cell_type": "code",
   "execution_count": null,
   "metadata": {},
   "outputs": [],
   "source": []
  }
 ],
 "metadata": {
  "kernelspec": {
   "display_name": "Python 3",
   "language": "python",
   "name": "python3"
  },
  "language_info": {
   "codemirror_mode": {
    "name": "ipython",
    "version": 3
   },
   "file_extension": ".py",
   "mimetype": "text/x-python",
   "name": "python",
   "nbconvert_exporter": "python",
   "pygments_lexer": "ipython3",
   "version": "3.7.10"
  }
 },
 "nbformat": 4,
 "nbformat_minor": 2
}
