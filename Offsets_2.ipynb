{
 "cells": [
  {
   "cell_type": "markdown",
   "metadata": {},
   "source": [
    "# Image Offsets: Process sequence"
   ]
  },
  {
   "cell_type": "markdown",
   "metadata": {},
   "source": [
    "This notebook transforms the procedures developed in `Offsets_1.ipynb` into callable functions. \n",
    "\n",
    "These functions are used in a loop to process an entire sequence of images. Results are later examined in plots."
   ]
  },
  {
   "cell_type": "code",
   "execution_count": 1,
   "metadata": {},
   "outputs": [
    {
     "name": "stdout",
     "output_type": "stream",
     "text": [
      "Populating the interactive namespace from numpy and matplotlib\n"
     ]
    }
   ],
   "source": [
    "%pylab notebook\n",
    "%matplotlib notebook\n",
    "\n",
    "import os, glob\n",
    "\n",
    "import numpy as np\n",
    "from matplotlib.pyplot import imshow\n",
    "import matplotlib.pyplot as plt\n",
    "\n",
    "from scipy.optimize import minimize\n",
    "from astropy.table import Table, vstack\n",
    "from astropy.stats import SigmaClip\n",
    "\n",
    "import photutils\n",
    "from photutils import Background2D, ModeEstimatorBackground, DAOStarFinder\n",
    "\n",
    "import rawpy"
   ]
  },
  {
   "cell_type": "markdown",
   "metadata": {},
   "source": [
    "## Initialization"
   ]
  },
  {
   "cell_type": "code",
   "execution_count": 2,
   "metadata": {},
   "outputs": [],
   "source": [
    "dirpath = '../astrophotography_data/MilkyWayPrettyBoy/12800/light/'\n",
    "file_list = glob.glob(dirpath + '/*.ARW')"
   ]
  },
  {
   "cell_type": "code",
   "execution_count": 3,
   "metadata": {},
   "outputs": [],
   "source": [
    "# parameters for background subtraction and star finding\n",
    "bkg_sigma = 3.0\n",
    "bkg_cell_footprint = (100, 100)\n",
    "bkg_filter = (5, 5)\n",
    "dao_fwhm = 3.0\n",
    "dao_threshold = 10.\n",
    "\n",
    "# operators\n",
    "sigma_clip = SigmaClip(sigma=bkg_sigma)\n",
    "bkg_estimator = ModeEstimatorBackground()"
   ]
  },
  {
   "cell_type": "code",
   "execution_count": 4,
   "metadata": {},
   "outputs": [],
   "source": [
    "# 1st test image - this will be the reference image which subsequent images\n",
    "# will have their offsets computed against. We need to read it here to get \n",
    "# the camera color array specification as well.\n",
    "fname = file_list[0]\n",
    "raw = rawpy.imread(fname)\n",
    "ref_imarray = raw.raw_image_visible.astype(float)"
   ]
  },
  {
   "cell_type": "code",
   "execution_count": 5,
   "metadata": {},
   "outputs": [],
   "source": [
    "# masks that isolate the RGB pixels - these are camera-dependent and work with all images\n",
    "colors_array = raw.raw_colors_visible\n",
    "\n",
    "red_mask = np.where(colors_array == 0, 1, 0)\n",
    "\n",
    "green_mask_1 = np.where(colors_array == 1, 1, 0)\n",
    "green_mask_2 = np.where(colors_array == 3, 1, 0)\n",
    "green_mask = green_mask_1 | green_mask_2\n",
    "\n",
    "blue_mask = np.where(colors_array == 2, 1, 0)"
   ]
  },
  {
   "cell_type": "code",
   "execution_count": 6,
   "metadata": {},
   "outputs": [],
   "source": [
    "# normalization factors for the RGB arrays\n",
    "red_norm = 1.321875  # smooth background\n",
    "green_norm = 1.\n",
    "blue_norm = 1.27695312"
   ]
  },
  {
   "cell_type": "markdown",
   "metadata": {},
   "source": [
    "## Function definitios"
   ]
  },
  {
   "cell_type": "code",
   "execution_count": 7,
   "metadata": {},
   "outputs": [],
   "source": [
    "# computes position offsets between two tables. \n",
    "def get_offsets(sources, sources_prev):\n",
    "\n",
    "    sources.add_column(np.nan, name='xoffset')\n",
    "    sources.add_column(np.nan, name='yoffset')\n",
    "    sources.add_column(0, name='ref_row')\n",
    "    sources.add_column(0, name='prev_row')\n",
    "\n",
    "    # loop over rows in previous table\n",
    "    for row_index_prev in range(len(sources_prev)):\n",
    "        # index in reference table\n",
    "        ref_row = sources_prev[row_index_prev]['ref_row']\n",
    "\n",
    "        # if previous table does not contain a pointer to the reference \n",
    "        # table, ignore.\n",
    "        if ref_row == 0:\n",
    "            continue\n",
    "\n",
    "        # get position in previous table\n",
    "        x_prev = sources_prev[row_index_prev]['xcentroid']\n",
    "        y_prev = sources_prev[row_index_prev]['ycentroid']\n",
    "\n",
    "        # loop over rows in current table\n",
    "        for row_index in range(len(sources3)):\n",
    "            x = sources[row_index]['xcentroid']\n",
    "            y = sources[row_index]['ycentroid']\n",
    "\n",
    "            # offsets in relation to previous table - these are the ones to check for proximity\n",
    "            x_off_previous = x - x_prev\n",
    "            y_off_previous = y - y_prev\n",
    "\n",
    "            # check for proximity, and store relevant info if found\n",
    "            if abs(x_off_previous) <= 1.5 and abs(y_off_previous) <= 1.5:\n",
    "\n",
    "                # offsets in relation to reference table\n",
    "                sources[row_index]['xoffset'] = x - sources[ref_row]['xcentroid']\n",
    "                sources[row_index]['yoffset'] = y - sources[ref_row]['ycentroid']\n",
    "\n",
    "                # store pointers to rows in reference and previous tables\n",
    "                sources[row_index]['ref_row'] = ref_row\n",
    "                sources[row_index]['prev_row'] = row_index_prev\n",
    "\n",
    "                break # if there is another star that matches the criterion, just ignore it"
   ]
  },
  {
   "cell_type": "code",
   "execution_count": 8,
   "metadata": {},
   "outputs": [],
   "source": [
    "# creates a table with star positions, given a path to and image file\n",
    "def find_stars(path):\n",
    "\n",
    "    with rawpy.imread(path) as raw:\n",
    "        imarray = raw.raw_image_visible.astype(float)\n",
    "\n",
    "        # normalize\n",
    "        raw_norm_1 = imarray * (red_mask * red_norm)\n",
    "        raw_norm_2 = raw_norm_1 + imarray * (green_mask * 1.0)\n",
    "        raw_norm = raw_norm_2 + imarray * (blue_mask * blue_norm)\n",
    "\n",
    "        # handle saturated pixels\n",
    "        raw_norm = np.where(imarray > 16380, imarray, raw_norm)\n",
    "\n",
    "        # compute and subtract background\n",
    "        bkg = Background2D(raw_norm, bkg_cell_footprint, filter_size=bkg_filter, sigma_clip=sigma_clip, bkg_estimator=bkg_estimator)\n",
    "        subtracted = raw_norm - bkg.background\n",
    "\n",
    "        # find stars\n",
    "        daofind = DAOStarFinder(fwhm=dao_fwhm, threshold=dao_threshold * bkg.background_rms_median) \n",
    "        sources = daofind(subtracted)\n",
    "\n",
    "        return sources"
   ]
  },
  {
   "cell_type": "code",
   "execution_count": 9,
   "metadata": {},
   "outputs": [],
   "source": [
    "# keep only the NaN-free entries\n",
    "def clean_nans(sources):\n",
    "    has_nan = np.zeros(len(sources), dtype=bool)\n",
    "    xoff = np.array(sources['xoffset'])\n",
    "    has_nan |= np.isnan(xoff)\n",
    "    return sources[~has_nan]"
   ]
  },
  {
   "cell_type": "markdown",
   "metadata": {},
   "source": [
    "## Process sequence"
   ]
  },
  {
   "cell_type": "code",
   "execution_count": 10,
   "metadata": {},
   "outputs": [],
   "source": [
    "# find stars in reference image\n",
    "sources_ref = find_stars(file_list[0])\n",
    "\n",
    "# force reference image to be the \"previous\" image\n",
    "sources_prev = sources_ref"
   ]
  },
  {
   "cell_type": "code",
   "execution_count": 11,
   "metadata": {},
   "outputs": [
    {
     "ename": "KeyError",
     "evalue": "'ref_row'",
     "output_type": "error",
     "traceback": [
      "\u001b[0;31m---------------------------------------------------------------------------\u001b[0m",
      "\u001b[0;31mKeyError\u001b[0m                                  Traceback (most recent call last)",
      "\u001b[0;32m~/Projects/software/miniconda3_2/envs/raw/lib/python3.7/site-packages/astropy/table/row.py\u001b[0m in \u001b[0;36m__getitem__\u001b[0;34m(self, item)\u001b[0m\n\u001b[1;32m     50\u001b[0m             \u001b[0;31m# and allows a list of tuple or str, which is not the right thing here.\u001b[0m\u001b[0;34m\u001b[0m\u001b[0;34m\u001b[0m\u001b[0;34m\u001b[0m\u001b[0m\n\u001b[0;32m---> 51\u001b[0;31m             \u001b[0mout\u001b[0m \u001b[0;34m=\u001b[0m \u001b[0mOrderedDict\u001b[0m\u001b[0;34m.\u001b[0m\u001b[0m__getitem__\u001b[0m\u001b[0;34m(\u001b[0m\u001b[0mself\u001b[0m\u001b[0;34m.\u001b[0m\u001b[0m_table\u001b[0m\u001b[0;34m.\u001b[0m\u001b[0mcolumns\u001b[0m\u001b[0;34m,\u001b[0m \u001b[0mitem\u001b[0m\u001b[0;34m)\u001b[0m\u001b[0;34m[\u001b[0m\u001b[0mself\u001b[0m\u001b[0;34m.\u001b[0m\u001b[0m_index\u001b[0m\u001b[0;34m]\u001b[0m\u001b[0;34m\u001b[0m\u001b[0;34m\u001b[0m\u001b[0m\n\u001b[0m\u001b[1;32m     52\u001b[0m         \u001b[0;32mexcept\u001b[0m \u001b[0;34m(\u001b[0m\u001b[0mKeyError\u001b[0m\u001b[0;34m,\u001b[0m \u001b[0mTypeError\u001b[0m\u001b[0;34m)\u001b[0m\u001b[0;34m:\u001b[0m\u001b[0;34m\u001b[0m\u001b[0;34m\u001b[0m\u001b[0m\n",
      "\u001b[0;31mKeyError\u001b[0m: 'ref_row'",
      "\nDuring handling of the above exception, another exception occurred:\n",
      "\u001b[0;31mKeyError\u001b[0m                                  Traceback (most recent call last)",
      "\u001b[0;32m<ipython-input-11-06382fc0616a>\u001b[0m in \u001b[0;36m<module>\u001b[0;34m\u001b[0m\n\u001b[1;32m      6\u001b[0m \u001b[0;34m\u001b[0m\u001b[0m\n\u001b[1;32m      7\u001b[0m     \u001b[0;31m# compute offsets\u001b[0m\u001b[0;34m\u001b[0m\u001b[0;34m\u001b[0m\u001b[0;34m\u001b[0m\u001b[0m\n\u001b[0;32m----> 8\u001b[0;31m     \u001b[0msources_current\u001b[0m \u001b[0;34m=\u001b[0m \u001b[0mget_offsets\u001b[0m\u001b[0;34m(\u001b[0m\u001b[0msources\u001b[0m\u001b[0;34m,\u001b[0m \u001b[0msources_prev\u001b[0m\u001b[0;34m)\u001b[0m\u001b[0;34m\u001b[0m\u001b[0;34m\u001b[0m\u001b[0m\n\u001b[0m\u001b[1;32m      9\u001b[0m \u001b[0;34m\u001b[0m\u001b[0m\n\u001b[1;32m     10\u001b[0m     \u001b[0msources_current_no_nan\u001b[0m \u001b[0;34m=\u001b[0m \u001b[0mclean_nans\u001b[0m\u001b[0;34m(\u001b[0m\u001b[0msources_current\u001b[0m\u001b[0;34m)\u001b[0m\u001b[0;34m\u001b[0m\u001b[0;34m\u001b[0m\u001b[0m\n",
      "\u001b[0;32m<ipython-input-7-c2a16958e5e0>\u001b[0m in \u001b[0;36mget_offsets\u001b[0;34m(sources, sources_prev)\u001b[0m\n\u001b[1;32m     10\u001b[0m     \u001b[0;32mfor\u001b[0m \u001b[0mrow_index_prev\u001b[0m \u001b[0;32min\u001b[0m \u001b[0mrange\u001b[0m\u001b[0;34m(\u001b[0m\u001b[0mlen\u001b[0m\u001b[0;34m(\u001b[0m\u001b[0msources_prev\u001b[0m\u001b[0;34m)\u001b[0m\u001b[0;34m)\u001b[0m\u001b[0;34m:\u001b[0m\u001b[0;34m\u001b[0m\u001b[0;34m\u001b[0m\u001b[0m\n\u001b[1;32m     11\u001b[0m         \u001b[0;31m# index in reference table\u001b[0m\u001b[0;34m\u001b[0m\u001b[0;34m\u001b[0m\u001b[0;34m\u001b[0m\u001b[0m\n\u001b[0;32m---> 12\u001b[0;31m         \u001b[0mref_row\u001b[0m \u001b[0;34m=\u001b[0m \u001b[0msources_prev\u001b[0m\u001b[0;34m[\u001b[0m\u001b[0mrow_index_prev\u001b[0m\u001b[0;34m]\u001b[0m\u001b[0;34m[\u001b[0m\u001b[0;34m'ref_row'\u001b[0m\u001b[0;34m]\u001b[0m\u001b[0;34m\u001b[0m\u001b[0;34m\u001b[0m\u001b[0m\n\u001b[0m\u001b[1;32m     13\u001b[0m \u001b[0;34m\u001b[0m\u001b[0m\n\u001b[1;32m     14\u001b[0m         \u001b[0;31m# if previous table does not contain a pointer to the reference\u001b[0m\u001b[0;34m\u001b[0m\u001b[0;34m\u001b[0m\u001b[0;34m\u001b[0m\u001b[0m\n",
      "\u001b[0;32m~/Projects/software/miniconda3_2/envs/raw/lib/python3.7/site-packages/astropy/table/row.py\u001b[0m in \u001b[0;36m__getitem__\u001b[0;34m(self, item)\u001b[0m\n\u001b[1;32m     56\u001b[0m             \u001b[0;32melse\u001b[0m\u001b[0;34m:\u001b[0m\u001b[0;34m\u001b[0m\u001b[0;34m\u001b[0m\u001b[0m\n\u001b[1;32m     57\u001b[0m                 \u001b[0;31m# This is only to raise an exception\u001b[0m\u001b[0;34m\u001b[0m\u001b[0;34m\u001b[0m\u001b[0;34m\u001b[0m\u001b[0m\n\u001b[0;32m---> 58\u001b[0;31m                 \u001b[0mout\u001b[0m \u001b[0;34m=\u001b[0m \u001b[0mself\u001b[0m\u001b[0;34m.\u001b[0m\u001b[0m_table\u001b[0m\u001b[0;34m.\u001b[0m\u001b[0mcolumns\u001b[0m\u001b[0;34m[\u001b[0m\u001b[0mitem\u001b[0m\u001b[0;34m]\u001b[0m\u001b[0;34m[\u001b[0m\u001b[0mself\u001b[0m\u001b[0;34m.\u001b[0m\u001b[0m_index\u001b[0m\u001b[0;34m]\u001b[0m\u001b[0;34m\u001b[0m\u001b[0;34m\u001b[0m\u001b[0m\n\u001b[0m\u001b[1;32m     59\u001b[0m         \u001b[0;32mreturn\u001b[0m \u001b[0mout\u001b[0m\u001b[0;34m\u001b[0m\u001b[0;34m\u001b[0m\u001b[0m\n\u001b[1;32m     60\u001b[0m \u001b[0;34m\u001b[0m\u001b[0m\n",
      "\u001b[0;32m~/Projects/software/miniconda3_2/envs/raw/lib/python3.7/site-packages/astropy/table/table.py\u001b[0m in \u001b[0;36m__getitem__\u001b[0;34m(self, item)\u001b[0m\n\u001b[1;32m    244\u001b[0m         \"\"\"\n\u001b[1;32m    245\u001b[0m         \u001b[0;32mif\u001b[0m \u001b[0misinstance\u001b[0m\u001b[0;34m(\u001b[0m\u001b[0mitem\u001b[0m\u001b[0;34m,\u001b[0m \u001b[0mstr\u001b[0m\u001b[0;34m)\u001b[0m\u001b[0;34m:\u001b[0m\u001b[0;34m\u001b[0m\u001b[0;34m\u001b[0m\u001b[0m\n\u001b[0;32m--> 246\u001b[0;31m             \u001b[0;32mreturn\u001b[0m \u001b[0mOrderedDict\u001b[0m\u001b[0;34m.\u001b[0m\u001b[0m__getitem__\u001b[0m\u001b[0;34m(\u001b[0m\u001b[0mself\u001b[0m\u001b[0;34m,\u001b[0m \u001b[0mitem\u001b[0m\u001b[0;34m)\u001b[0m\u001b[0;34m\u001b[0m\u001b[0;34m\u001b[0m\u001b[0m\n\u001b[0m\u001b[1;32m    247\u001b[0m         \u001b[0;32melif\u001b[0m \u001b[0misinstance\u001b[0m\u001b[0;34m(\u001b[0m\u001b[0mitem\u001b[0m\u001b[0;34m,\u001b[0m \u001b[0;34m(\u001b[0m\u001b[0mint\u001b[0m\u001b[0;34m,\u001b[0m \u001b[0mnp\u001b[0m\u001b[0;34m.\u001b[0m\u001b[0minteger\u001b[0m\u001b[0;34m)\u001b[0m\u001b[0;34m)\u001b[0m\u001b[0;34m:\u001b[0m\u001b[0;34m\u001b[0m\u001b[0;34m\u001b[0m\u001b[0m\n\u001b[1;32m    248\u001b[0m             \u001b[0;32mreturn\u001b[0m \u001b[0mlist\u001b[0m\u001b[0;34m(\u001b[0m\u001b[0mself\u001b[0m\u001b[0;34m.\u001b[0m\u001b[0mvalues\u001b[0m\u001b[0;34m(\u001b[0m\u001b[0;34m)\u001b[0m\u001b[0;34m)\u001b[0m\u001b[0;34m[\u001b[0m\u001b[0mitem\u001b[0m\u001b[0;34m]\u001b[0m\u001b[0;34m\u001b[0m\u001b[0;34m\u001b[0m\u001b[0m\n",
      "\u001b[0;31mKeyError\u001b[0m: 'ref_row'"
     ]
    }
   ],
   "source": [
    "# loop over list of remaining images\n",
    "for file_path in file_list[1:3]:\n",
    "    \n",
    "    # find stars\n",
    "    sources = find_stars(file_path)\n",
    "    \n",
    "    # compute offsets\n",
    "    sources_current = get_offsets(sources, sources_prev)\n",
    "    \n",
    "    sources_current_no_nan = clean_nans(sources_current)\n",
    "    \n",
    "    # save table to file\n",
    "    \n",
    "    # for next iteration, current table becomes previous\n",
    "    sources_prev = sources_current_no_nan"
   ]
  },
  {
   "cell_type": "code",
   "execution_count": null,
   "metadata": {},
   "outputs": [],
   "source": []
  }
 ],
 "metadata": {
  "kernelspec": {
   "display_name": "Python 3",
   "language": "python",
   "name": "python3"
  },
  "language_info": {
   "codemirror_mode": {
    "name": "ipython",
    "version": 3
   },
   "file_extension": ".py",
   "mimetype": "text/x-python",
   "name": "python",
   "nbconvert_exporter": "python",
   "pygments_lexer": "ipython3",
   "version": "3.7.10"
  }
 },
 "nbformat": 4,
 "nbformat_minor": 2
}
