{
 "cells": [
  {
   "cell_type": "markdown",
   "metadata": {},
   "source": [
    "# Analysis of CLS and no-filter images"
   ]
  },
  {
   "cell_type": "markdown",
   "metadata": {},
   "source": [
    "## Method\n",
    "\n",
    "- Pick two stars: Polaris and a fainter one, defining the subimage where they sit. Pick a nearby sky region.\n",
    "- Plot raw RGB Bayer arrays of each one in each image. There are 12 with CLS filter, 7 without.\n",
    "- Plot RGB debayered arrays of each one in each image. There are 12 with CLS filter, 7 without."
   ]
  },
  {
   "cell_type": "code",
   "execution_count": 1,
   "metadata": {},
   "outputs": [
    {
     "name": "stdout",
     "output_type": "stream",
     "text": [
      "Populating the interactive namespace from numpy and matplotlib\n"
     ]
    }
   ],
   "source": [
    "%pylab notebook\n",
    "%matplotlib notebook\n",
    "\n",
    "import os, glob\n",
    "\n",
    "import numpy as np\n",
    "from matplotlib.pyplot import imshow\n",
    "import matplotlib.pyplot as plt\n",
    "\n",
    "import exifread\n",
    "import rawpy\n",
    "from astropy.table import Table"
   ]
  },
  {
   "cell_type": "code",
   "execution_count": 2,
   "metadata": {},
   "outputs": [],
   "source": [
    "basepath = '../astrophotography_data/cls/'\n",
    "dirpath = os.path.join(basepath,'with_filter')\n",
    "list_files = glob.glob(dirpath + '/*.ARW')\n",
    "\n",
    "for filename in list_files:\n",
    "    f = open(filename, 'rb')\n",
    "    tags = exifread.process_file(f)\n",
    "    iso = ''\n",
    "    exptime = ''\n",
    "    for tag in tags.keys():\n",
    "        if tag in ['EXIF ExposureTime']:\n",
    "            exptime = tags[tag]\n",
    "        if tag in ['EXIF ISOSpeedRatings']:\n",
    "            iso = tags[tag]\n",
    "\n",
    "\n"
   ]
  }
 ],
 "metadata": {
  "kernelspec": {
   "display_name": "Python 3",
   "language": "python",
   "name": "python3"
  },
  "language_info": {
   "codemirror_mode": {
    "name": "ipython",
    "version": 3
   },
   "file_extension": ".py",
   "mimetype": "text/x-python",
   "name": "python",
   "nbconvert_exporter": "python",
   "pygments_lexer": "ipython3",
   "version": "3.7.3"
  }
 },
 "nbformat": 4,
 "nbformat_minor": 2
}
