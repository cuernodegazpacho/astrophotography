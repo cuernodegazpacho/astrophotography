{
 "cells": [
  {
   "cell_type": "code",
   "execution_count": null,
   "metadata": {},
   "outputs": [],
   "source": [
    "%pylab inline\n",
    "# %matplotlib notebook\n",
    "import numpy as np\n",
    "from matplotlib.pyplot import imshow\n",
    "import matplotlib.pyplot as plt\n",
    "from astropy.visualization import (MinMaxInterval, SqrtStretch, ImageNormalize)\n",
    "import rawpy"
   ]
  },
  {
   "cell_type": "code",
   "execution_count": null,
   "metadata": {},
   "outputs": [],
   "source": [
    "path = '../astrophotography_data/14mm_tests_2.8/DSC02155.ARW'\n",
    "\n",
    "with rawpy.imread(path) as raw:\n",
    "    print(raw.raw_image)\n",
    "    rgb = raw.postprocess()\n",
    "#     rgb = raw.postprocess(use_camera_wb=True)\n",
    "    raw_image = raw.raw_image.copy()\n",
    "print(rgb.shape)"
   ]
  },
  {
   "cell_type": "code",
   "execution_count": null,
   "metadata": {},
   "outputs": [],
   "source": [
    "rgb[::,::,0].shape\n",
    "red = rgb[::,::,0]\n",
    "green = rgb[::,::,1]\n",
    "blue = rgb[::,::,2]"
   ]
  },
  {
   "cell_type": "code",
   "execution_count": null,
   "metadata": {},
   "outputs": [],
   "source": [
    "plt.figure(figsize=[15, 15])\n",
    "plt.imshow(rgb)"
   ]
  },
  {
   "cell_type": "code",
   "execution_count": null,
   "metadata": {},
   "outputs": [],
   "source": [
    "%pylab inline\n",
    "plt.figure(figsize=[15,10])\n",
    "plt.imshow(rgb[1200:1700,2730:3300],) # Y,X"
   ]
  },
  {
   "cell_type": "code",
   "execution_count": null,
   "metadata": {},
   "outputs": [],
   "source": [
    "figsize(17, 3)\n",
    "colors = ['Red','Green','Blue']\n",
    "\n",
    "fig = plt.figure()\n",
    "for color, i in zip([red, green, blue], range(0,3)):\n",
    "    a = fig.add_subplot(1, 3, i+1)\n",
    "    plt.imshow(color[1300:1500,2900:3100], aspect='equal',cmap='gray', vmin=100)\n",
    "    plt.colorbar()\n",
    "    a.set_title(colors[i])\n",
    "    \n",
    "plt.show()"
   ]
  },
  {
   "cell_type": "code",
   "execution_count": null,
   "metadata": {},
   "outputs": [],
   "source": [
    "# Makes a 3X3 plot with R,G,B for 3 stars. \n",
    "def plot_stars(s1, s2, s3):\n",
    "    figsize(17, 17)\n",
    "    fig = plt.figure()\n",
    "    cmap = 'gist_heat'\n",
    "\n",
    "    for color, i in zip([red, green, blue], range(0,3)):\n",
    " \n",
    "        interval = MinMaxInterval()\n",
    "        vmin1, vmax1 = interval.get_limits(color[s1])\n",
    "        vmin2, vmax2 = interval.get_limits(color[s2])\n",
    "        vmin3, vmax3 = interval.get_limits(color[s3])\n",
    "\n",
    "        norm1 = ImageNormalize(vmin=vmin1, vmax=vmax1, stretch=SqrtStretch())\n",
    "        norm2 = ImageNormalize(vmin=vmin2, vmax=vmax2, stretch=SqrtStretch())\n",
    "        norm3 = ImageNormalize(vmin=vmin3, vmax=vmax3, stretch=SqrtStretch())\n",
    "\n",
    "        print(\"Min.\", colors[i], vmin1, vmin2, vmin3)\n",
    "        print(\"Max.\", colors[i], vmax1, vmax2, vmax3)\n",
    "\n",
    "        a = fig.add_subplot(3, 3, i+1)\n",
    "        plt.imshow(color[s1], aspect='equal',cmap=cmap, norm=norm1)\n",
    "        plt.colorbar()\n",
    "        a.set_title(colors[i])\n",
    "        a = fig.add_subplot(3, 3, i+4)\n",
    "        plt.imshow(color[s2], aspect='equal',cmap=cmap, norm=norm2)\n",
    "        plt.colorbar()\n",
    "        a = fig.add_subplot(3, 3, i+7)\n",
    "        plt.imshow(color[s3], aspect='equal',cmap=cmap, norm=norm3)\n",
    "        plt.colorbar()\n",
    "    plt.show()"
   ]
  },
  {
   "cell_type": "code",
   "execution_count": null,
   "metadata": {},
   "outputs": [],
   "source": [
    "# These brighter stars are mostly saturated.\n",
    "s1 = np.index_exp[1480:1500,2830:2850]\n",
    "s2 = np.index_exp[1430:1450,3050:3070]\n",
    "s3 = np.index_exp[1492:1512,3200:3220]"
   ]
  },
  {
   "cell_type": "code",
   "execution_count": null,
   "metadata": {},
   "outputs": [],
   "source": [
    "# plot brighter stars. This is good to visualize the PSF faint wings' extent.\n",
    "plot_stars(s1, s2, s3)"
   ]
  },
  {
   "cell_type": "code",
   "execution_count": null,
   "metadata": {},
   "outputs": [],
   "source": [
    "# Lets try fainter ones. Use demosaic-exploreimage script to get a zoomable view of this file.\n",
    "s1 = np.index_exp[1370:1390,2955:2975]\n",
    "s2 = np.index_exp[1380:1400,2982:3002]\n",
    "s3 = np.index_exp[1387:1407,3025:3045]"
   ]
  },
  {
   "cell_type": "code",
   "execution_count": null,
   "metadata": {},
   "outputs": [],
   "source": [
    "plot_stars(s1, s2, s3)"
   ]
  },
  {
   "cell_type": "code",
   "execution_count": null,
   "metadata": {},
   "outputs": [],
   "source": [
    "plt.figure(figsize=[15, 15])\n",
    "\n",
    "with rawpy.imread(path) as raw:\n",
    "#     rgb = raw.postprocess(gamma=(1,1), no_auto_bright=True, output_bps=16)\n",
    "    rgb = raw.postprocess(gamma=(1,1))\n",
    "    plt.imshow(rgb[s3], cmap='gist_heat')\n",
    "    plt.colorbar()\n"
   ]
  },
  {
   "cell_type": "code",
   "execution_count": null,
   "metadata": {},
   "outputs": [],
   "source": []
  }
 ],
 "metadata": {
  "kernelspec": {
   "display_name": "Python 3",
   "language": "python",
   "name": "python3"
  },
  "language_info": {
   "codemirror_mode": {
    "name": "ipython",
    "version": 3
   },
   "file_extension": ".py",
   "mimetype": "text/x-python",
   "name": "python",
   "nbconvert_exporter": "python",
   "pygments_lexer": "ipython3",
   "version": "3.7.10"
  }
 },
 "nbformat": 4,
 "nbformat_minor": 2
}
