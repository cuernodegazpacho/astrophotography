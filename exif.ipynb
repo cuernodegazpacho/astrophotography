{
 "cells": [
  {
   "cell_type": "code",
   "execution_count": 1,
   "metadata": {},
   "outputs": [],
   "source": [
    "import os,glob\n",
    "import exifread"
   ]
  },
  {
   "cell_type": "code",
   "execution_count": 2,
   "metadata": {},
   "outputs": [],
   "source": [
    "def print_exif(tags):\n",
    "    for tag in tags.keys():\n",
    "         if tag not in ('JPEGThumbnail', 'TIFFThumbnail', 'Filename', 'EXIF MakerNote'):\n",
    "            print(\"%s:      %s\" % (tag, tags[tag]))"
   ]
  },
  {
   "cell_type": "code",
   "execution_count": 3,
   "metadata": {},
   "outputs": [],
   "source": [
    "filename = '../astrophotography_data/MilkyWayPrettyBoy/12800/dark/DSC03830.ARW'\n",
    "f = open(filename, 'rb')\n",
    "tags = exifread.process_file(f)"
   ]
  },
  {
   "cell_type": "code",
   "execution_count": 4,
   "metadata": {},
   "outputs": [
    {
     "name": "stdout",
     "output_type": "stream",
     "text": [
      "Image SubfileType:      Reduced-resolution image\n",
      "Image Compression:      JPEG (old-style)\n",
      "Image ImageDescription:                                     \n",
      "Image Make:      SONY\n",
      "Image Model:      ILCE-7SM2\n",
      "Image Orientation:      Horizontal (normal)\n",
      "Image XResolution:      350\n",
      "Image YResolution:      350\n",
      "Image ResolutionUnit:      Pixels/Inch\n",
      "Image Software:      ILCE-7SM2 v2.20\n",
      "Image DateTime:      2019:11:01 21:20:44\n",
      "Image Tag 0x014A:      135506\n",
      "Image JPEGInterchangeFormat:      136354\n",
      "Image JPEGInterchangeFormatLength:      208072\n",
      "Image YCbCrPositioning:      Co-sited\n",
      "Image ExifOffset:      436\n",
      "Image PrintIM:      [80, 114, 105, 110, 116, 73, 77, 0, 48, 51, 48, 48, 0, 0, 3, 0, 2, 0, 1, 0, ... ]\n",
      "Image Tag 0xC634:      [92, 162, 0, 0]\n",
      "Thumbnail SubfileType:      Reduced-resolution image\n",
      "Thumbnail Compression:      JPEG (old-style)\n",
      "Thumbnail ImageDescription:                                     \n",
      "Thumbnail Make:      SONY\n",
      "Thumbnail Model:      ILCE-7SM2\n",
      "Thumbnail Orientation:      Horizontal (normal)\n",
      "Thumbnail XResolution:      72\n",
      "Thumbnail YResolution:      72\n",
      "Thumbnail ResolutionUnit:      Pixels/Inch\n",
      "Thumbnail Software:      ILCE-7SM2 v2.20\n",
      "Thumbnail DateTime:      2019:11:01 21:20:44\n",
      "Thumbnail JPEGInterchangeFormat:      38778\n",
      "Thumbnail JPEGInterchangeFormatLength:      1146\n",
      "Thumbnail YCbCrPositioning:      Co-sited\n",
      "EXIF ExposureTime:      16/5\n",
      "EXIF FNumber:      0\n",
      "EXIF ExposureProgram:      Manual\n",
      "EXIF ISOSpeedRatings:      12800\n",
      "EXIF SensitivityType:      Recommended Exposure Index\n",
      "EXIF RecommendedExposureIndex:      12800\n",
      "EXIF ExifVersion:      0230\n",
      "EXIF DateTimeOriginal:      2019:11:01 21:20:44\n",
      "EXIF DateTimeDigitized:      2019:11:01 21:20:44\n",
      "EXIF ComponentsConfiguration:      YCbCr\n",
      "EXIF CompressedBitsPerPixel:      16\n",
      "EXIF BrightnessValue:      -20353/1280\n",
      "EXIF ExposureBiasValue:      0\n",
      "EXIF MaxApertureValue:      0\n",
      "EXIF MeteringMode:      Pattern\n",
      "EXIF LightSource:      Unknown\n",
      "EXIF Flash:      Flash did not fire, compulsory flash mode\n",
      "EXIF FocalLength:      0\n",
      "EXIF UserComment:      [0, 0, 0, 0, 0, 0, 0, 0, 0, 0, 0, 0, 0, 0, 0, 0, 0, 0, 0, 0, 0, 0, 0, 0, 0, 0, 0, 0, 0, 0, 0, 0, 0, 0, 0, 0, 0, 0, 0, 0, 0, 0, 0, 0, 0, 0, 0, 0, 0, 0, 0, 0, 0, 0, 0, 0]\n",
      "EXIF FlashPixVersion:      0100\n",
      "EXIF ColorSpace:      sRGB\n",
      "EXIF ExifImageWidth:      4240\n",
      "EXIF ExifImageLength:      2832\n",
      "Interoperability InteroperabilityIndex:      R98\n",
      "Interoperability InteroperabilityVersion:      [48, 49, 48, 48]\n",
      "EXIF InteroperabilityOffset:      38474\n",
      "EXIF FileSource:      Digital Camera\n",
      "EXIF SceneType:      Directly Photographed\n",
      "EXIF CustomRendered:      Normal\n",
      "EXIF ExposureMode:      Manual Exposure\n",
      "EXIF WhiteBalance:      Manual\n",
      "EXIF DigitalZoomRatio:      1\n",
      "EXIF FocalLengthIn35mmFilm:      0\n",
      "EXIF SceneCaptureType:      Standard\n",
      "EXIF Contrast:      Normal\n",
      "EXIF Saturation:      Normal\n",
      "EXIF Sharpness:      Normal\n",
      "EXIF LensModel:      ----\n"
     ]
    }
   ],
   "source": [
    "print_exif(tags)"
   ]
  },
  {
   "cell_type": "code",
   "execution_count": 5,
   "metadata": {},
   "outputs": [
    {
     "name": "stdout",
     "output_type": "stream",
     "text": [
      "1/8000\n",
      "16/5\n"
     ]
    }
   ],
   "source": [
    "basepath = '../astrophotography_data/MilkyWayPrettyBoy/12800'\n",
    "\n",
    "bias_path = os.path.join(basepath,'bias')\n",
    "list_p = glob.glob(bias_path + '/*.ARW')\n",
    "f = open(list_p[0], 'rb')\n",
    "tags = exifread.process_file(f)\n",
    "print(tags['EXIF ExposureTime'])\n",
    "\n",
    "bias_path = os.path.join(basepath,'dark')\n",
    "list_p = glob.glob(bias_path + '/*.ARW')\n",
    "f = open(list_p[0], 'rb')\n",
    "tags = exifread.process_file(f)\n",
    "print(tags['EXIF ExposureTime'])"
   ]
  },
  {
   "cell_type": "code",
   "execution_count": null,
   "metadata": {},
   "outputs": [],
   "source": []
  }
 ],
 "metadata": {
  "kernelspec": {
   "display_name": "Python 3",
   "language": "python",
   "name": "python3"
  },
  "language_info": {
   "codemirror_mode": {
    "name": "ipython",
    "version": 3
   },
   "file_extension": ".py",
   "mimetype": "text/x-python",
   "name": "python",
   "nbconvert_exporter": "python",
   "pygments_lexer": "ipython3",
   "version": "3.7.3"
  }
 },
 "nbformat": 4,
 "nbformat_minor": 2
}
