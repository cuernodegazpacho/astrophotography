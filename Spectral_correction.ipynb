{
 "cells": [
  {
   "cell_type": "markdown",
   "id": "2a5a9c2d",
   "metadata": {},
   "source": [
    "# Spectral correction of camera RGB bands"
   ]
  },
  {
   "cell_type": "markdown",
   "id": "faa17d1a",
   "metadata": {},
   "source": [
    "The purpose of this notebook is to find correction coefficients for the camera RGB bands in order to correct raw files in a way that they can be interpreted as \"black-and-white pictures\". They can then be used for finding star positions.\n",
    "\n",
    "These are multiplicative coefficients that we apply to each band (the G band coefficient can be made 1.0) so a star image in a raw file whose bands were so corrected, will have a reasonably smooth profile. And the sky background will also be smooth. That is, the differences in gain between the three bands will be corrected out of the raw file.\n",
    "\n",
    "Of course, this would work well if not for two complicating factors:\n",
    " - the PSF is in general color dependent\n",
    " - stars have a variety of spectra\n",
    " \n",
    "The idea here is to use the solar spectrum (or a blackbody at 5900K) as reference. The coefficients thus derived will be optimal for stars of type G, and also for the background in cases where it is dominated by day ligth (seldom the case). For other stars and non-daylight backgrounds, we hope to be at least in the ball park.  "
   ]
  },
  {
   "cell_type": "code",
   "execution_count": 1,
   "id": "34a0406f",
   "metadata": {},
   "outputs": [],
   "source": [
    "import json\n",
    "\n",
    "import numpy as np\n",
    "import matplotlib.pyplot as plt\n",
    "\n",
    "from synphot import SpectralElement, SourceSpectrum, Observation\n",
    "from synphot.models import Empirical1D, BlackBodyNorm1D"
   ]
  },
  {
   "cell_type": "markdown",
   "id": "0e2057ef",
   "metadata": {},
   "source": [
    "## Read camera RGB curves"
   ]
  },
  {
   "cell_type": "code",
   "execution_count": 2,
   "id": "df71df4b",
   "metadata": {},
   "outputs": [],
   "source": [
    "fname = 'Sony_curves/Sony_ILCE-7RM2.json'\n",
    "f = open(fname)\n",
    "data = json.load(f)"
   ]
  },
  {
   "cell_type": "code",
   "execution_count": 3,
   "id": "c39c966e",
   "metadata": {},
   "outputs": [
    {
     "name": "stdout",
     "output_type": "stream",
     "text": [
      "Data from Jack Hogan https://www.dpreview.com/forums/thread/4343781\n"
     ]
    }
   ],
   "source": [
    "wave = data['ssf_bands']\n",
    "r_curve = data['red_ssf']\n",
    "g_curve = data['green_ssf']\n",
    "b_curve = data['blue_ssf']\n",
    "\n",
    "print(data['provenance'])"
   ]
  },
  {
   "cell_type": "code",
   "execution_count": 4,
   "id": "9023719b",
   "metadata": {},
   "outputs": [],
   "source": [
    "# convert wavelength from nm to Angstrom\n",
    "wave = np.array(wave) * 10."
   ]
  },
  {
   "cell_type": "markdown",
   "id": "d0ecb046",
   "metadata": {},
   "source": [
    "## Build bandpasses"
   ]
  },
  {
   "cell_type": "code",
   "execution_count": 5,
   "id": "277afa36",
   "metadata": {},
   "outputs": [],
   "source": [
    "bp_red   = SpectralElement(Empirical1D, points=wave, lookup_table=r_curve, keep_neg=True)\n",
    "bp_green = SpectralElement(Empirical1D, points=wave, lookup_table=g_curve, keep_neg=True)\n",
    "bp_blue  = SpectralElement(Empirical1D, points=wave, lookup_table=b_curve, keep_neg=True)"
   ]
  },
  {
   "cell_type": "markdown",
   "id": "c9304797",
   "metadata": {},
   "source": [
    "## Build blackbody"
   ]
  },
  {
   "cell_type": "code",
   "execution_count": 6,
   "id": "602a74c4",
   "metadata": {},
   "outputs": [],
   "source": [
    "bb = SourceSpectrum(BlackBodyNorm1D, temperature=5900.)"
   ]
  },
  {
   "cell_type": "markdown",
   "id": "a5b70659",
   "metadata": {},
   "source": [
    "## Convolve and get relative count rates"
   ]
  },
  {
   "cell_type": "code",
   "execution_count": 7,
   "id": "3e836284",
   "metadata": {},
   "outputs": [],
   "source": [
    "# convolve\n",
    "obs_red   = Observation(bb, bp_red) \n",
    "obs_green = Observation(bb, bp_green) \n",
    "obs_blue  = Observation(bb, bp_blue) "
   ]
  },
  {
   "cell_type": "markdown",
   "id": "f46b1ce2",
   "metadata": {},
   "source": [
    "We need countrate, not energy, because the detector counts electrons. We are making the assumption that the Sony curves already include detector sensitivity."
   ]
  },
  {
   "cell_type": "code",
   "execution_count": 8,
   "id": "74780b6e",
   "metadata": {},
   "outputs": [],
   "source": [
    "# get countrates. Units are irrelevant, because we want just the ratio between the bands\n",
    "cr_red   = obs_red.countrate(area=1.)\n",
    "cr_green = obs_green.countrate(area=1.)\n",
    "cr_blue  = obs_blue.countrate(area=1.)"
   ]
  },
  {
   "cell_type": "code",
   "execution_count": 9,
   "id": "9e0a623b",
   "metadata": {},
   "outputs": [
    {
     "name": "stdout",
     "output_type": "stream",
     "text": [
      "Red:  2.303107987094866\n",
      "Blue:  1.5291221281596803\n",
      "For unit green\n"
     ]
    }
   ],
   "source": [
    "print(\"Red: \", cr_green / cr_red)\n",
    "print(\"Blue: \", cr_green / cr_blue)\n",
    "print(\"For unit green\")"
   ]
  },
  {
   "cell_type": "markdown",
   "id": "9b57a977",
   "metadata": {},
   "source": [
    "## Plot"
   ]
  },
  {
   "cell_type": "code",
   "execution_count": 10,
   "id": "118ef50f",
   "metadata": {},
   "outputs": [],
   "source": [
    "# resample and normalize blackbody\n",
    "bb_flux = bb(bp_red.waveset)\n",
    "bb_flux /= np.max(bb_flux)"
   ]
  },
  {
   "cell_type": "code",
   "execution_count": 11,
   "id": "011945b1",
   "metadata": {},
   "outputs": [
    {
     "name": "stderr",
     "output_type": "stream",
     "text": [
      "/Users/busko/Projects/software/miniconda3_2/envs/raw/lib/python3.7/site-packages/ipykernel_launcher.py:3: UserWarning: color is redundantly defined by the 'color' keyword argument and the fmt string \"k-\" (-> color='k'). The keyword argument will take precedence.\n",
      "  This is separate from the ipykernel package so we can avoid doing imports until\n",
      "/Users/busko/Projects/software/miniconda3_2/envs/raw/lib/python3.7/site-packages/ipykernel_launcher.py:4: UserWarning: color is redundantly defined by the 'color' keyword argument and the fmt string \"k-\" (-> color='k'). The keyword argument will take precedence.\n",
      "  after removing the cwd from sys.path.\n",
      "/Users/busko/Projects/software/miniconda3_2/envs/raw/lib/python3.7/site-packages/ipykernel_launcher.py:5: UserWarning: color is redundantly defined by the 'color' keyword argument and the fmt string \"k-\" (-> color='k'). The keyword argument will take precedence.\n",
      "  \"\"\"\n",
      "/Users/busko/Projects/software/miniconda3_2/envs/raw/lib/python3.7/site-packages/ipykernel_launcher.py:7: UserWarning: color is redundantly defined by the 'color' keyword argument and the fmt string \"k-\" (-> color='k'). The keyword argument will take precedence.\n",
      "  import sys\n"
     ]
    },
    {
     "data": {
      "text/plain": [
       "[<matplotlib.lines.Line2D at 0x7fc6bdbfef90>]"
      ]
     },
     "execution_count": 11,
     "metadata": {},
     "output_type": "execute_result"
    },
    {
     "data": {
      "image/png": "[encoded data removed]",
      "text/plain": [
       "<Figure size 720x432 with 1 Axes>"
      ]
     },
     "metadata": {
      "needs_background": "light"
     },
     "output_type": "display_data"
    }
   ],
   "source": [
    "fig, ax = plt.subplots(figsize=(10, 6))\n",
    "\n",
    "ax.plot(bp_red.waveset, bp_red(bp_red.waveset), 'k-', color='r')\n",
    "ax.plot(bp_green.waveset, bp_green(bp_green.waveset), 'k-', color='g')\n",
    "ax.plot(bp_blue.waveset, bp_blue(bp_blue.waveset), 'k-', color='b')\n",
    "\n",
    "ax.plot(bp_red.waveset, bb_flux, 'k-', color='black')"
   ]
  },
  {
   "cell_type": "code",
   "execution_count": null,
   "id": "b40ac2bb",
   "metadata": {},
   "outputs": [],
   "source": []
  }
 ],
 "metadata": {
  "kernelspec": {
   "display_name": "Python 3",
   "language": "python",
   "name": "python3"
  },
  "language_info": {
   "codemirror_mode": {
    "name": "ipython",
    "version": 3
   },
   "file_extension": ".py",
   "mimetype": "text/x-python",
   "name": "python",
   "nbconvert_exporter": "python",
   "pygments_lexer": "ipython3",
   "version": "3.7.10"
  }
 },
 "nbformat": 4,
 "nbformat_minor": 5
}
