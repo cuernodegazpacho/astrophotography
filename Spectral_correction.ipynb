{
 "cells": [
  {
   "cell_type": "markdown",
   "id": "2a5a9c2d",
   "metadata": {},
   "source": [
    "# Spectral correction of camera RGB bands"
   ]
  },
  {
   "cell_type": "markdown",
   "id": "faa17d1a",
   "metadata": {},
   "source": [
    "The purpose of this notebook is to find correction coefficients for the camera RGB bands in order to correct raw files in a way that they can be interpreted as \"black-and-white pictures\". \n",
    "\n",
    "These are multiplicative coefficients that we apply to each band (the G band coefficient can be made 1.0) so a star image in a raw file whose bands were so corrected, will have a reasonably smooth profile. And the sky background will also be smooth. That is, the differences in gain between the three bands will be corrected out of the raw file.\n",
    "\n",
    "Of course, this would work well if not for two complicating factors:\n",
    " - the PSF is in general color dependent\n",
    " - stars have a variety of spectra\n",
    " \n",
    "The idea here is to use the solar spectrum as reference. The coefficients thus derived will be optimal for stars of type G, and also for the background in cases where it is dominated by day ligth (seldom tge case). For other stars and non-daylight backgrounds, we hope to be at least in the ball park.  "
   ]
  },
  {
   "cell_type": "code",
   "execution_count": null,
   "id": "34a0406f",
   "metadata": {},
   "outputs": [],
   "source": []
  }
 ],
 "metadata": {
  "kernelspec": {
   "display_name": "Python 3",
   "language": "python",
   "name": "python3"
  },
  "language_info": {
   "codemirror_mode": {
    "name": "ipython",
    "version": 3
   },
   "file_extension": ".py",
   "mimetype": "text/x-python",
   "name": "python",
   "nbconvert_exporter": "python",
   "pygments_lexer": "ipython3",
   "version": "3.7.10"
  }
 },
 "nbformat": 4,
 "nbformat_minor": 5
}
