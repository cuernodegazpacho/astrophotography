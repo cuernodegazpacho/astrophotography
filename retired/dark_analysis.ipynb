{
 "cells": [
  {
   "cell_type": "markdown",
   "metadata": {},
   "source": [
    "# Dark analysis"
   ]
  },
  {
   "cell_type": "markdown",
   "metadata": {},
   "source": [
    "The input consists of sets of 31 dark frames and 31 bias frames. One set was taken with the same settings used for the light exposures; the other set with settings identical with the flat exposures:\n",
    "\n",
    " - Darks and bias for the ligth exposures: ISO 6400 and 12800, exposure time 3.2s\n",
    " - Darks and bias for the flat exposures: ISO 100, exposure 1/40s\n",
    "\n",
    "Bias in both sets were taken at 1/8000s"
   ]
  },
  {
   "cell_type": "code",
   "execution_count": null,
   "metadata": {},
   "outputs": [],
   "source": [
    "%pylab notebook\n",
    "%matplotlib notebook\n",
    "\n",
    "import os, glob\n",
    "\n",
    "import numpy as np\n",
    "from matplotlib.pyplot import imshow\n",
    "import matplotlib.pyplot as plt\n",
    "\n",
    "import exifread\n",
    "import rawpy"
   ]
  },
  {
   "cell_type": "markdown",
   "metadata": {},
   "source": [
    "## Utility functions "
   ]
  },
  {
   "cell_type": "code",
   "execution_count": null,
   "metadata": {},
   "outputs": [],
   "source": [
    "# Stats\n",
    "def stats(array, x, y, size, name, results):\n",
    "    slice_x = slice(x,x+100)\n",
    "    slice_y = slice(y,y+100)\n",
    "\n",
    "    mean = np.mean(array[slice_x,slice_y])\n",
    "    std = np.std(array[slice_x,slice_y])\n",
    "    \n",
    "    results[name] = [mean, std]\n",
    "    print(name, \"  mean =\", mean, \"stddev =\", std)"
   ]
  },
  {
   "cell_type": "code",
   "execution_count": null,
   "metadata": {},
   "outputs": [],
   "source": [
    "# Combine darks from list, using a provided numpy averaging function.\n",
    "def combine_arrays(file_list, combination_function=np.average):\n",
    "    stack = None\n",
    "    for fname, i in zip(file_list, range(len(file_list))):\n",
    "\n",
    "        raw = rawpy.imread(fname)\n",
    "        array = raw.raw_image\n",
    "\n",
    "        if stack is None:            \n",
    "            stack = np.zeros(shape=(array.shape[0],array.shape[1],len(file_list)), dtype=float)\n",
    "\n",
    "        # Actual raw DN values are obtained by subtracting the\n",
    "        # camera-created black level per channel. In the Sony A7, this\n",
    "        # parameter is the same for all channels, and constant.\n",
    "        # Just subtract it from everything.\n",
    "        stack[:,:,i] = np.array(array, dtype=float) - 512.\n",
    "\n",
    "    return combination_function(stack, axis=2)"
   ]
  },
  {
   "cell_type": "code",
   "execution_count": null,
   "metadata": {},
   "outputs": [],
   "source": [
    "def process(path, title, results, vmin=-8, vmax=4, combination_function=np.average):\n",
    "    list_p = glob.glob(path + '/*.ARW')\n",
    "\n",
    "    # get exposure time\n",
    "    f = open(list_p[0], 'rb')\n",
    "    tags = exifread.process_file(f)\n",
    "    exptime = str(tags['EXIF ExposureTime'])    \n",
    "    \n",
    "    combined_array = combine_arrays(list_p, combination_function=combination_function)\n",
    "    \n",
    "    results[title] = {}\n",
    "    size = 1000\n",
    "\n",
    "    x = int(combined_array.shape[0] / 2)\n",
    "    y = int(combined_array.shape[1] / 2)\n",
    "    stats(combined_array, x, y, size, \"Center:\", results[title])\n",
    "\n",
    "    x = 10\n",
    "    y = 10\n",
    "    stats(combined_array, x, y, size, \"Corner:\", results[title])\n",
    "\n",
    "    plt.figure(figsize=[10, 6])\n",
    "    plt.imshow(combined_array, vmin=vmin, vmax=vmax)\n",
    "    plt.colorbar()\n",
    "    plt.title(title + \" \" + exptime)"
   ]
  },
  {
   "cell_type": "markdown",
   "metadata": {},
   "source": [
    "## Define paths to data files"
   ]
  },
  {
   "cell_type": "code",
   "execution_count": null,
   "metadata": {},
   "outputs": [],
   "source": [
    "path1 = '../astrophotography_data/MilkyWayPrettyBoy/12800/'\n",
    "path2 = '../astrophotography_data/MilkyWayPrettyBoy/6400/'\n",
    "path3 = '../astrophotography_data/MilkyWayPrettyBoy/darks/ISO100/'"
   ]
  },
  {
   "cell_type": "markdown",
   "metadata": {},
   "source": [
    "## Define dictionary to store summary of results"
   ]
  },
  {
   "cell_type": "code",
   "execution_count": null,
   "metadata": {},
   "outputs": [],
   "source": [
    "results = {}"
   ]
  },
  {
   "cell_type": "markdown",
   "metadata": {},
   "source": [
    "## Analysis of dark/bias for light exposures"
   ]
  },
  {
   "cell_type": "code",
   "execution_count": null,
   "metadata": {},
   "outputs": [],
   "source": [
    "dark_path = os.path.join(path1,'dark')\n",
    "process(dark_path, 'Average dark - ISO 12800 31 frames', results)"
   ]
  },
  {
   "cell_type": "code",
   "execution_count": null,
   "metadata": {},
   "outputs": [],
   "source": [
    "bias_path = os.path.join(path1,'bias')\n",
    "process(bias_path, 'Average bias - ISO 12800 31 frames', results)"
   ]
  },
  {
   "cell_type": "code",
   "execution_count": null,
   "metadata": {},
   "outputs": [],
   "source": [
    "dark_path = os.path.join(path2,'dark')\n",
    "process(dark_path, 'Average dark - ISO 6400 31 frames', results)"
   ]
  },
  {
   "cell_type": "code",
   "execution_count": null,
   "metadata": {},
   "outputs": [],
   "source": [
    "bias_path = os.path.join(path2,'bias')\n",
    "process(bias_path, 'Average bias - ISO 6400 31 frames', results)"
   ]
  },
  {
   "cell_type": "code",
   "execution_count": null,
   "metadata": {},
   "outputs": [],
   "source": [
    "bias_path = os.path.join(path1,'bias')\n",
    "process(bias_path, 'Bias standard deviation - ISO 12800 31 frames', results,\n",
    "        vmin=9, vmax=14, combination_function=np.std)"
   ]
  },
  {
   "cell_type": "code",
   "execution_count": null,
   "metadata": {},
   "outputs": [],
   "source": [
    "bias_path = os.path.join(path2,'bias')\n",
    "process(bias_path, 'Bias standard deviation - ISO 6400 31 frames', results,\n",
    "        vmin=5, vmax=8, combination_function=np.std)"
   ]
  },
  {
   "cell_type": "markdown",
   "metadata": {},
   "source": [
    "## Analysis of dark/bias for flat exposures (ISO 100)"
   ]
  },
  {
   "cell_type": "code",
   "execution_count": null,
   "metadata": {},
   "outputs": [],
   "source": [
    "dark_path = os.path.join(path3,'dark')\n",
    "process(dark_path, 'Average dark - ISO 100 31 frames', results,\n",
    "       vmin=0.6, vmax=1.4)"
   ]
  },
  {
   "cell_type": "code",
   "execution_count": null,
   "metadata": {},
   "outputs": [],
   "source": [
    "bias_path = os.path.join(path3,'bias')\n",
    "process(bias_path, 'Average bias - ISO 100 31 frames', results,\n",
    "       vmin=0.8, vmax=1.8,)"
   ]
  },
  {
   "cell_type": "code",
   "execution_count": null,
   "metadata": {},
   "outputs": [],
   "source": [
    "bias_path = os.path.join(path3,'bias')\n",
    "process(bias_path, 'Bias standard deviation - ISO 100 31 frames', results,\n",
    "        vmin=2.0, vmax=2.4, combination_function=np.std)"
   ]
  },
  {
   "cell_type": "code",
   "execution_count": null,
   "metadata": {},
   "outputs": [],
   "source": [
    "for k1 in results:\n",
    "    print(k1)\n",
    "    r = results[k1]\n",
    "    for k2 in r:\n",
    "        print(k2, r[k2])\n",
    "    print()"
   ]
  },
  {
   "cell_type": "markdown",
   "metadata": {},
   "source": [
    "## Conclusions\n",
    "\n",
    "Bias variance for any given pixel, along a sequence of bias exposures:\n",
    "  - ISO   100 - 2.2 DN\n",
    "  - ISO  6400 - 6.3 DN\n",
    "  - ISO 12800 -  12 DN\n",
    " \n",
    "These are large when compared with the across-detector bias variance in a single frame - thus should be a good estimator of the sensor readnoise.\n",
    "\n",
    "Darks have low mean values at any ISO, but the variance increases rapidily with increasing ISO. \n"
   ]
  },
  {
   "cell_type": "code",
   "execution_count": null,
   "metadata": {},
   "outputs": [],
   "source": []
  }
 ],
 "metadata": {
  "kernelspec": {
   "display_name": "Python 3",
   "language": "python",
   "name": "python3"
  },
  "language_info": {
   "codemirror_mode": {
    "name": "ipython",
    "version": 3
   },
   "file_extension": ".py",
   "mimetype": "text/x-python",
   "name": "python",
   "nbconvert_exporter": "python",
   "pygments_lexer": "ipython3",
   "version": "3.7.10"
  }
 },
 "nbformat": 4,
 "nbformat_minor": 2
}
