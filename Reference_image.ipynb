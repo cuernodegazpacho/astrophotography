{
 "cells": [
  {
   "cell_type": "code",
   "execution_count": 1,
   "metadata": {},
   "outputs": [],
   "source": [
    "# %pylab notebook\n",
    "# %matplotlib notebook\n",
    "%matplotlib tk\n",
    "\n",
    "import os\n",
    "import numpy as np\n",
    "import matplotlib.pyplot as plt\n",
    "import matplotlib.image as mpimg\n",
    "import ipywidgets as widgets"
   ]
  },
  {
   "cell_type": "code",
   "execution_count": 2,
   "metadata": {},
   "outputs": [],
   "source": [
    "fname = '../astrophotography_data/MilkyWayPrettyBoy/annotated/12800_DSC03779_annotated.tiff'"
   ]
  },
  {
   "cell_type": "code",
   "execution_count": 3,
   "metadata": {},
   "outputs": [],
   "source": [
    "def onclick(event):\n",
    "    if event.dblclick:\n",
    "        print(w.value, event.xdata, event.ydata)"
   ]
  },
  {
   "cell_type": "code",
   "execution_count": 4,
   "metadata": {
    "scrolled": false
   },
   "outputs": [
    {
     "name": "stderr",
     "output_type": "stream",
     "text": [
      "/Users/busko/Projects/software/miniconda3_2/envs/raw/lib/python3.7/site-packages/ipykernel_launcher.py:2: MatplotlibDeprecationWarning: Passing non-integers as three-element position specification is deprecated since 3.3 and will be removed two minor releases later.\n",
      "  \n"
     ]
    },
    {
     "data": {
      "application/vnd.jupyter.widget-view+json": {
       "model_id": "b73648e38cfb4019a9c213ac30c5c433",
       "version_major": 2,
       "version_minor": 0
      },
      "text/plain": [
       "Text(value='Deneb', description='Star name:', placeholder='star name')"
      ]
     },
     "metadata": {},
     "output_type": "display_data"
    },
    {
     "name": "stdout",
     "output_type": "stream",
     "text": [
      "Deneb 675.9155844155846 1749.1400742115027\n",
      "Deneb 1280.145640074212 2101.169758812616\n"
     ]
    }
   ],
   "source": [
    "fig = plt.figure(figsize=[11, 7])\n",
    "ax = fig.add_subplot('111')\n",
    "\n",
    "im = mpimg.imread(fname)\n",
    "implot = ax.imshow(im)\n",
    "\n",
    "cid = fig.canvas.mpl_connect('button_press_event', onclick)\n",
    "\n",
    "plt.show()\n",
    "\n",
    "w = widgets.Text(\n",
    "    value='Deneb',\n",
    "    placeholder='star name',\n",
    "    description='Star name:',\n",
    "    disabled=False\n",
    ")\n",
    "\n",
    "display(w)"
   ]
  },
  {
   "cell_type": "code",
   "execution_count": null,
   "metadata": {},
   "outputs": [],
   "source": []
  }
 ],
 "metadata": {
  "kernelspec": {
   "display_name": "Python 3",
   "language": "python",
   "name": "python3"
  },
  "language_info": {
   "codemirror_mode": {
    "name": "ipython",
    "version": 3
   },
   "file_extension": ".py",
   "mimetype": "text/x-python",
   "name": "python",
   "nbconvert_exporter": "python",
   "pygments_lexer": "ipython3",
   "version": "3.7.10"
  }
 },
 "nbformat": 4,
 "nbformat_minor": 2
}
