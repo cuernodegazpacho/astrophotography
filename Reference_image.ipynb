{
 "cells": [
  {
   "cell_type": "code",
   "execution_count": 1,
   "metadata": {},
   "outputs": [],
   "source": [
    "# %pylab notebook\n",
    "# %matplotlib notebook\n",
    "%matplotlib tk\n",
    "\n",
    "import os\n",
    "import numpy as np\n",
    "import matplotlib.pyplot as plt\n",
    "import matplotlib.image as mpimg\n",
    "import ipywidgets as widgets"
   ]
  },
  {
   "cell_type": "code",
   "execution_count": 2,
   "metadata": {},
   "outputs": [],
   "source": [
    "fname = '../astrophotography_data/MilkyWayPrettyBoy/annotated/12800_DSC03779_annotated.tiff'"
   ]
  },
  {
   "cell_type": "code",
   "execution_count": 3,
   "metadata": {},
   "outputs": [],
   "source": [
    "def onclick(event):\n",
    "    if event.dblclick:\n",
    "        print(w.value, event.xdata, event.ydata)"
   ]
  },
  {
   "cell_type": "code",
   "execution_count": 4,
   "metadata": {
    "scrolled": false
   },
   "outputs": [
    {
     "data": {
      "application/vnd.jupyter.widget-view+json": {
       "model_id": "afaa973f35ca4fe0a05288935bca88f8",
       "version_major": 2,
       "version_minor": 0
      },
      "text/plain": [
       "Text(value='Deneb', description='Star name:', placeholder='Type something')"
      ]
     },
     "metadata": {},
     "output_type": "display_data"
    },
    {
     "name": "stdout",
     "output_type": "stream",
     "text": [
      "Deneb 1500.3506235349598 1367.866376268841\n",
      "31 Cyg 1388.4825244990898 1488.5661673338586\n",
      "Delta Cyg 1214.7925812591861 1543.0282681802692\n",
      "13 Lyr 933.6503849979865 1732.909646806943\n",
      "L Cyg 1303.1095015506626 1763.82056890896\n",
      "Sadr 1313.4131422513349 1281.021404648889\n",
      "21 Cyg 1051.406278719955 1223.6154064594296\n",
      "58 Cyg 1525.373750950878 1208.8959197441836\n",
      "58 Cyg 2433.661124324918 1123.522896795756\n",
      "58 Cyg 2822.0996055362593 1132.802997029474\n",
      "58 Cyg 3062.056483008111 1008.1845081766888\n",
      "58 Cyg 2710.7384027316425 955.1553639840143\n",
      "58 Cyg 2641.8005152811656 870.308733275735\n",
      "58 Cyg 2908.2719648493553 788.1135597770896\n",
      "58 Cyg 2698.806845288291 686.032457206191\n",
      "58 Cyg 3146.9031137163906 549.4824109100541\n"
     ]
    }
   ],
   "source": [
    "fig = plt.figure(figsize=[11, 7])\n",
    "ax = fig.add_subplot('111')\n",
    "\n",
    "im = mpimg.imread(fname)\n",
    "implot = ax.imshow(im)\n",
    "\n",
    "cid = fig.canvas.mpl_connect('button_press_event', onclick)\n",
    "\n",
    "plt.show()\n",
    "\n",
    "w = widgets.Text(\n",
    "    value='Deneb',\n",
    "    placeholder='star name',\n",
    "    description='Star name:',\n",
    "    disabled=False\n",
    ")\n",
    "\n",
    "display(w)"
   ]
  },
  {
   "cell_type": "code",
   "execution_count": null,
   "metadata": {},
   "outputs": [],
   "source": []
  }
 ],
 "metadata": {
  "kernelspec": {
   "display_name": "Python 3",
   "language": "python",
   "name": "python3"
  },
  "language_info": {
   "codemirror_mode": {
    "name": "ipython",
    "version": 3
   },
   "file_extension": ".py",
   "mimetype": "text/x-python",
   "name": "python",
   "nbconvert_exporter": "python",
   "pygments_lexer": "ipython3",
   "version": "3.7.3"
  }
 },
 "nbformat": 4,
 "nbformat_minor": 2
}
