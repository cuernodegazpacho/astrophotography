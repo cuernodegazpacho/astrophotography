{
 "cells": [
  {
   "cell_type": "code",
   "execution_count": 1,
   "metadata": {},
   "outputs": [],
   "source": [
    "# %pylab notebook\n",
    "# %matplotlib notebook\n",
    "%matplotlib tk\n",
    "\n",
    "import os\n",
    "import numpy as np\n",
    "import matplotlib.pyplot as plt\n",
    "import matplotlib.image as mpimg"
   ]
  },
  {
   "cell_type": "code",
   "execution_count": 2,
   "metadata": {},
   "outputs": [],
   "source": [
    "fname = '../astrophotography_data/MilkyWayPrettyBoy/annotated/12800_DSC03779_annotated.tiff'"
   ]
  },
  {
   "cell_type": "code",
   "execution_count": 3,
   "metadata": {},
   "outputs": [],
   "source": [
    "def onclick(event):\n",
    "    print(\"AAAAAAAAA\")\n",
    "    print('%s click: button=%d, x=%d, y=%d, xdata=%f, ydata=%f' %\n",
    "          ('double' if event.dblclick else 'single', event.button,\n",
    "           event.x, event.y, event.xdata, event.ydata))"
   ]
  },
  {
   "cell_type": "code",
   "execution_count": 4,
   "metadata": {
    "scrolled": false
   },
   "outputs": [
    {
     "name": "stdout",
     "output_type": "stream",
     "text": [
      "AAAAAAAAA\n",
      "single click: button=1, x=397, y=353, xdata=1243.366419, ydata=1381.347866\n",
      "AAAAAAAAA\n",
      "single click: button=1, x=315, y=225, xdata=812.524119, ydata=2053.882189\n",
      "AAAAAAAAA\n",
      "single click: button=1, x=354, y=465, xdata=1017.436920, ydata=792.880334\n",
      "AAAAAAAAA\n",
      "single click: button=1, x=300, y=440, xdata=733.711503, ydata=924.234694\n",
      "AAAAAAAAA\n",
      "single click: button=1, x=260, y=314, xdata=523.544527, ydata=1586.260668\n",
      "AAAAAAAAA\n",
      "single click: button=1, x=278, y=245, xdata=618.119666, ydata=1948.798701\n",
      "AAAAAAAAA\n",
      "single click: button=1, x=291, y=299, xdata=686.423933, ydata=1665.073284\n",
      "AAAAAAAAA\n",
      "single click: button=1, x=664, y=239, xdata=1826.579777, ydata=1486.431354\n",
      "AAAAAAAAA\n",
      "single click: button=1, x=370, y=290, xdata=1222.349722, ydata=1822.698516\n",
      "AAAAAAAAA\n",
      "single click: button=1, x=298, y=444, xdata=844.049165, ydata=1013.555659\n",
      "AAAAAAAAA\n",
      "single click: button=1, x=324, y=303, xdata=886.082560, ydata=1586.260668\n",
      "AAAAAAAAA\n",
      "single click: button=1, x=387, y=368, xdata=1217.095547, ydata=1339.314471\n",
      "AAAAAAAAA\n",
      "single click: button=3, x=354, y=397, xdata=1043.707792, ydata=1186.943414\n",
      "AAAAAAAAA\n",
      "single click: button=1, x=339, y=418, xdata=964.895176, ydata=1076.605751\n",
      "AAAAAAAAA\n",
      "single click: button=1, x=301, y=351, xdata=759.982375, ydata=1433.889610\n",
      "AAAAAAAAA\n",
      "single click: button=1, x=245, y=448, xdata=465.748609, ydata=876.947124\n",
      "AAAAAAAAA\n",
      "single click: button=1, x=337, y=457, xdata=681.752202, ydata=1123.386425\n",
      "AAAAAAAAA\n",
      "single click: button=1, x=276, y=257, xdata=587.206307, ydata=1433.372966\n",
      "AAAAAAAAA\n",
      "single click: button=1, x=239, y=295, xdata=529.858797, ydata=1374.475523\n",
      "AAAAAAAAA\n",
      "single click: button=1, x=448, y=232, xdata=546.489661, ydata=1506.981830\n",
      "AAAAAAAAA\n",
      "single click: button=1, x=325, y=420, xdata=865.065863, ydata=1029.318182\n",
      "AAAAAAAAA\n",
      "single click: button=1, x=418, y=394, xdata=1051.026107, ydata=1226.247368\n",
      "AAAAAAAAA\n",
      "single click: button=1, x=373, y=426, xdata=1011.108028, ydata=1197.861179\n",
      "AAAAAAAAA\n",
      "single click: button=1, x=316, y=488, xdata=1049.792193, ydata=1227.142665\n",
      "AAAAAAAAA\n",
      "single click: button=1, x=276, y=531, xdata=1040.641728, ydata=1217.305916\n"
     ]
    }
   ],
   "source": [
    "fig = plt.figure(figsize=[11, 7])\n",
    "ax = fig.add_subplot('111')\n",
    "\n",
    "im = mpimg.imread(fname)\n",
    "implot = ax.imshow(im)\n",
    "\n",
    "cid = fig.canvas.mpl_connect('button_press_event', onclick)\n",
    "plt.show()"
   ]
  },
  {
   "cell_type": "code",
   "execution_count": null,
   "metadata": {},
   "outputs": [],
   "source": []
  }
 ],
 "metadata": {
  "kernelspec": {
   "display_name": "Python 3",
   "language": "python",
   "name": "python3"
  },
  "language_info": {
   "codemirror_mode": {
    "name": "ipython",
    "version": 3
   },
   "file_extension": ".py",
   "mimetype": "text/x-python",
   "name": "python",
   "nbconvert_exporter": "python",
   "pygments_lexer": "ipython3",
   "version": "3.7.3"
  }
 },
 "nbformat": 4,
 "nbformat_minor": 2
}
