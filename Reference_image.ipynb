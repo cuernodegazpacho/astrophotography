{
 "cells": [
  {
   "cell_type": "code",
   "execution_count": 1,
   "metadata": {},
   "outputs": [],
   "source": [
    "# %pylab notebook\n",
    "# %matplotlib notebook\n",
    "%matplotlib tk\n",
    "\n",
    "import os\n",
    "import numpy as np\n",
    "import matplotlib.pyplot as plt\n",
    "import matplotlib.image as mpimg\n",
    "import ipywidgets as widgets"
   ]
  },
  {
   "cell_type": "code",
   "execution_count": 2,
   "metadata": {},
   "outputs": [],
   "source": [
    "fname = '../astrophotography_data/MilkyWayPrettyBoy/annotated/12800_DSC03779_annotated.tiff'"
   ]
  },
  {
   "cell_type": "code",
   "execution_count": 3,
   "metadata": {},
   "outputs": [],
   "source": [
    "def onclick(event):\n",
    "    if event.dblclick:\n",
    "        print(w.value, event.xdata, event.ydata)"
   ]
  },
  {
   "cell_type": "code",
   "execution_count": 4,
   "metadata": {
    "scrolled": false
   },
   "outputs": [
    {
     "data": {
      "application/vnd.jupyter.widget-view+json": {
       "model_id": "57f44ab8c5b949fb98f993b1f7d8aac7",
       "version_major": 2,
       "version_minor": 0
      },
      "text/plain": [
       "Text(value='Deneb', description='Star name:', placeholder='star name')"
      ]
     },
     "metadata": {},
     "output_type": "display_data"
    },
    {
     "name": "stdout",
     "output_type": "stream",
     "text": [
      "Deneb 1147.494013421523 1221.6457055955195\n",
      "Deneb 568.6884323854586 1668.2830830879157\n",
      "Deneb 1174.9403003903299 43.94187501269812\n",
      "Deneb 1135.979955245104 59.76951522794616\n",
      "Deneb 2073.463260302102 14.721616153778655\n",
      "Deneb 1564.5437518425888 311.7942478861263\n"
     ]
    }
   ],
   "source": [
    "fig = plt.figure(figsize=[11, 7])\n",
    "ax = fig.add_subplot('111')\n",
    "\n",
    "im = mpimg.imread(fname)\n",
    "implot = ax.imshow(im)\n",
    "\n",
    "cid = fig.canvas.mpl_connect('button_press_event', onclick)\n",
    "\n",
    "plt.show()\n",
    "\n",
    "w = widgets.Text(\n",
    "    value='Deneb',\n",
    "    placeholder='star name',\n",
    "    description='Star name:',\n",
    "    disabled=False\n",
    ")\n",
    "\n",
    "display(w)"
   ]
  },
  {
   "cell_type": "code",
   "execution_count": null,
   "metadata": {},
   "outputs": [],
   "source": []
  }
 ],
 "metadata": {
  "kernelspec": {
   "display_name": "Python 3",
   "language": "python",
   "name": "python3"
  },
  "language_info": {
   "codemirror_mode": {
    "name": "ipython",
    "version": 3
   },
   "file_extension": ".py",
   "mimetype": "text/x-python",
   "name": "python",
   "nbconvert_exporter": "python",
   "pygments_lexer": "ipython3",
   "version": "3.7.3"
  }
 },
 "nbformat": 4,
 "nbformat_minor": 2
}
