{
 "cells": [
  {
   "cell_type": "markdown",
   "metadata": {},
   "source": [
    "# Builds table with exposure data for a directory tree"
   ]
  },
  {
   "cell_type": "code",
   "execution_count": 1,
   "metadata": {},
   "outputs": [
    {
     "name": "stdout",
     "output_type": "stream",
     "text": [
      "Populating the interactive namespace from numpy and matplotlib\n"
     ]
    }
   ],
   "source": [
    "%pylab notebook\n",
    "%matplotlib notebook\n",
    "\n",
    "import os, glob\n",
    "\n",
    "import numpy as np\n",
    "from matplotlib.pyplot import imshow\n",
    "import matplotlib.pyplot as plt\n",
    "\n",
    "import exifread\n",
    "import rawpy\n",
    "from astropy.table import Table"
   ]
  },
  {
   "cell_type": "code",
   "execution_count": 2,
   "metadata": {},
   "outputs": [],
   "source": [
    "def get_exif(dirpath):\n",
    "    table = Table(names=('File', 'ISO', 'Exptime'), dtype=('S', 'S', 'S'))\n",
    "\n",
    "    list_files = glob.glob(dirpath + '/*.ARW')\n",
    "    for filename in list_files:\n",
    "        \n",
    "        f = open(filename, 'rb')\n",
    "        tags = exifread.process_file(f)\n",
    "        iso = ''\n",
    "        exptime = ''\n",
    "        for tag in tags.keys():\n",
    "            if tag in ['EXIF ExposureTime']:\n",
    "                exptime = tags[tag]\n",
    "            if tag in ['EXIF ISOSpeedRatings']:\n",
    "                iso = tags[tag]\n",
    "\n",
    "        table.add_row((os.path.basename(filename), iso, exptime))    \n",
    "\n",
    "    table.sort('File')\n",
    "\n",
    "    return table"
   ]
  },
  {
   "cell_type": "code",
   "execution_count": 3,
   "metadata": {},
   "outputs": [
    {
     "name": "stdout",
     "output_type": "stream",
     "text": [
      "     File      ISO  Exptime\n",
      "-------------- ---- -------\n",
      "I1600_f2.8.ARW 1600      30\n",
      "  I1600_f2.ARW 1600      30\n",
      "  I1600_f4.ARW 1600      30\n",
      " I200_f2.8.ARW  200      30\n",
      "   I200_f2.ARW  200      30\n",
      "   I200_f4.ARW  200      30\n",
      " I400_f2.8.ARW  400      30\n",
      "   I400_f2.ARW  400      30\n",
      "   I400_f4.ARW  400      30\n",
      " I800_f2.8.ARW  800      30\n",
      "   I800_f2.ARW  800      30\n",
      "   I800_f4.ARW  800      30\n"
     ]
    }
   ],
   "source": [
    "basepath = '../astrophotography_data/cls/'\n",
    "dirpath = os.path.join(basepath,'with_filter')\n",
    "t = get_exif(dirpath)\n",
    "t.pprint_all()"
   ]
  },
  {
   "cell_type": "code",
   "execution_count": 4,
   "metadata": {},
   "outputs": [
    {
     "name": "stdout",
     "output_type": "stream",
     "text": [
      "     File      ISO  Exptime\n",
      "-------------- ---- -------\n",
      "I1600_f2.8.ARW 1600      30\n",
      "  I1600_f4.ARW 1600      30\n",
      " I200_f2.8.ARW  200      30\n",
      "   I200_f4.ARW  200      30\n",
      " I400_f2.8.ARW  400      30\n",
      "   I400_f4.ARW  400      30\n",
      "   I800_f4.ARW  800      30\n"
     ]
    }
   ],
   "source": [
    "basepath = '../astrophotography_data/cls/'\n",
    "dirpath = os.path.join(basepath,'without_filter')\n",
    "t = get_exif(dirpath)\n",
    "t.pprint_all()"
   ]
  },
  {
   "cell_type": "code",
   "execution_count": null,
   "metadata": {},
   "outputs": [],
   "source": []
  }
 ],
 "metadata": {
  "kernelspec": {
   "display_name": "Python 3",
   "language": "python",
   "name": "python3"
  },
  "language_info": {
   "codemirror_mode": {
    "name": "ipython",
    "version": 3
   },
   "file_extension": ".py",
   "mimetype": "text/x-python",
   "name": "python",
   "nbconvert_exporter": "python",
   "pygments_lexer": "ipython3",
   "version": "3.7.3"
  }
 },
 "nbformat": 4,
 "nbformat_minor": 2
}
