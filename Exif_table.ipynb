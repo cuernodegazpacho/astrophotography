{
 "cells": [
  {
   "cell_type": "markdown",
   "metadata": {},
   "source": [
    "# Builds table with exposure data for a directory tree"
   ]
  },
  {
   "cell_type": "code",
   "execution_count": 1,
   "metadata": {},
   "outputs": [
    {
     "name": "stdout",
     "output_type": "stream",
     "text": [
      "Populating the interactive namespace from numpy and matplotlib\n"
     ]
    }
   ],
   "source": [
    "%pylab notebook\n",
    "%matplotlib notebook\n",
    "\n",
    "import os, glob\n",
    "\n",
    "import numpy as np\n",
    "from matplotlib.pyplot import imshow\n",
    "import matplotlib.pyplot as plt\n",
    "\n",
    "import exifread\n",
    "import rawpy\n",
    "from astropy.table import Table"
   ]
  },
  {
   "cell_type": "code",
   "execution_count": 2,
   "metadata": {},
   "outputs": [],
   "source": [
    "# Extracts exposure EXIF data from a list of images\n",
    "\n",
    "def get_metadata(dirpath):\n",
    "    \n",
    "    list_files = glob.glob(dirpath + '/*.ARW')\n",
    "\n",
    "    table = Table(names=('ISO', 'Time', 'f/stop', 'Exposure', 'File'), \n",
    "                  dtype=('f4','f4','f4','f4','S2'))\n",
    "    \n",
    "    for filename in list_files:\n",
    "        f = open(filename, 'rb')\n",
    "        tags = exifread.process_file(f)\n",
    "        iso = ''\n",
    "        exptime = ''\n",
    "        for tag in tags.keys():\n",
    "            if tag in ['EXIF ExposureTime']:\n",
    "                exptime = tags[tag]\n",
    "            if tag in ['EXIF ISOSpeedRatings']:\n",
    "                iso = tags[tag]\n",
    "\n",
    "        index = filename.split('_')[-1].rfind('.')\n",
    "        iso = float(str(iso))\n",
    "        try:\n",
    "            fstop = float(filename.split('_')[-1][:index][1:])\n",
    "        except ValueError:\n",
    "            fstop = 2.8\n",
    "            \n",
    "        #TODO this doesn't work for fractional exptimes such as 1/200\n",
    "        exptime = float(str(exptime))\n",
    "        \n",
    "        exposure = 1./(exptime/3.2) / (iso/100) * (fstop/2.8)**2\n",
    "        \n",
    "        table.add_row((iso, exptime, fstop, exposure, filename))\n",
    "\n",
    "    table.sort('Exposure')    \n",
    "    \n",
    "    return table"
   ]
  },
  {
   "cell_type": "code",
   "execution_count": 3,
   "metadata": {},
   "outputs": [
    {
     "name": "stdout",
     "output_type": "stream",
     "text": [
      " ISO   Time f/stop   Exposure                             File                         \n",
      "------ ---- ------ ------------ -------------------------------------------------------\n",
      "1600.0 30.0    2.0 0.0034013605   ../astrophotography_data/cls/with_filter/I1600_f2.ARW\n",
      "1600.0 30.0    2.8  0.006666667 ../astrophotography_data/cls/with_filter/I1600_f2.8.ARW\n",
      " 800.0 30.0    2.0  0.006802721    ../astrophotography_data/cls/with_filter/I800_f2.ARW\n",
      " 800.0 30.0    2.8  0.013333334  ../astrophotography_data/cls/with_filter/I800_f2.8.ARW\n",
      " 400.0 30.0    2.0  0.013605442    ../astrophotography_data/cls/with_filter/I400_f2.ARW\n",
      "1600.0 30.0    4.0  0.013605442   ../astrophotography_data/cls/with_filter/I1600_f4.ARW\n",
      " 400.0 30.0    2.8  0.026666667  ../astrophotography_data/cls/with_filter/I400_f2.8.ARW\n",
      " 200.0 30.0    2.0  0.027210884    ../astrophotography_data/cls/with_filter/I200_f2.ARW\n",
      " 800.0 30.0    4.0  0.027210884    ../astrophotography_data/cls/with_filter/I800_f4.ARW\n",
      " 200.0 30.0    2.8  0.053333335  ../astrophotography_data/cls/with_filter/I200_f2.8.ARW\n",
      " 400.0 30.0    4.0  0.054421768    ../astrophotography_data/cls/with_filter/I400_f4.ARW\n",
      " 200.0 30.0    4.0  0.108843535    ../astrophotography_data/cls/with_filter/I200_f4.ARW\n"
     ]
    }
   ],
   "source": [
    "basepath = '../astrophotography_data/cls/'\n",
    "dirpath = os.path.join(basepath,'with_filter')\n",
    "t = get_metadata(dirpath)\n",
    "t.pprint_all()"
   ]
  },
  {
   "cell_type": "code",
   "execution_count": 4,
   "metadata": {},
   "outputs": [
    {
     "name": "stdout",
     "output_type": "stream",
     "text": [
      " ISO   Time f/stop   Exposure                             File                           \n",
      "------ ---- ------ ----------- ----------------------------------------------------------\n",
      "1600.0 30.0    2.8 0.006666667 ../astrophotography_data/cls/without_filter/I1600_f2.8.ARW\n",
      "1600.0 30.0    4.0 0.013605442   ../astrophotography_data/cls/without_filter/I1600_f4.ARW\n",
      " 400.0 30.0    2.8 0.026666667  ../astrophotography_data/cls/without_filter/I400_f2.8.ARW\n",
      " 800.0 30.0    4.0 0.027210884    ../astrophotography_data/cls/without_filter/I800_f4.ARW\n",
      " 200.0 30.0    2.8 0.053333335  ../astrophotography_data/cls/without_filter/I200_f2.8.ARW\n",
      " 400.0 30.0    4.0 0.054421768    ../astrophotography_data/cls/without_filter/I400_f4.ARW\n",
      " 200.0 30.0    4.0 0.108843535    ../astrophotography_data/cls/without_filter/I200_f4.ARW\n"
     ]
    }
   ],
   "source": [
    "basepath = '../astrophotography_data/cls/'\n",
    "dirpath = os.path.join(basepath,'without_filter')\n",
    "t = get_metadata(dirpath)\n",
    "t.pprint_all()"
   ]
  },
  {
   "cell_type": "code",
   "execution_count": 5,
   "metadata": {},
   "outputs": [
    {
     "name": "stdout",
     "output_type": "stream",
     "text": [
      "  ISO   Time f/stop    Exposure                                File                             \n",
      "------- ---- ------ ------------- --------------------------------------------------------------\n",
      "12800.0 30.0    2.8 0.00083333335 ../astrophotography_data/assateague/milky_way/raw/DSC03271.ARW\n",
      "12800.0 20.0    2.8       0.00125 ../astrophotography_data/assateague/milky_way/raw/DSC03276.ARW\n",
      "12800.0 20.0    2.8       0.00125 ../astrophotography_data/assateague/milky_way/raw/DSC03275.ARW\n",
      " 6400.0 30.0    2.8  0.0016666667 ../astrophotography_data/assateague/milky_way/raw/DSC03270.ARW\n",
      " 6400.0 30.0    2.8  0.0016666667 ../astrophotography_data/assateague/milky_way/raw/DSC03293.ARW\n",
      " 6400.0 30.0    2.8  0.0016666667 ../astrophotography_data/assateague/milky_way/raw/DSC03304.ARW\n",
      " 6400.0 30.0    2.8  0.0016666667 ../astrophotography_data/assateague/milky_way/raw/DSC03312.ARW\n",
      " 6400.0 30.0    2.8  0.0016666667 ../astrophotography_data/assateague/milky_way/raw/DSC03306.ARW\n",
      " 6400.0 30.0    2.8  0.0016666667 ../astrophotography_data/assateague/milky_way/raw/DSC03330.ARW\n",
      " 6400.0 30.0    2.8  0.0016666667 ../astrophotography_data/assateague/milky_way/raw/DSC03332.ARW\n",
      " 6400.0 30.0    2.8  0.0016666667 ../astrophotography_data/assateague/milky_way/raw/DSC03273.ARW\n",
      " 6400.0 30.0    2.8  0.0016666667 ../astrophotography_data/assateague/milky_way/raw/DSC03324.ARW\n",
      " 6400.0 30.0    2.8  0.0016666667 ../astrophotography_data/assateague/milky_way/raw/DSC03313.ARW\n",
      " 6400.0 30.0    2.8  0.0016666667 ../astrophotography_data/assateague/milky_way/raw/DSC03326.ARW\n",
      " 6400.0 30.0    2.8  0.0016666667 ../astrophotography_data/assateague/milky_way/raw/DSC03295.ARW\n",
      " 6400.0 30.0    2.8  0.0016666667 ../astrophotography_data/assateague/milky_way/raw/DSC03294.ARW\n",
      " 6400.0 30.0    2.8  0.0016666667 ../astrophotography_data/assateague/milky_way/raw/DSC03308.ARW\n",
      " 6400.0 30.0    2.8  0.0016666667 ../astrophotography_data/assateague/milky_way/raw/DSC03269.ARW\n",
      " 6400.0 30.0    2.8  0.0016666667 ../astrophotography_data/assateague/milky_way/raw/DSC03272.ARW\n",
      " 6400.0 30.0    2.8  0.0016666667 ../astrophotography_data/assateague/milky_way/raw/DSC03296.ARW\n",
      " 6400.0 30.0    2.8  0.0016666667 ../astrophotography_data/assateague/milky_way/raw/DSC03325.ARW\n",
      " 6400.0 30.0    2.8  0.0016666667 ../astrophotography_data/assateague/milky_way/raw/DSC03305.ARW\n",
      " 6400.0 30.0    2.8  0.0016666667 ../astrophotography_data/assateague/milky_way/raw/DSC03292.ARW\n",
      " 6400.0 30.0    2.8  0.0016666667 ../astrophotography_data/assateague/milky_way/raw/DSC03329.ARW\n",
      " 6400.0 30.0    2.8  0.0016666667 ../astrophotography_data/assateague/milky_way/raw/DSC03274.ARW\n",
      " 6400.0 30.0    2.8  0.0016666667 ../astrophotography_data/assateague/milky_way/raw/DSC03328.ARW\n",
      " 6400.0 30.0    2.8  0.0016666667 ../astrophotography_data/assateague/milky_way/raw/DSC03314.ARW\n",
      " 6400.0 30.0    2.8  0.0016666667 ../astrophotography_data/assateague/milky_way/raw/DSC03331.ARW\n",
      " 6400.0 30.0    2.8  0.0016666667 ../astrophotography_data/assateague/milky_way/raw/DSC03288.ARW\n",
      " 6400.0 30.0    2.8  0.0016666667 ../astrophotography_data/assateague/milky_way/raw/DSC03327.ARW\n",
      " 6400.0 20.0    2.8        0.0025 ../astrophotography_data/assateague/milky_way/raw/DSC03285.ARW\n",
      " 6400.0 20.0    2.8        0.0025 ../astrophotography_data/assateague/milky_way/raw/DSC03280.ARW\n",
      " 6400.0 20.0    2.8        0.0025 ../astrophotography_data/assateague/milky_way/raw/DSC03277.ARW\n",
      " 6400.0 20.0    2.8        0.0025 ../astrophotography_data/assateague/milky_way/raw/DSC03281.ARW\n",
      " 6400.0 20.0    2.8        0.0025 ../astrophotography_data/assateague/milky_way/raw/DSC03279.ARW\n",
      " 6400.0 20.0    2.8        0.0025 ../astrophotography_data/assateague/milky_way/raw/DSC03278.ARW\n",
      " 6400.0 20.0    2.8        0.0025 ../astrophotography_data/assateague/milky_way/raw/DSC03266.ARW\n",
      " 6400.0 20.0    2.8        0.0025 ../astrophotography_data/assateague/milky_way/raw/DSC03286.ARW\n",
      " 6400.0 20.0    2.8        0.0025 ../astrophotography_data/assateague/milky_way/raw/DSC03287.ARW\n",
      " 4000.0 30.0    2.8  0.0026666666 ../astrophotography_data/assateague/milky_way/raw/DSC03320.ARW\n",
      " 4000.0 30.0    2.8  0.0026666666 ../astrophotography_data/assateague/milky_way/raw/DSC03318.ARW\n",
      " 4000.0 30.0    2.8  0.0026666666 ../astrophotography_data/assateague/milky_way/raw/DSC03319.ARW\n",
      " 4000.0 30.0    2.8  0.0026666666 ../astrophotography_data/assateague/milky_way/raw/DSC03317.ARW\n",
      " 4000.0 30.0    2.8  0.0026666666 ../astrophotography_data/assateague/milky_way/raw/DSC03322.ARW\n",
      " 4000.0 30.0    2.8  0.0026666666 ../astrophotography_data/assateague/milky_way/raw/DSC03316.ARW\n",
      " 4000.0 30.0    2.8  0.0026666666 ../astrophotography_data/assateague/milky_way/raw/DSC03300.ARW\n",
      " 4000.0 30.0    2.8  0.0026666666 ../astrophotography_data/assateague/milky_way/raw/DSC03315.ARW\n",
      " 4000.0 30.0    2.8  0.0026666666 ../astrophotography_data/assateague/milky_way/raw/DSC03301.ARW\n",
      " 4000.0 30.0    2.8  0.0026666666 ../astrophotography_data/assateague/milky_way/raw/DSC03311.ARW\n",
      " 4000.0 30.0    2.8  0.0026666666 ../astrophotography_data/assateague/milky_way/raw/DSC03310.ARW\n",
      " 4000.0 30.0    2.8  0.0026666666 ../astrophotography_data/assateague/milky_way/raw/DSC03302.ARW\n",
      " 4000.0 30.0    2.8  0.0026666666 ../astrophotography_data/assateague/milky_way/raw/DSC03299.ARW\n",
      " 4000.0 30.0    2.8  0.0026666666 ../astrophotography_data/assateague/milky_way/raw/DSC03298.ARW\n",
      " 4000.0 30.0    2.8  0.0026666666 ../astrophotography_data/assateague/milky_way/raw/DSC03307.ARW\n",
      " 4000.0 30.0    2.8  0.0026666666 ../astrophotography_data/assateague/milky_way/raw/DSC03323.ARW\n",
      " 4000.0 30.0    2.8  0.0026666666 ../astrophotography_data/assateague/milky_way/raw/DSC03303.ARW\n",
      " 4000.0 30.0    2.8  0.0026666666 ../astrophotography_data/assateague/milky_way/raw/DSC03321.ARW\n",
      " 3200.0 30.0    2.8  0.0033333334 ../astrophotography_data/assateague/milky_way/raw/DSC03290.ARW\n",
      " 3200.0 30.0    2.8  0.0033333334 ../astrophotography_data/assateague/milky_way/raw/DSC03309.ARW\n",
      " 3200.0 30.0    2.8  0.0033333334 ../astrophotography_data/assateague/milky_way/raw/DSC03297.ARW\n",
      " 3200.0 30.0    2.8  0.0033333334 ../astrophotography_data/assateague/milky_way/raw/DSC03268.ARW\n",
      " 3200.0 30.0    2.8  0.0033333334 ../astrophotography_data/assateague/milky_way/raw/DSC03291.ARW\n",
      " 3200.0 30.0    2.8  0.0033333334 ../astrophotography_data/assateague/milky_way/raw/DSC03289.ARW\n",
      " 3200.0 20.0    2.8         0.005 ../astrophotography_data/assateague/milky_way/raw/DSC03282.ARW\n",
      " 3200.0 20.0    2.8         0.005 ../astrophotography_data/assateague/milky_way/raw/DSC03265.ARW\n",
      " 1600.0 30.0    2.8   0.006666667 ../astrophotography_data/assateague/milky_way/raw/DSC03267.ARW\n",
      " 1600.0 20.0    2.8          0.01 ../astrophotography_data/assateague/milky_way/raw/DSC03264.ARW\n",
      " 1600.0 20.0    2.8          0.01 ../astrophotography_data/assateague/milky_way/raw/DSC03283.ARW\n",
      "  800.0 20.0    2.8          0.02 ../astrophotography_data/assateague/milky_way/raw/DSC03284.ARW\n"
     ]
    }
   ],
   "source": [
    "basepath = '../astrophotography_data/assateague/milky_way/'\n",
    "dirpath = os.path.join(basepath,'raw')\n",
    "t = get_metadata(dirpath)\n",
    "t.pprint_all()"
   ]
  },
  {
   "cell_type": "code",
   "execution_count": null,
   "metadata": {},
   "outputs": [],
   "source": []
  }
 ],
 "metadata": {
  "kernelspec": {
   "display_name": "Python 3",
   "language": "python",
   "name": "python3"
  },
  "language_info": {
   "codemirror_mode": {
    "name": "ipython",
    "version": 3
   },
   "file_extension": ".py",
   "mimetype": "text/x-python",
   "name": "python",
   "nbconvert_exporter": "python",
   "pygments_lexer": "ipython3",
   "version": "3.7.10"
  }
 },
 "nbformat": 4,
 "nbformat_minor": 2
}
