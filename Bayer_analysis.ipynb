{
 "cells": [
  {
   "cell_type": "code",
   "execution_count": null,
   "metadata": {
    "scrolled": true
   },
   "outputs": [],
   "source": [
    "%pylab notebook\n",
    "%matplotlib notebook\n",
    "\n",
    "import os, glob\n",
    "\n",
    "import numpy as np\n",
    "\n",
    "from scipy.ndimage.filters import convolve\n",
    "\n",
    "import matplotlib.pyplot as plt\n",
    "import matplotlib.cm as cm\n",
    "import matplotlib.colors as mcolors\n",
    "\n",
    "import rawpy"
   ]
  },
  {
   "cell_type": "code",
   "execution_count": null,
   "metadata": {},
   "outputs": [],
   "source": [
    "# Colormaps for the RGB Bayer pixels\n",
    "reds = {'red':    [(0.0,  0.0, 0.0),\n",
    "                   (1.0,  1.0, 1.0)],\n",
    "         'green': [(0.0,  0.0, 0.0),\n",
    "                   (1.0,  0.0, 0.0)],\n",
    "         'blue':  [(0.0,  0.0, 0.0),\n",
    "                   (1.0,  0.0, 0.0)]}\n",
    "greens = {'red':  [(0.0,  0.0, 0.0),\n",
    "                   (1.0,  0.0, 0.0)],\n",
    "         'green': [(0.0,  0.0, 0.0),\n",
    "                   (1.0,  1.0, 1.0)],\n",
    "         'blue':  [(0.0,  0.0, 0.0),\n",
    "                   (1.0,  0.0, 0.0)]}\n",
    "blues = {'red':   [(0.0,  0.0, 0.0),\n",
    "                   (1.0,  0.0, 0.0)],\n",
    "         'green': [(0.0,  0.0, 0.0),\n",
    "                   (1.0,  0.0, 0.0)],\n",
    "         'blue':  [(0.0,  0.0, 0.0),\n",
    "                   (1.0,  1.0, 1.0)]}\n",
    "\n",
    "red_colormap = mcolors.LinearSegmentedColormap('RED', reds)\n",
    "green_colormap = mcolors.LinearSegmentedColormap('GREEN', greens)\n",
    "blue_colormap = mcolors.LinearSegmentedColormap('BLUE', blues)"
   ]
  },
  {
   "cell_type": "code",
   "execution_count": null,
   "metadata": {},
   "outputs": [],
   "source": [
    "# Utility function to plot the gray image plus \n",
    "# the 3 separate Bayer layers on a single figure.\n",
    "def plot_rgb_panes(gray, red, green, blue):\n",
    "    figsize(9,7)\n",
    "    colors = ['All','Red','Green','Blue']\n",
    "\n",
    "    fig = plt.figure() \n",
    "    ax = None\n",
    "    for color, bar, i in zip([gray, red, green, blue], \n",
    "                             [cm.gray,red_colormap,green_colormap,blue_colormap], \n",
    "                             range(0,4)):\n",
    "        if ax is None:\n",
    "            ax = fig.add_subplot(2, 2, i+1)\n",
    "            ax.set_title(colors[i])    \n",
    "        else:\n",
    "            ax1 = fig.add_subplot(2, 2, i+1, sharex=ax, sharey=ax)\n",
    "            ax1.set_title(colors[i])    \n",
    "        plt.imshow(color, cmap=bar)\n",
    "        plt.colorbar()\n",
    "    plt.show()"
   ]
  },
  {
   "cell_type": "code",
   "execution_count": null,
   "metadata": {},
   "outputs": [],
   "source": [
    "fname = '../astrophotography_data/MilkyWayPrettyBoy/tests/3200_DSC03659.ARW'"
   ]
  },
  {
   "cell_type": "markdown",
   "metadata": {},
   "source": [
    "## Raw image"
   ]
  },
  {
   "cell_type": "code",
   "execution_count": null,
   "metadata": {},
   "outputs": [],
   "source": [
    "raw = rawpy.imread(fname)\n",
    "imarray = raw.raw_image_visible\n",
    "\n",
    "# Note that we aren't subtracting the camera dark level (512 for all channels in Sony images)"
   ]
  },
  {
   "cell_type": "code",
   "execution_count": null,
   "metadata": {
    "scrolled": false
   },
   "outputs": [],
   "source": [
    "plt.figure(figsize=[9, 6])\n",
    "plt.imshow(imarray, vmin=500, vmax=800)\n",
    "plt.colorbar()\n",
    "plt.title('Gray-scale raw image')"
   ]
  },
  {
   "cell_type": "markdown",
   "metadata": {},
   "source": [
    "### An interesting slice of the raw image"
   ]
  },
  {
   "cell_type": "code",
   "execution_count": null,
   "metadata": {},
   "outputs": [],
   "source": [
    "aslice = np.index_exp[1150:1240,1950:2050]"
   ]
  },
  {
   "cell_type": "code",
   "execution_count": null,
   "metadata": {},
   "outputs": [],
   "source": [
    "plt.figure(figsize=[9, 6])\n",
    "plt.imshow(imarray[aslice], vmin=502, vmax=1000)\n",
    "plt.colorbar()"
   ]
  },
  {
   "cell_type": "markdown",
   "metadata": {},
   "source": [
    "## Masks to isolate RGB layers from Bayer raw image"
   ]
  },
  {
   "cell_type": "code",
   "execution_count": null,
   "metadata": {},
   "outputs": [],
   "source": [
    "colors_array = raw.raw_colors_visible\n",
    "mask = np.ones(shape=colors_array.shape)\n",
    "\n",
    "red_mask = np.where(colors_array == 0, 1, 0)\n",
    "\n",
    "green_mask_1 = np.where(colors_array == 1, 1, 0)\n",
    "green_mask_2 = np.where(colors_array == 3, 1, 0)\n",
    "green_mask = green_mask_1 | green_mask_2\n",
    "\n",
    "blue_mask = np.where(colors_array == 2, 1, 0)"
   ]
  },
  {
   "cell_type": "markdown",
   "metadata": {},
   "source": [
    "The 3 plots below must be zoomed in in order to display the actual pixels."
   ]
  },
  {
   "cell_type": "code",
   "execution_count": null,
   "metadata": {},
   "outputs": [],
   "source": [
    "plt.figure(figsize=[10, 6])\n",
    "plt.imshow(imarray * red_mask, cmap=red_colormap, vmin=500, vmax=800)\n",
    "plt.colorbar()"
   ]
  },
  {
   "cell_type": "code",
   "execution_count": null,
   "metadata": {},
   "outputs": [],
   "source": [
    "plt.figure(figsize=[10, 6])\n",
    "plt.imshow(imarray * green_mask, cmap=green_colormap, vmin=500, vmax=1200)\n",
    "plt.colorbar()"
   ]
  },
  {
   "cell_type": "code",
   "execution_count": null,
   "metadata": {},
   "outputs": [],
   "source": [
    "plt.figure(figsize=[10, 6])\n",
    "plt.imshow(imarray * blue_mask, cmap=blue_colormap, vmin=500, vmax=650)\n",
    "plt.colorbar()"
   ]
  },
  {
   "cell_type": "markdown",
   "metadata": {},
   "source": [
    "### Bayer layers displayed together"
   ]
  },
  {
   "cell_type": "code",
   "execution_count": null,
   "metadata": {},
   "outputs": [],
   "source": [
    "# Normalize such as to make the 3 layers stand\n",
    "# out more or less the same. Otherwise the green\n",
    "# layer dominates the other two.\n",
    "red_norm = raw.camera_whitebalance[1] / raw.camera_whitebalance[0]\n",
    "blue_norm = raw.camera_whitebalance[1] / raw.camera_whitebalance[2]\n",
    "green_norm = 1.\n",
    "\n",
    "red_norm *= 1.5 # to account for display/eye effects\n",
    "\n",
    "vmin = 500\n",
    "vmax = 800"
   ]
  },
  {
   "cell_type": "code",
   "execution_count": null,
   "metadata": {},
   "outputs": [],
   "source": [
    "red_ma = np.ma.masked_where(red_mask == 0, imarray)\n",
    "green_ma = np.ma.masked_where(green_mask == 0, imarray)\n",
    "blue_ma = np.ma.masked_where(blue_mask == 0, imarray)\n",
    "\n",
    "fig, ax = plt.subplots(figsize=[9,6])\n",
    "ax.imshow(red_ma , cmap=red_colormap, interpolation='none', vmin=vmin*red_norm, vmax=vmax*red_norm)\n",
    "ax.imshow(green_ma , cmap=green_colormap, interpolation='none', vmin=vmin*green_norm, vmax=vmax*green_norm)\n",
    "ax.imshow(blue_ma , cmap=blue_colormap, interpolation='none', vmin=vmin*blue_norm, vmax=vmax*blue_norm)\n",
    "plt.show()"
   ]
  },
  {
   "cell_type": "markdown",
   "metadata": {},
   "source": [
    "### Bayer layers of slice"
   ]
  },
  {
   "cell_type": "code",
   "execution_count": null,
   "metadata": {
    "scrolled": false
   },
   "outputs": [],
   "source": [
    "plot_rgb_panes(imarray[aslice], \n",
    "               (imarray * red_mask)[aslice], \n",
    "               (imarray * green_mask)[aslice], \n",
    "               (imarray * blue_mask)[aslice])"
   ]
  },
  {
   "cell_type": "code",
   "execution_count": null,
   "metadata": {
    "scrolled": false
   },
   "outputs": [],
   "source": [
    "red_ma = np.ma.masked_where(red_mask[aslice] == 0, imarray[aslice])\n",
    "green_ma = np.ma.masked_where(green_mask[aslice] == 0, imarray[aslice])\n",
    "blue_ma = np.ma.masked_where(blue_mask[aslice] == 0, imarray[aslice])\n",
    "\n",
    "fig, ax = plt.subplots(figsize=[9,6])\n",
    "ax.imshow(red_ma , cmap=red_colormap, interpolation='none', vmin=vmin, vmax=vmax)\n",
    "ax.imshow(green_ma , cmap=green_colormap, interpolation='none', vmin=vmin, vmax=vmax*1.2)\n",
    "ax.imshow(blue_ma , cmap=blue_colormap, interpolation='none', vmin=vmin, vmax=vmax)\n",
    "plt.show()"
   ]
  },
  {
   "cell_type": "markdown",
   "metadata": {},
   "source": [
    "## Standard de-Bayerization"
   ]
  },
  {
   "cell_type": "code",
   "execution_count": null,
   "metadata": {},
   "outputs": [],
   "source": [
    "# rgb = raw.postprocess()\n",
    "rgb = raw.postprocess(\n",
    "    demosaic_algorithm=rawpy.DemosaicAlgorithm.LINEAR,\n",
    "    output_bps=16,\n",
    "    gamma=(1,1), \n",
    "    use_camera_wb=False,\n",
    "    use_auto_wb=False,\n",
    "    no_auto_bright=True, \n",
    "    no_auto_scale=True,\n",
    "    output_color=rawpy.ColorSpace.raw\n",
    ")"
   ]
  },
  {
   "cell_type": "code",
   "execution_count": null,
   "metadata": {},
   "outputs": [],
   "source": [
    "plt.figure(figsize=[10, 6])\n",
    "plt.imshow(rgb, vmin=502, vmax=800)\n",
    "plt.colorbar()"
   ]
  },
  {
   "cell_type": "code",
   "execution_count": null,
   "metadata": {
    "scrolled": false
   },
   "outputs": [],
   "source": [
    "plt.figure(figsize=[10, 6])\n",
    "plt.imshow(rgb[aslice])"
   ]
  },
  {
   "cell_type": "markdown",
   "metadata": {},
   "source": [
    "### Display de-Bayerized RGB layers separately"
   ]
  },
  {
   "cell_type": "code",
   "execution_count": null,
   "metadata": {},
   "outputs": [],
   "source": [
    "red1 = rgb[::,::,0]\n",
    "green1 = rgb[::,::,1]\n",
    "blue1 = rgb[::,::,2]\n",
    "\n",
    "# Correct white balance only in case of default postproceesing.\n",
    "# red2 = red1 * raw.camera_whitebalance[0] / raw.camera_whitebalance[1]\n",
    "red2 = red1 \n",
    "green2 = green1\n",
    "# blue2 = blue1 * raw.camera_whitebalance[2] / raw.camera_whitebalance[1]\n",
    "blue2 = blue1 \n",
    "\n",
    "# empirical gray image that maybe should be\n",
    "# good for finding star image positions.\n",
    "gray2 = red2/3. + green2/3. + blue2/3."
   ]
  },
  {
   "cell_type": "code",
   "execution_count": null,
   "metadata": {
    "scrolled": false
   },
   "outputs": [],
   "source": [
    "plot_rgb_panes(gray2[aslice], red2[aslice], green2[aslice], blue2[aslice])"
   ]
  },
  {
   "cell_type": "markdown",
   "metadata": {},
   "source": [
    "## Linear de-Bayerization algorithm"
   ]
  },
  {
   "cell_type": "code",
   "execution_count": null,
   "metadata": {},
   "outputs": [],
   "source": [
    "H_G = np.array(\n",
    "    [[0, 1, 0],\n",
    "     [1, 4, 1],\n",
    "     [0, 1, 0]]) / 4\n",
    "H_RB = np.array(\n",
    "    [[1, 2, 1],\n",
    "     [2, 4, 2],\n",
    "     [1, 2, 1]]) / 4\n",
    "\n",
    "red = convolve(imarray * red_mask, H_RB) - 512\n",
    "green = convolve(imarray * green_mask, H_G) - 512\n",
    "blue = convolve(imarray * blue_mask, H_RB) - 512"
   ]
  },
  {
   "cell_type": "code",
   "execution_count": null,
   "metadata": {},
   "outputs": [],
   "source": [
    "gray = red/3. + green/3. + blue/3.\n",
    "plot_rgb_panes(gray[aslice], red[aslice], green[aslice], blue[aslice])"
   ]
  },
  {
   "cell_type": "markdown",
   "metadata": {},
   "source": [
    "The difference between the two de-bayred images shows that the 2 methods we tried are identical to each other."
   ]
  },
  {
   "cell_type": "code",
   "execution_count": null,
   "metadata": {},
   "outputs": [],
   "source": [
    "plot_rgb_panes((gray2-gray)[aslice], (red2-red)[aslice], (green2-green)[aslice], (blue2-blue2)[aslice])"
   ]
  }
 ],
 "metadata": {
  "kernelspec": {
   "display_name": "Python 3",
   "language": "python",
   "name": "python3"
  },
  "language_info": {
   "codemirror_mode": {
    "name": "ipython",
    "version": 3
   },
   "file_extension": ".py",
   "mimetype": "text/x-python",
   "name": "python",
   "nbconvert_exporter": "python",
   "pygments_lexer": "ipython3",
   "version": "3.7.10"
  }
 },
 "nbformat": 4,
 "nbformat_minor": 2
}
