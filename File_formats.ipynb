{
 "cells": [
  {
   "cell_type": "code",
   "execution_count": 1,
   "metadata": {},
   "outputs": [],
   "source": [
    "import os,glob\n",
    "import numpy as np\n",
    "import rawpy\n",
    "import exifread\n",
    "\n",
    "from astropy.io import fits\n",
    "\n",
    "from PIL import Image"
   ]
  },
  {
   "cell_type": "code",
   "execution_count": 2,
   "metadata": {},
   "outputs": [],
   "source": [
    "filename = '../astrophotography_data/MilkyWayPrettyBoy/12800/light/DSC03770.ARW'\n",
    "# filename = '../astrophotography_data/MilkyWayPrettyBoy/flats/raw_1/DSC06799.ARW'"
   ]
  },
  {
   "cell_type": "code",
   "execution_count": 3,
   "metadata": {},
   "outputs": [],
   "source": [
    "# Reading EXIF\n",
    "\n",
    "f = open(filename, 'rb')\n",
    "tags = exifread.process_file(f)\n",
    "# print(tags)"
   ]
  },
  {
   "cell_type": "code",
   "execution_count": 4,
   "metadata": {},
   "outputs": [
    {
     "name": "stdout",
     "output_type": "stream",
     "text": [
      "(2848, 4256)\n",
      "<class 'numpy.uint16'>\n"
     ]
    }
   ],
   "source": [
    "# Reading raw\n",
    "\n",
    "raw = rawpy.imread(filename)\n",
    "imarray = raw.raw_image_visible\n",
    "\n",
    "print(imarray.shape)\n",
    "print(type(imarray[0,0]))"
   ]
  },
  {
   "cell_type": "code",
   "execution_count": 5,
   "metadata": {},
   "outputs": [],
   "source": [
    "# Create PIL image with 16-bit big endian unsigned integer pixels (on a MacBook Pro Intel)\n",
    "\n",
    "im = Image.fromarray(imarray, mode='I;16B') \n",
    "im.save(\"/Users/busko/Desktop/Files/test2.tiff\", \"TIFF\")"
   ]
  },
  {
   "cell_type": "code",
   "execution_count": 6,
   "metadata": {},
   "outputs": [],
   "source": [
    "# im.show()"
   ]
  },
  {
   "cell_type": "code",
   "execution_count": 15,
   "metadata": {},
   "outputs": [],
   "source": [
    "# Create FITS 3-extension 32-bit floating point file with raw array \n",
    "hdr = fits.Header()\n",
    "hdr['OBSERVER'] = 'Edwin Hubble'\n",
    "hdr['COMMENT'] = \"Here's some commentary about this FITS file.\"\n",
    "primary_hdu = fits.PrimaryHDU(header=hdr)"
   ]
  },
  {
   "cell_type": "code",
   "execution_count": 16,
   "metadata": {},
   "outputs": [],
   "source": [
    "hdul = fits.HDUList([primary_hdu])\n",
    "\n",
    "# image_hdu = fits.ImageHDU(imarray.astype('float32'))\n",
    "image_hdu = fits.ImageHDU(imarray.astype('uint16'))\n",
    "\n",
    "hdul.append(image_hdu)"
   ]
  },
  {
   "cell_type": "code",
   "execution_count": 17,
   "metadata": {},
   "outputs": [],
   "source": [
    "hdul.writeto('/Users/busko/Desktop/Files/test2.fits', overwrite=True)"
   ]
  },
  {
   "cell_type": "code",
   "execution_count": null,
   "metadata": {},
   "outputs": [],
   "source": []
  }
 ],
 "metadata": {
  "kernelspec": {
   "display_name": "Python 3",
   "language": "python",
   "name": "python3"
  },
  "language_info": {
   "codemirror_mode": {
    "name": "ipython",
    "version": 3
   },
   "file_extension": ".py",
   "mimetype": "text/x-python",
   "name": "python",
   "nbconvert_exporter": "python",
   "pygments_lexer": "ipython3",
   "version": "3.7.10"
  }
 },
 "nbformat": 4,
 "nbformat_minor": 2
}
