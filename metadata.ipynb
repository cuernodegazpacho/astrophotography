{
 "cells": [
  {
   "cell_type": "markdown",
   "metadata": {},
   "source": [
    "# Part 1: Extracting metadata from a rawpy object"
   ]
  },
  {
   "cell_type": "code",
   "execution_count": 1,
   "metadata": {},
   "outputs": [],
   "source": [
    "from astropy.io import fits as fits\n",
    "import rawpy"
   ]
  },
  {
   "cell_type": "code",
   "execution_count": 2,
   "metadata": {},
   "outputs": [
    {
     "name": "stdout",
     "output_type": "stream",
     "text": [
      "<rawpy._rawpy.RawPy object at 0x7fcbd47c1990>\n"
     ]
    },
    {
     "data": {
      "text/plain": [
       "array([[620, 812, 628, ..., 844, 644, 844],\n",
       "       [816, 676, 816, ..., 676, 832, 676],\n",
       "       [628, 816, 624, ..., 840, 644, 840],\n",
       "       ...,\n",
       "       [844, 680, 836, ..., 676, 824, 676],\n",
       "       [636, 832, 628, ..., 836, 628, 836],\n",
       "       [828, 692, 832, ..., 680, 836, 680]], dtype=uint16)"
      ]
     },
     "execution_count": 2,
     "metadata": {},
     "output_type": "execute_result"
    }
   ],
   "source": [
    "path = '../astrophotography_data/MilkyWayPrettyBoy/flats/raw_2/DSC06737.ARW'\n",
    "\n",
    "raw = rawpy.imread(path)\n",
    "print(raw)\n",
    "raw.raw_image"
   ]
  },
  {
   "cell_type": "code",
   "execution_count": 3,
   "metadata": {},
   "outputs": [
    {
     "data": {
      "text/plain": [
       "['__class__',\n",
       " '__delattr__',\n",
       " '__dir__',\n",
       " '__doc__',\n",
       " '__enter__',\n",
       " '__eq__',\n",
       " '__exit__',\n",
       " '__format__',\n",
       " '__ge__',\n",
       " '__getattribute__',\n",
       " '__gt__',\n",
       " '__hash__',\n",
       " '__init__',\n",
       " '__init_subclass__',\n",
       " '__le__',\n",
       " '__lt__',\n",
       " '__ne__',\n",
       " '__new__',\n",
       " '__pyx_vtable__',\n",
       " '__reduce__',\n",
       " '__reduce_ex__',\n",
       " '__repr__',\n",
       " '__setattr__',\n",
       " '__setstate__',\n",
       " '__sizeof__',\n",
       " '__str__',\n",
       " '__subclasshook__',\n",
       " 'black_level_per_channel',\n",
       " 'camera_whitebalance',\n",
       " 'close',\n",
       " 'color_desc',\n",
       " 'color_matrix',\n",
       " 'daylight_whitebalance',\n",
       " 'dcraw_make_mem_image',\n",
       " 'dcraw_make_mem_thumb',\n",
       " 'dcraw_process',\n",
       " 'extract_thumb',\n",
       " 'num_colors',\n",
       " 'open_buffer',\n",
       " 'open_file',\n",
       " 'postprocess',\n",
       " 'raw_color',\n",
       " 'raw_colors',\n",
       " 'raw_colors_visible',\n",
       " 'raw_image',\n",
       " 'raw_image_visible',\n",
       " 'raw_pattern',\n",
       " 'raw_type',\n",
       " 'raw_value',\n",
       " 'raw_value_visible',\n",
       " 'rgb_xyz_matrix',\n",
       " 'sizes',\n",
       " 'tone_curve',\n",
       " 'unpack',\n",
       " 'unpack_thumb']"
      ]
     },
     "execution_count": 3,
     "metadata": {},
     "output_type": "execute_result"
    }
   ],
   "source": [
    "dir(raw)"
   ]
  },
  {
   "cell_type": "code",
   "execution_count": 4,
   "metadata": {},
   "outputs": [
    {
     "data": {
      "text/plain": [
       "b'RGBG'"
      ]
     },
     "execution_count": 4,
     "metadata": {},
     "output_type": "execute_result"
    }
   ],
   "source": [
    "raw.color_desc"
   ]
  },
  {
   "cell_type": "code",
   "execution_count": 5,
   "metadata": {},
   "outputs": [
    {
     "data": {
      "text/plain": [
       "[512, 512, 512, 512]"
      ]
     },
     "execution_count": 5,
     "metadata": {},
     "output_type": "execute_result"
    }
   ],
   "source": [
    "raw.black_level_per_channel"
   ]
  },
  {
   "cell_type": "code",
   "execution_count": 6,
   "metadata": {},
   "outputs": [
    {
     "data": {
      "text/plain": [
       "<RawType.Flat: 0>"
      ]
     },
     "execution_count": 6,
     "metadata": {},
     "output_type": "execute_result"
    }
   ],
   "source": [
    "raw.raw_type"
   ]
  },
  {
   "cell_type": "code",
   "execution_count": 7,
   "metadata": {},
   "outputs": [
    {
     "data": {
      "text/plain": [
       "array([[0, 1],\n",
       "       [3, 2]], dtype=uint8)"
      ]
     },
     "execution_count": 7,
     "metadata": {},
     "output_type": "execute_result"
    }
   ],
   "source": [
    "raw.raw_pattern"
   ]
  },
  {
   "cell_type": "code",
   "execution_count": 8,
   "metadata": {},
   "outputs": [
    {
     "data": {
      "text/plain": [
       "array([[0, 1, 0, 1, 0, 1, 0, 1, 0, 1],\n",
       "       [3, 2, 3, 2, 3, 2, 3, 2, 3, 2],\n",
       "       [0, 1, 0, 1, 0, 1, 0, 1, 0, 1],\n",
       "       [3, 2, 3, 2, 3, 2, 3, 2, 3, 2],\n",
       "       [0, 1, 0, 1, 0, 1, 0, 1, 0, 1],\n",
       "       [3, 2, 3, 2, 3, 2, 3, 2, 3, 2],\n",
       "       [0, 1, 0, 1, 0, 1, 0, 1, 0, 1],\n",
       "       [3, 2, 3, 2, 3, 2, 3, 2, 3, 2],\n",
       "       [0, 1, 0, 1, 0, 1, 0, 1, 0, 1],\n",
       "       [3, 2, 3, 2, 3, 2, 3, 2, 3, 2]], dtype=uint8)"
      ]
     },
     "execution_count": 8,
     "metadata": {},
     "output_type": "execute_result"
    }
   ],
   "source": [
    "raw.raw_colors[0:10,0:10]"
   ]
  },
  {
   "cell_type": "code",
   "execution_count": 9,
   "metadata": {},
   "outputs": [
    {
     "data": {
      "text/plain": [
       "array([[ 0.5838, -0.143 , -0.0246],\n",
       "       [-0.3497,  1.1477,  0.2297],\n",
       "       [-0.0748,  0.1885,  0.5778],\n",
       "       [ 0.    ,  0.    ,  0.    ]], dtype=float32)"
      ]
     },
     "execution_count": 9,
     "metadata": {},
     "output_type": "execute_result"
    }
   ],
   "source": [
    "raw.rgb_xyz_matrix"
   ]
  },
  {
   "cell_type": "code",
   "execution_count": 10,
   "metadata": {},
   "outputs": [
    {
     "name": "stdout",
     "output_type": "stream",
     "text": [
      "[[108 300 116 296]\n",
      " [304 164 304 160]\n",
      " [116 304 112 296]\n",
      " [304 160 304 160]]\n",
      "[[108 112]\n",
      " [112 113]]\n",
      "[[302 300]\n",
      " [304 303]]\n",
      "[[164 164]\n",
      " [164 164]]\n"
     ]
    }
   ],
   "source": [
    "# Understanding processing\n",
    "with rawpy.imread(path) as raw:\n",
    "    \n",
    "    # Actual raw pixel values are obtained after subtracting the\n",
    "    # camera-created black level per channel. In the Sony A7, this\n",
    "    # parameter is the same for all channels, and constant.\n",
    "    # Just subtract it from everything.\n",
    "    print(raw.raw_image[0:4,0:4] - 512) \n",
    "\n",
    "    # These settings preserve the raw pixel values into the output \n",
    "    # RGB array.\n",
    "    rgb = raw.postprocess(gamma=(1,1), \n",
    "                          output_bps=16,\n",
    "                          use_camera_wb=False,\n",
    "                          use_auto_wb=False,\n",
    "                          no_auto_bright=True, \n",
    "                          no_auto_scale=True,\n",
    "                          output_color=rawpy.ColorSpace.raw)\n",
    "\n",
    "    red = rgb[::,::,0]\n",
    "    green = rgb[::,::,1]\n",
    "    blue = rgb[::,::,2]\n",
    "\n",
    "    print(red[0:2,0:2])\n",
    "    print(green[0:2,0:2])\n",
    "    print(blue[0:2,0:2])"
   ]
  },
  {
   "cell_type": "markdown",
   "metadata": {},
   "source": [
    "# Part 2: Extracting EXIF metadata"
   ]
  },
  {
   "cell_type": "code",
   "execution_count": 11,
   "metadata": {},
   "outputs": [],
   "source": [
    "import os,glob\n",
    "import exifread"
   ]
  },
  {
   "cell_type": "code",
   "execution_count": 12,
   "metadata": {},
   "outputs": [],
   "source": [
    "def print_exif(filename):\n",
    "    f = open(filename, 'rb')\n",
    "    tags = exifread.process_file(f)\n",
    "    for tag in tags.keys():\n",
    "#          if tag in ('EXIF ExposureTime', 'EXIF ISOSpeedRatings'):\n",
    "         if tag not in ('JPEGThumbnail', 'TIFFThumbnail', 'Filename', 'EXIF MakerNote'):\n",
    "            print(\"%s:      %s\" % (tag, tags[tag]))"
   ]
  },
  {
   "cell_type": "code",
   "execution_count": 13,
   "metadata": {},
   "outputs": [
    {
     "name": "stdout",
     "output_type": "stream",
     "text": [
      "Image SubfileType:      Reduced-resolution image\n",
      "Image Compression:      JPEG (old-style)\n",
      "Image ImageDescription:                                     \n",
      "Image Make:      SONY\n",
      "Image Model:      ILCE-7SM2\n",
      "Image Orientation:      Horizontal (normal)\n",
      "Image XResolution:      350\n",
      "Image YResolution:      350\n",
      "Image ResolutionUnit:      Pixels/Inch\n",
      "Image Software:      ILCE-7SM2 v2.20\n",
      "Image DateTime:      2019:06:27 01:34:42\n",
      "Image Tag 0x014A:      138370\n",
      "Image JPEGInterchangeFormat:      139426\n",
      "Image JPEGInterchangeFormatLength:      323285\n",
      "Image YCbCrPositioning:      Co-sited\n",
      "Image ExifOffset:      436\n",
      "Image PrintIM:      [80, 114, 105, 110, 116, 73, 77, 0, 48, 51, 48, 48, 0, 0, 3, 0, 2, 0, 1, 0, ... ]\n",
      "Image Tag 0xC634:      [140, 173, 0, 0]\n",
      "Thumbnail SubfileType:      Reduced-resolution image\n",
      "Thumbnail Compression:      JPEG (old-style)\n",
      "Thumbnail ImageDescription:                                     \n",
      "Thumbnail Make:      SONY\n",
      "Thumbnail Model:      ILCE-7SM2\n",
      "Thumbnail Orientation:      Horizontal (normal)\n",
      "Thumbnail XResolution:      72\n",
      "Thumbnail YResolution:      72\n",
      "Thumbnail ResolutionUnit:      Pixels/Inch\n",
      "Thumbnail Software:      ILCE-7SM2 v2.20\n",
      "Thumbnail DateTime:      2019:06:27 01:34:42\n",
      "Thumbnail JPEGInterchangeFormat:      38778\n",
      "Thumbnail JPEGInterchangeFormatLength:      4010\n",
      "Thumbnail YCbCrPositioning:      Co-sited\n",
      "EXIF ExposureTime:      30\n",
      "EXIF FNumber:      0\n",
      "EXIF ExposureProgram:      Manual\n",
      "EXIF ISOSpeedRatings:      200\n",
      "EXIF SensitivityType:      Recommended Exposure Index\n",
      "EXIF RecommendedExposureIndex:      200\n",
      "EXIF ExifVersion:      0230\n",
      "EXIF DateTimeOriginal:      2019:06:27 01:34:42\n",
      "EXIF DateTimeDigitized:      2019:06:27 01:34:42\n",
      "EXIF ComponentsConfiguration:      YCbCr\n",
      "EXIF CompressedBitsPerPixel:      16\n",
      "EXIF BrightnessValue:      -7629/640\n",
      "EXIF ExposureBiasValue:      0\n",
      "EXIF MaxApertureValue:      0\n",
      "EXIF MeteringMode:      Pattern\n",
      "EXIF LightSource:      Unknown\n",
      "EXIF Flash:      Flash did not fire, compulsory flash mode\n",
      "EXIF FocalLength:      0\n",
      "EXIF UserComment:      [0, 0, 0, 0, 0, 0, 0, 0, 0, 0, 0, 0, 0, 0, 0, 0, 0, 0, 0, 0, 0, 0, 0, 0, 0, 0, 0, 0, 0, 0, 0, 0, 0, 0, 0, 0, 0, 0, 0, 0, 0, 0, 0, 0, 0, 0, 0, 0, 0, 0, 0, 0, 0, 0, 0, 0]\n",
      "EXIF FlashPixVersion:      0100\n",
      "EXIF ColorSpace:      sRGB\n",
      "EXIF ExifImageWidth:      4240\n",
      "EXIF ExifImageLength:      2832\n",
      "Interoperability InteroperabilityIndex:      R98\n",
      "Interoperability InteroperabilityVersion:      [48, 49, 48, 48]\n",
      "EXIF InteroperabilityOffset:      38474\n",
      "EXIF FileSource:      Digital Camera\n",
      "EXIF SceneType:      Directly Photographed\n",
      "EXIF CustomRendered:      Normal\n",
      "EXIF ExposureMode:      Manual Exposure\n",
      "EXIF WhiteBalance:      Manual\n",
      "EXIF DigitalZoomRatio:      1\n",
      "EXIF FocalLengthIn35mmFilm:      0\n",
      "EXIF SceneCaptureType:      Standard\n",
      "EXIF Contrast:      Normal\n",
      "EXIF Saturation:      Normal\n",
      "EXIF Sharpness:      Normal\n",
      "EXIF LensModel:      ----\n"
     ]
    }
   ],
   "source": [
    "# filename = '../astrophotography_data/MilkyWayPrettyBoy/12800/dark/DSC03830.ARW'\n",
    "filename = '../astrophotography_data/time_lapse_4/raw/DSC01396.ARW'\n",
    "print_exif(filename)"
   ]
  },
  {
   "cell_type": "code",
   "execution_count": 14,
   "metadata": {},
   "outputs": [
    {
     "name": "stdout",
     "output_type": "stream",
     "text": [
      "1/8000\n",
      "16/5\n"
     ]
    }
   ],
   "source": [
    "basepath = '../astrophotography_data/MilkyWayPrettyBoy/12800'\n",
    "\n",
    "bias_path = os.path.join(basepath,'bias')\n",
    "list_p = glob.glob(bias_path + '/*.ARW')\n",
    "f = open(list_p[0], 'rb')\n",
    "tags = exifread.process_file(f)\n",
    "print(tags['EXIF ExposureTime'])\n",
    "\n",
    "bias_path = os.path.join(basepath,'dark')\n",
    "list_p = glob.glob(bias_path + '/*.ARW')\n",
    "f = open(list_p[0], 'rb')\n",
    "tags = exifread.process_file(f)\n",
    "print(tags['EXIF ExposureTime'])"
   ]
  }
 ],
 "metadata": {
  "kernelspec": {
   "display_name": "Python 3",
   "language": "python",
   "name": "python3"
  },
  "language_info": {
   "codemirror_mode": {
    "name": "ipython",
    "version": 3
   },
   "file_extension": ".py",
   "mimetype": "text/x-python",
   "name": "python",
   "nbconvert_exporter": "python",
   "pygments_lexer": "ipython3",
   "version": "3.7.3"
  }
 },
 "nbformat": 4,
 "nbformat_minor": 2
}
