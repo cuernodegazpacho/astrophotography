{
 "cells": [
  {
   "cell_type": "code",
   "execution_count": 1,
   "metadata": {},
   "outputs": [],
   "source": [
    "import rawpy\n",
    "\n",
    "path = '../astrophotography_data/MilkyWayPrettyBoy/flats/raw_2/DSC06737.ARW'"
   ]
  },
  {
   "cell_type": "code",
   "execution_count": 2,
   "metadata": {},
   "outputs": [
    {
     "name": "stdout",
     "output_type": "stream",
     "text": [
      "<rawpy._rawpy.RawPy object at 0x1130568b8>\n"
     ]
    },
    {
     "data": {
      "text/plain": [
       "array([[620, 812, 628, ..., 844, 644, 844],\n",
       "       [816, 676, 816, ..., 676, 832, 676],\n",
       "       [628, 816, 624, ..., 840, 644, 840],\n",
       "       ...,\n",
       "       [844, 680, 836, ..., 676, 824, 676],\n",
       "       [636, 832, 628, ..., 836, 628, 836],\n",
       "       [828, 692, 832, ..., 680, 836, 680]], dtype=uint16)"
      ]
     },
     "execution_count": 2,
     "metadata": {},
     "output_type": "execute_result"
    }
   ],
   "source": [
    "raw = rawpy.imread(path)\n",
    "print(raw)\n",
    "raw.raw_image"
   ]
  },
  {
   "cell_type": "code",
   "execution_count": 3,
   "metadata": {},
   "outputs": [
    {
     "data": {
      "text/plain": [
       "['__class__',\n",
       " '__delattr__',\n",
       " '__dir__',\n",
       " '__doc__',\n",
       " '__enter__',\n",
       " '__eq__',\n",
       " '__exit__',\n",
       " '__format__',\n",
       " '__ge__',\n",
       " '__getattribute__',\n",
       " '__gt__',\n",
       " '__hash__',\n",
       " '__init__',\n",
       " '__init_subclass__',\n",
       " '__le__',\n",
       " '__lt__',\n",
       " '__ne__',\n",
       " '__new__',\n",
       " '__pyx_vtable__',\n",
       " '__reduce__',\n",
       " '__reduce_ex__',\n",
       " '__repr__',\n",
       " '__setattr__',\n",
       " '__setstate__',\n",
       " '__sizeof__',\n",
       " '__str__',\n",
       " '__subclasshook__',\n",
       " 'black_level_per_channel',\n",
       " 'camera_whitebalance',\n",
       " 'close',\n",
       " 'color_desc',\n",
       " 'color_matrix',\n",
       " 'daylight_whitebalance',\n",
       " 'dcraw_make_mem_image',\n",
       " 'dcraw_process',\n",
       " 'num_colors',\n",
       " 'open_buffer',\n",
       " 'open_file',\n",
       " 'postprocess',\n",
       " 'raw_color',\n",
       " 'raw_colors',\n",
       " 'raw_colors_visible',\n",
       " 'raw_image',\n",
       " 'raw_image_visible',\n",
       " 'raw_pattern',\n",
       " 'raw_type',\n",
       " 'raw_value',\n",
       " 'raw_value_visible',\n",
       " 'rgb_xyz_matrix',\n",
       " 'sizes',\n",
       " 'tone_curve',\n",
       " 'unpack']"
      ]
     },
     "execution_count": 3,
     "metadata": {},
     "output_type": "execute_result"
    }
   ],
   "source": [
    "dir(raw)"
   ]
  },
  {
   "cell_type": "code",
   "execution_count": 4,
   "metadata": {},
   "outputs": [
    {
     "data": {
      "text/plain": [
       "b'RGBG'"
      ]
     },
     "execution_count": 4,
     "metadata": {},
     "output_type": "execute_result"
    }
   ],
   "source": [
    "raw.color_desc"
   ]
  },
  {
   "cell_type": "code",
   "execution_count": 5,
   "metadata": {},
   "outputs": [
    {
     "data": {
      "text/plain": [
       "[512, 512, 512, 512]"
      ]
     },
     "execution_count": 5,
     "metadata": {},
     "output_type": "execute_result"
    }
   ],
   "source": [
    "raw.black_level_per_channel"
   ]
  },
  {
   "cell_type": "code",
   "execution_count": 6,
   "metadata": {},
   "outputs": [
    {
     "data": {
      "text/plain": [
       "<RawType.Flat: 0>"
      ]
     },
     "execution_count": 6,
     "metadata": {},
     "output_type": "execute_result"
    }
   ],
   "source": [
    "raw.raw_type"
   ]
  },
  {
   "cell_type": "code",
   "execution_count": 7,
   "metadata": {},
   "outputs": [
    {
     "data": {
      "text/plain": [
       "array([[0, 1],\n",
       "       [3, 2]], dtype=uint8)"
      ]
     },
     "execution_count": 7,
     "metadata": {},
     "output_type": "execute_result"
    }
   ],
   "source": [
    "raw.raw_pattern"
   ]
  },
  {
   "cell_type": "code",
   "execution_count": 8,
   "metadata": {},
   "outputs": [
    {
     "data": {
      "text/plain": [
       "array([[0, 1, 0, 1, 0, 1, 0, 1, 0, 1],\n",
       "       [3, 2, 3, 2, 3, 2, 3, 2, 3, 2],\n",
       "       [0, 1, 0, 1, 0, 1, 0, 1, 0, 1],\n",
       "       [3, 2, 3, 2, 3, 2, 3, 2, 3, 2],\n",
       "       [0, 1, 0, 1, 0, 1, 0, 1, 0, 1],\n",
       "       [3, 2, 3, 2, 3, 2, 3, 2, 3, 2],\n",
       "       [0, 1, 0, 1, 0, 1, 0, 1, 0, 1],\n",
       "       [3, 2, 3, 2, 3, 2, 3, 2, 3, 2],\n",
       "       [0, 1, 0, 1, 0, 1, 0, 1, 0, 1],\n",
       "       [3, 2, 3, 2, 3, 2, 3, 2, 3, 2]], dtype=uint8)"
      ]
     },
     "execution_count": 8,
     "metadata": {},
     "output_type": "execute_result"
    }
   ],
   "source": [
    "raw.raw_colors[0:10,0:10]"
   ]
  },
  {
   "cell_type": "code",
   "execution_count": 9,
   "metadata": {},
   "outputs": [
    {
     "data": {
      "text/plain": [
       "array([[ 0.5838, -0.143 , -0.0246],\n",
       "       [-0.3497,  1.1477,  0.2297],\n",
       "       [-0.0748,  0.1885,  0.5778],\n",
       "       [ 0.    ,  0.    ,  0.    ]], dtype=float32)"
      ]
     },
     "execution_count": 9,
     "metadata": {},
     "output_type": "execute_result"
    }
   ],
   "source": [
    "raw.rgb_xyz_matrix"
   ]
  },
  {
   "cell_type": "code",
   "execution_count": 10,
   "metadata": {},
   "outputs": [
    {
     "name": "stdout",
     "output_type": "stream",
     "text": [
      "[[108 300 116 296]\n",
      " [304 164 304 160]\n",
      " [116 304 112 296]\n",
      " [304 160 304 160]]\n",
      "[[108 112]\n",
      " [112 113]]\n",
      "[[302 300]\n",
      " [304 303]]\n",
      "[[164 164]\n",
      " [164 164]]\n"
     ]
    }
   ],
   "source": [
    "# Understanding processing\n",
    "with rawpy.imread(path) as raw:\n",
    "    \n",
    "    # Actual raw pixel values are obtained after subtracting the\n",
    "    # camera-created black level per channel. In the Sony A7, this\n",
    "    # parameter is the same for all channels, and constant.\n",
    "    # Just subtract it from everything.\n",
    "    print(raw.raw_image[0:4,0:4] - 512) \n",
    "\n",
    "    # These settings preserve the raw pixel values into the output \n",
    "    # RGB array.\n",
    "    rgb = raw.postprocess(gamma=(1,1), \n",
    "                          output_bps=16,\n",
    "                          use_camera_wb=False,\n",
    "                          use_auto_wb=False,\n",
    "                          no_auto_bright=True, \n",
    "                          no_auto_scale=True,\n",
    "                          output_color=rawpy.ColorSpace.raw)\n",
    "\n",
    "    red = rgb[::,::,0]\n",
    "    green = rgb[::,::,1]\n",
    "    blue = rgb[::,::,2]\n",
    "\n",
    "    print(red[0:2,0:2])\n",
    "    print(green[0:2,0:2])\n",
    "    print(blue[0:2,0:2])"
   ]
  },
  {
   "cell_type": "code",
   "execution_count": null,
   "metadata": {},
   "outputs": [],
   "source": []
  }
 ],
 "metadata": {
  "kernelspec": {
   "display_name": "Python 3",
   "language": "python",
   "name": "python3"
  },
  "language_info": {
   "codemirror_mode": {
    "name": "ipython",
    "version": 3
   },
   "file_extension": ".py",
   "mimetype": "text/x-python",
   "name": "python",
   "nbconvert_exporter": "python",
   "pygments_lexer": "ipython3",
   "version": "3.7.3"
  }
 },
 "nbformat": 4,
 "nbformat_minor": 2
}
