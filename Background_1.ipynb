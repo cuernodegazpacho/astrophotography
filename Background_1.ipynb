{
 "cells": [
  {
   "cell_type": "markdown",
   "id": "60859658",
   "metadata": {},
   "source": [
    "# Background subtraction"
   ]
  },
  {
   "cell_type": "markdown",
   "id": "f69bbd1c",
   "metadata": {},
   "source": [
    "This notebook implements the method developed in script Background.ipynb in a loop to handle a batch of images.\n",
    "\n",
    "It expects .ARW images as input, and generates corresponding .bkg_subtracted.fits files."
   ]
  },
  {
   "cell_type": "code",
   "execution_count": null,
   "id": "d9f0bbd6",
   "metadata": {},
   "outputs": [],
   "source": [
    "import os, glob\n",
    "import time, datetime\n",
    "import math\n",
    "\n",
    "import numpy as np\n",
    "\n",
    "from scipy import stats\n",
    "\n",
    "from astropy.io import fits\n",
    "from astropy.table import Table\n",
    "from astropy.stats import SigmaClip\n",
    "from astropy.convolution import Gaussian2DKernel, interpolate_replace_nans\n",
    "\n",
    "from photutils.background import Background2D, MedianBackground, ModeEstimatorBackground\n",
    "\n",
    "import rawpy\n",
    "import exifread\n",
    "\n",
    "from datapath import DATA"
   ]
  },
  {
   "cell_type": "markdown",
   "id": "b8ac1d5b",
   "metadata": {},
   "source": [
    "## Initialization"
   ]
  },
  {
   "cell_type": "code",
   "execution_count": null,
   "id": "27791953",
   "metadata": {},
   "outputs": [],
   "source": [
    "# these were determined in script White_light_images as the normalization\n",
    "# factors that render the smoothest background.\n",
    "red_norm =  1.34\n",
    "blue_norm = 1.25\n",
    "\n",
    "# parameters to control background subtraction\n",
    "bkg_cell_footprint = (100, 100)\n",
    "bkg_filter = (11, 11)\n",
    "\n",
    "bkg_sigma_clip = SigmaClip(sigma=5.)\n",
    "bkg_kernel = Gaussian2DKernel(x_stddev=1)\n",
    "bkg_estimator = ModeEstimatorBackground()"
   ]
  },
  {
   "cell_type": "code",
   "execution_count": null,
   "id": "73f401da",
   "metadata": {},
   "outputs": [],
   "source": [
    "# images to subtract background\n",
    "data_dirpath = os.path.join(DATA,'astrophotography_data/Andromeda_2022/135mm16s6400ISO')\n",
    "image_list = list(glob.glob(data_dirpath + '/*.ARW'))\n",
    "image_list.sort()\n",
    "\n",
    "image_list"
   ]
  },
  {
   "cell_type": "code",
   "execution_count": null,
   "id": "58f51dbe",
   "metadata": {},
   "outputs": [],
   "source": [
    "# read base image - we need this in order to access the camera color matrix\n",
    "raw = rawpy.imread(image_list[int(len(image_list)/2)]) # mid-point\n",
    "imarray_base = raw.raw_image_visible.astype(float)"
   ]
  },
  {
   "cell_type": "code",
   "execution_count": null,
   "id": "2513f47e",
   "metadata": {},
   "outputs": [],
   "source": [
    "# masks that isolate the RGB pixels\n",
    "colors_array = raw.raw_colors_visible\n",
    "\n",
    "red_mask = np.where(colors_array == 0, 1, 0)\n",
    "\n",
    "green_mask_1 = np.where(colors_array == 1, 1, 0)\n",
    "green_mask_2 = np.where(colors_array == 3, 1, 0)\n",
    "green_mask = green_mask_1 | green_mask_2\n",
    "\n",
    "blue_mask = np.where(colors_array == 2, 1, 0)"
   ]
  },
  {
   "cell_type": "markdown",
   "id": "d4c8623a",
   "metadata": {},
   "source": [
    "## Functions"
   ]
  },
  {
   "cell_type": "code",
   "execution_count": null,
   "id": "91e20c09",
   "metadata": {},
   "outputs": [],
   "source": [
    "def subtract_background(imarray, red_norm=1.0, blue_norm=1.0):\n",
    "\n",
    "    # red_norm and blue_norm are normalization parameters applied to the R and B bands (assume\n",
    "    # G=1) in order to make the star images as well-behaved as possible, in terms of being \n",
    "    # well represented, on average, by the daofind Gaussian. Ideally a different normalization \n",
    "    # should be applied to each star, depending on its color index, but this will be left as\n",
    "    # a possible (but not very likely) future improvement. For now, we assume that an average,\n",
    "    # frame-wide single normalization should suffice (statistically).\n",
    "    \n",
    "    # separate color bands\n",
    "    red_array = imarray * red_mask\n",
    "    green_array = imarray * green_mask\n",
    "    blue_array = imarray * blue_mask\n",
    "    \n",
    "    # interpolate over the masked pixels in each band, so the background estimator \n",
    "    # is presented with a smooth array entirely filled with valid data\n",
    "    red_array[red_array == 0.0] = np.nan\n",
    "    green_array[green_array == 0.0] = np.nan\n",
    "    blue_array[blue_array == 0.0] = np.nan\n",
    "\n",
    "    red_array = interpolate_replace_nans(red_array, bkg_kernel)\n",
    "    green_array = interpolate_replace_nans(green_array, bkg_kernel)\n",
    "    blue_array = interpolate_replace_nans(blue_array, bkg_kernel)\n",
    "\n",
    "    red_array[np.isnan(red_array)] = 0.\n",
    "    green_array[np.isnan(green_array)] = 0.\n",
    "    blue_array[np.isnan(blue_array)] = 0.\n",
    "    \n",
    "    # fit background model to each smoothed-out color band\n",
    "    red_bkg = Background2D(red_array, bkg_cell_footprint, filter_size=bkg_filter, sigma_clip=bkg_sigma_clip, bkg_estimator=bkg_estimator)\n",
    "    green_bkg = Background2D(green_array, bkg_cell_footprint, filter_size=bkg_filter, sigma_clip=bkg_sigma_clip, bkg_estimator=bkg_estimator)\n",
    "    blue_bkg = Background2D(blue_array, bkg_cell_footprint, filter_size=bkg_filter, sigma_clip=bkg_sigma_clip, bkg_estimator=bkg_estimator)\n",
    "\n",
    "    # subtract background from each masked color array\n",
    "    subtracted = imarray - red_bkg.background * red_mask - \\\n",
    "                           green_bkg.background * green_mask - \\\n",
    "                           blue_bkg.background * blue_mask\n",
    "\n",
    "    # after background subtraction, apply color band normalization. This has to be done separately\n",
    "    # from step above for the background on each band to remain zero on average.\n",
    "    subtracted = (subtracted * red_mask * red_norm) + \\\n",
    "                 (subtracted * green_mask) + \\\n",
    "                 (subtracted * blue_mask * blue_norm)\n",
    "\n",
    "    return subtracted"
   ]
  },
  {
   "cell_type": "code",
   "execution_count": null,
   "id": "f7184ab3",
   "metadata": {},
   "outputs": [],
   "source": [
    "def generate_bkg_filename(image_name):\n",
    "    return image_name.replace('.ARW', '.bkg_subtracted.fits')"
   ]
  },
  {
   "cell_type": "code",
   "execution_count": null,
   "id": "71a9260a",
   "metadata": {},
   "outputs": [],
   "source": [
    "def write_bkg_subtracted(image_name, subtracted):\n",
    "    ''' Function to write the background-subtracted images to FITS files. \n",
    "    '''\n",
    "    today = datetime.datetime.now().ctime()\n",
    "    \n",
    "    fits_name = generate_bkg_filename(image_name)\n",
    "\n",
    "    print(\"Writing bkg-subtracted image: \", fits_name, today)\n",
    "\n",
    "    # Create FITS 32-bit floating point file with data array\n",
    "    hdr = fits.Header()\n",
    "    hdr['DATE'] = today\n",
    "    hdr['PATH'] = fits_name\n",
    "    primary_hdu = fits.PrimaryHDU(header=hdr)\n",
    "\n",
    "    hdu = fits.ImageHDU(subtracted.astype('float32'))\n",
    "\n",
    "    hdul = fits.HDUList([primary_hdu, hdu])\n",
    "    hdul.writeto(fits_name, overwrite=True)\n",
    "    \n",
    "    return fits_name"
   ]
  },
  {
   "cell_type": "markdown",
   "id": "6ed85403",
   "metadata": {},
   "source": [
    "## Main loop"
   ]
  },
  {
   "cell_type": "code",
   "execution_count": null,
   "id": "f16360d6",
   "metadata": {},
   "outputs": [],
   "source": [
    "for image_name in image_list:\n",
    "    raw = rawpy.imread(image_name)\n",
    "    imarray = raw.raw_image_visible.astype(float)\n",
    "\n",
    "    subtracted = subtract_background(imarray, red_norm=red_norm, blue_norm=blue_norm)\n",
    "    \n",
    "    write_bkg_subtracted(image_name, subtracted)"
   ]
  }
 ],
 "metadata": {
  "kernelspec": {
   "display_name": "Python 3 (ipykernel)",
   "language": "python",
   "name": "python3"
  },
  "language_info": {
   "codemirror_mode": {
    "name": "ipython",
    "version": 3
   },
   "file_extension": ".py",
   "mimetype": "text/x-python",
   "name": "python",
   "nbconvert_exporter": "python",
   "pygments_lexer": "ipython3",
   "version": "3.10.9"
  }
 },
 "nbformat": 4,
 "nbformat_minor": 5
}
