{
 "cells": [
  {
   "cell_type": "markdown",
   "id": "b748b315",
   "metadata": {},
   "source": [
    "# Background subtraction"
   ]
  },
  {
   "cell_type": "markdown",
   "id": "74065bdd",
   "metadata": {},
   "source": [
    "This notebook implements the method developed in script Background.ipynb in a loop to handle a batch of images.\n",
    "\n",
    "It expects .ARW images as input, and generates corresponding .bkg_subtracted.fits files."
   ]
  },
  {
   "cell_type": "code",
   "execution_count": 1,
   "id": "d77226fa",
   "metadata": {},
   "outputs": [],
   "source": [
    "import os, glob\n",
    "import time, datetime\n",
    "import math\n",
    "\n",
    "import multiprocessing as mp\n",
    "from multiprocessing import Pool\n",
    "\n",
    "import numpy as np\n",
    "\n",
    "from scipy import stats\n",
    "\n",
    "from astropy.io import fits\n",
    "from astropy.table import Table\n",
    "from astropy.stats import SigmaClip\n",
    "from astropy.convolution import Gaussian2DKernel, interpolate_replace_nans\n",
    "\n",
    "from photutils.background import Background2D, MedianBackground, ModeEstimatorBackground\n",
    "\n",
    "import rawpy\n",
    "import exifread\n",
    "\n",
    "from worker_background import Worker\n",
    "from datapath import DATA"
   ]
  },
  {
   "cell_type": "markdown",
   "id": "c247be58",
   "metadata": {},
   "source": [
    "## Initialization"
   ]
  },
  {
   "cell_type": "code",
   "execution_count": 2,
   "id": "a4f136fc",
   "metadata": {},
   "outputs": [],
   "source": [
    "# these were determined in script White_light_images as the normalization\n",
    "# factors that render the smoothest background.\n",
    "red_norm =  1.34\n",
    "blue_norm = 1.25\n",
    "\n",
    "# lets try with best for star @ 4300K\n",
    "# red_norm =  1.9\n",
    "# blue_norm = 1.9\n",
    "\n",
    "# parameters to control background subtraction\n",
    "bkg_cell_footprint = (35, 35)\n",
    "bkg_filter = (9, 9)\n",
    "\n",
    "bkg_sigma_clip = SigmaClip(sigma=5.)\n",
    "bkg_kernel = Gaussian2DKernel(x_stddev=5)\n",
    "bkg_estimator = ModeEstimatorBackground()"
   ]
  },
  {
   "cell_type": "code",
   "execution_count": 3,
   "id": "23300b33",
   "metadata": {},
   "outputs": [],
   "source": [
    "# paths\n",
    "data_dirpath = os.path.join(DATA,'astrophotography_data/Andromeda_2022/104MSDCF')\n",
    "\n",
    "input_suffix = '.ARW'\n",
    "output_suffix = '.bkg_subtracted.fits'"
   ]
  },
  {
   "cell_type": "code",
   "execution_count": 4,
   "id": "0bec77d4",
   "metadata": {},
   "outputs": [
    {
     "data": {
      "text/plain": [
       "['/Users/busko/Projects/astrophotography_data/Andromeda_2022/104MSDCF/DSC09939.ARW',\n",
       " '/Users/busko/Projects/astrophotography_data/Andromeda_2022/104MSDCF/DSC09940.ARW',\n",
       " '/Users/busko/Projects/astrophotography_data/Andromeda_2022/104MSDCF/DSC09941.ARW',\n",
       " '/Users/busko/Projects/astrophotography_data/Andromeda_2022/104MSDCF/DSC09942.ARW',\n",
       " '/Users/busko/Projects/astrophotography_data/Andromeda_2022/104MSDCF/DSC09943.ARW',\n",
       " '/Users/busko/Projects/astrophotography_data/Andromeda_2022/104MSDCF/DSC09944.ARW',\n",
       " '/Users/busko/Projects/astrophotography_data/Andromeda_2022/104MSDCF/DSC09945.ARW',\n",
       " '/Users/busko/Projects/astrophotography_data/Andromeda_2022/104MSDCF/DSC09946.ARW',\n",
       " '/Users/busko/Projects/astrophotography_data/Andromeda_2022/104MSDCF/DSC09947.ARW',\n",
       " '/Users/busko/Projects/astrophotography_data/Andromeda_2022/104MSDCF/DSC09948.ARW',\n",
       " '/Users/busko/Projects/astrophotography_data/Andromeda_2022/104MSDCF/DSC09949.ARW',\n",
       " '/Users/busko/Projects/astrophotography_data/Andromeda_2022/104MSDCF/DSC09950.ARW',\n",
       " '/Users/busko/Projects/astrophotography_data/Andromeda_2022/104MSDCF/DSC09951.ARW',\n",
       " '/Users/busko/Projects/astrophotography_data/Andromeda_2022/104MSDCF/DSC09952.ARW',\n",
       " '/Users/busko/Projects/astrophotography_data/Andromeda_2022/104MSDCF/DSC09953.ARW',\n",
       " '/Users/busko/Projects/astrophotography_data/Andromeda_2022/104MSDCF/DSC09954.ARW',\n",
       " '/Users/busko/Projects/astrophotography_data/Andromeda_2022/104MSDCF/DSC09955.ARW',\n",
       " '/Users/busko/Projects/astrophotography_data/Andromeda_2022/104MSDCF/DSC09956.ARW',\n",
       " '/Users/busko/Projects/astrophotography_data/Andromeda_2022/104MSDCF/DSC09957.ARW',\n",
       " '/Users/busko/Projects/astrophotography_data/Andromeda_2022/104MSDCF/DSC09958.ARW',\n",
       " '/Users/busko/Projects/astrophotography_data/Andromeda_2022/104MSDCF/DSC09959.ARW',\n",
       " '/Users/busko/Projects/astrophotography_data/Andromeda_2022/104MSDCF/DSC09960.ARW',\n",
       " '/Users/busko/Projects/astrophotography_data/Andromeda_2022/104MSDCF/DSC09961.ARW',\n",
       " '/Users/busko/Projects/astrophotography_data/Andromeda_2022/104MSDCF/DSC09962.ARW',\n",
       " '/Users/busko/Projects/astrophotography_data/Andromeda_2022/104MSDCF/DSC09963.ARW',\n",
       " '/Users/busko/Projects/astrophotography_data/Andromeda_2022/104MSDCF/DSC09964.ARW',\n",
       " '/Users/busko/Projects/astrophotography_data/Andromeda_2022/104MSDCF/DSC09965.ARW',\n",
       " '/Users/busko/Projects/astrophotography_data/Andromeda_2022/104MSDCF/DSC09966.ARW',\n",
       " '/Users/busko/Projects/astrophotography_data/Andromeda_2022/104MSDCF/DSC09967.ARW',\n",
       " '/Users/busko/Projects/astrophotography_data/Andromeda_2022/104MSDCF/DSC09968.ARW',\n",
       " '/Users/busko/Projects/astrophotography_data/Andromeda_2022/104MSDCF/DSC09969.ARW',\n",
       " '/Users/busko/Projects/astrophotography_data/Andromeda_2022/104MSDCF/DSC09970.ARW',\n",
       " '/Users/busko/Projects/astrophotography_data/Andromeda_2022/104MSDCF/DSC09971.ARW',\n",
       " '/Users/busko/Projects/astrophotography_data/Andromeda_2022/104MSDCF/DSC09972.ARW',\n",
       " '/Users/busko/Projects/astrophotography_data/Andromeda_2022/104MSDCF/DSC09973.ARW',\n",
       " '/Users/busko/Projects/astrophotography_data/Andromeda_2022/104MSDCF/DSC09974.ARW',\n",
       " '/Users/busko/Projects/astrophotography_data/Andromeda_2022/104MSDCF/DSC09975.ARW',\n",
       " '/Users/busko/Projects/astrophotography_data/Andromeda_2022/104MSDCF/DSC09976.ARW',\n",
       " '/Users/busko/Projects/astrophotography_data/Andromeda_2022/104MSDCF/DSC09977.ARW',\n",
       " '/Users/busko/Projects/astrophotography_data/Andromeda_2022/104MSDCF/DSC09978.ARW',\n",
       " '/Users/busko/Projects/astrophotography_data/Andromeda_2022/104MSDCF/DSC09979.ARW',\n",
       " '/Users/busko/Projects/astrophotography_data/Andromeda_2022/104MSDCF/DSC09980.ARW',\n",
       " '/Users/busko/Projects/astrophotography_data/Andromeda_2022/104MSDCF/DSC09981.ARW',\n",
       " '/Users/busko/Projects/astrophotography_data/Andromeda_2022/104MSDCF/DSC09982.ARW',\n",
       " '/Users/busko/Projects/astrophotography_data/Andromeda_2022/104MSDCF/DSC09983.ARW',\n",
       " '/Users/busko/Projects/astrophotography_data/Andromeda_2022/104MSDCF/DSC09984.ARW',\n",
       " '/Users/busko/Projects/astrophotography_data/Andromeda_2022/104MSDCF/DSC09985.ARW',\n",
       " '/Users/busko/Projects/astrophotography_data/Andromeda_2022/104MSDCF/DSC09986.ARW',\n",
       " '/Users/busko/Projects/astrophotography_data/Andromeda_2022/104MSDCF/DSC09987.ARW',\n",
       " '/Users/busko/Projects/astrophotography_data/Andromeda_2022/104MSDCF/DSC09988.ARW',\n",
       " '/Users/busko/Projects/astrophotography_data/Andromeda_2022/104MSDCF/DSC09989.ARW',\n",
       " '/Users/busko/Projects/astrophotography_data/Andromeda_2022/104MSDCF/DSC09990.ARW',\n",
       " '/Users/busko/Projects/astrophotography_data/Andromeda_2022/104MSDCF/DSC09991.ARW',\n",
       " '/Users/busko/Projects/astrophotography_data/Andromeda_2022/104MSDCF/DSC09992.ARW',\n",
       " '/Users/busko/Projects/astrophotography_data/Andromeda_2022/104MSDCF/DSC09993.ARW',\n",
       " '/Users/busko/Projects/astrophotography_data/Andromeda_2022/104MSDCF/DSC09994.ARW',\n",
       " '/Users/busko/Projects/astrophotography_data/Andromeda_2022/104MSDCF/DSC09995.ARW',\n",
       " '/Users/busko/Projects/astrophotography_data/Andromeda_2022/104MSDCF/DSC09996.ARW',\n",
       " '/Users/busko/Projects/astrophotography_data/Andromeda_2022/104MSDCF/DSC09997.ARW',\n",
       " '/Users/busko/Projects/astrophotography_data/Andromeda_2022/104MSDCF/DSC09998.ARW',\n",
       " '/Users/busko/Projects/astrophotography_data/Andromeda_2022/104MSDCF/DSC09999.ARW']"
      ]
     },
     "execution_count": 4,
     "metadata": {},
     "output_type": "execute_result"
    }
   ],
   "source": [
    "# images to subtract background from\n",
    "image_list = list(glob.glob(data_dirpath + '/*' + input_suffix))\n",
    "image_list.sort()\n",
    "\n",
    "image_list"
   ]
  },
  {
   "cell_type": "code",
   "execution_count": 5,
   "id": "3b6b18e8",
   "metadata": {},
   "outputs": [],
   "source": [
    "# read base image - we need this in order to access the camera color matrix\n",
    "raw = rawpy.imread(image_list[int(len(image_list)/2)]) # mid-point\n",
    "imarray_base = raw.raw_image_visible.astype(float)"
   ]
  },
  {
   "cell_type": "code",
   "execution_count": 6,
   "id": "7b7f709e",
   "metadata": {},
   "outputs": [],
   "source": [
    "# masks that isolate the RGB pixels\n",
    "colors_array = raw.raw_colors_visible\n",
    "\n",
    "red_mask = np.where(colors_array == 0, 1, 0)\n",
    "\n",
    "green_mask_1 = np.where(colors_array == 1, 1, 0)\n",
    "green_mask_2 = np.where(colors_array == 3, 1, 0)\n",
    "green_mask = green_mask_1 | green_mask_2\n",
    "\n",
    "blue_mask = np.where(colors_array == 2, 1, 0)"
   ]
  },
  {
   "cell_type": "markdown",
   "id": "d2dd6253",
   "metadata": {},
   "source": [
    "## Functions"
   ]
  },
  {
   "cell_type": "markdown",
   "id": "e28f2475",
   "metadata": {},
   "source": [
    "All functions are defined in module 'worker_background.py'. The multiprocessing framework requires that everything that runs on a separate process has to have its own address space. "
   ]
  },
  {
   "cell_type": "markdown",
   "id": "a6feea08",
   "metadata": {},
   "source": [
    "## Main loop"
   ]
  },
  {
   "cell_type": "code",
   "execution_count": 7,
   "id": "77a76f3f",
   "metadata": {
    "scrolled": false
   },
   "outputs": [
    {
     "name": "stdout",
     "output_type": "stream",
     "text": [
      "Writing bkg-subtracted image:  /Users/busko/Projects/astrophotography_data/Andromeda_2022/104MSDCF/DSC09939.bkg_subtracted.fits Mon Sep 11 13:20:28 2023\n",
      "Writing bkg-subtracted image:  /Users/busko/Projects/astrophotography_data/Andromeda_2022/104MSDCF/DSC09955.bkg_subtracted.fits Mon Sep 11 13:20:29 2023\n",
      "Writing bkg-subtracted image:  /Users/busko/Projects/astrophotography_data/Andromeda_2022/104MSDCF/DSC09963.bkg_subtracted.fits Mon Sep 11 13:20:30 2023\n",
      "Writing bkg-subtracted image:  /Users/busko/Projects/astrophotography_data/Andromeda_2022/104MSDCF/DSC09971.bkg_subtracted.fits Mon Sep 11 13:20:31 2023\n",
      "Writing bkg-subtracted image:  /Users/busko/Projects/astrophotography_data/Andromeda_2022/104MSDCF/DSC09947.bkg_subtracted.fits Mon Sep 11 13:20:31 2023\n",
      "Writing bkg-subtracted image:  /Users/busko/Projects/astrophotography_data/Andromeda_2022/104MSDCF/DSC09979.bkg_subtracted.fits Mon Sep 11 13:20:31 2023\n",
      "Writing bkg-subtracted image:  /Users/busko/Projects/astrophotography_data/Andromeda_2022/104MSDCF/DSC09986.bkg_subtracted.fits Mon Sep 11 13:20:33 2023\n",
      "Writing bkg-subtracted image:  /Users/busko/Projects/astrophotography_data/Andromeda_2022/104MSDCF/DSC09993.bkg_subtracted.fits Mon Sep 11 13:20:33 2023\n",
      "Writing bkg-subtracted image:  /Users/busko/Projects/astrophotography_data/Andromeda_2022/104MSDCF/DSC09940.bkg_subtracted.fits Mon Sep 11 13:22:59 2023\n",
      "Writing bkg-subtracted image:  /Users/busko/Projects/astrophotography_data/Andromeda_2022/104MSDCF/DSC09956.bkg_subtracted.fits Mon Sep 11 13:23:01 2023\n",
      "Writing bkg-subtracted image:  /Users/busko/Projects/astrophotography_data/Andromeda_2022/104MSDCF/DSC09964.bkg_subtracted.fits Mon Sep 11 13:23:03 2023\n",
      "Writing bkg-subtracted image:  /Users/busko/Projects/astrophotography_data/Andromeda_2022/104MSDCF/DSC09972.bkg_subtracted.fits Mon Sep 11 13:23:04 2023\n",
      "Writing bkg-subtracted image:  /Users/busko/Projects/astrophotography_data/Andromeda_2022/104MSDCF/DSC09980.bkg_subtracted.fits Mon Sep 11 13:23:04 2023\n",
      "Writing bkg-subtracted image:  /Users/busko/Projects/astrophotography_data/Andromeda_2022/104MSDCF/DSC09987.bkg_subtracted.fits Mon Sep 11 13:23:05 2023\n",
      "Writing bkg-subtracted image:  /Users/busko/Projects/astrophotography_data/Andromeda_2022/104MSDCF/DSC09994.bkg_subtracted.fits Mon Sep 11 13:23:06 2023\n",
      "Writing bkg-subtracted image:  /Users/busko/Projects/astrophotography_data/Andromeda_2022/104MSDCF/DSC09948.bkg_subtracted.fits Mon Sep 11 13:23:07 2023\n",
      "Writing bkg-subtracted image:  /Users/busko/Projects/astrophotography_data/Andromeda_2022/104MSDCF/DSC09941.bkg_subtracted.fits Mon Sep 11 13:25:34 2023\n",
      "Writing bkg-subtracted image:  /Users/busko/Projects/astrophotography_data/Andromeda_2022/104MSDCF/DSC09957.bkg_subtracted.fits Mon Sep 11 13:25:36 2023\n",
      "Writing bkg-subtracted image:  /Users/busko/Projects/astrophotography_data/Andromeda_2022/104MSDCF/DSC09995.bkg_subtracted.fits Mon Sep 11 13:25:41 2023\n",
      "Writing bkg-subtracted image:  /Users/busko/Projects/astrophotography_data/Andromeda_2022/104MSDCF/DSC09988.bkg_subtracted.fits Mon Sep 11 13:25:41 2023\n",
      "Writing bkg-subtracted image:  /Users/busko/Projects/astrophotography_data/Andromeda_2022/104MSDCF/DSC09981.bkg_subtracted.fits Mon Sep 11 13:25:42 2023\n",
      "Writing bkg-subtracted image:  /Users/busko/Projects/astrophotography_data/Andromeda_2022/104MSDCF/DSC09973.bkg_subtracted.fits Mon Sep 11 13:25:42 2023\n",
      "Writing bkg-subtracted image:  /Users/busko/Projects/astrophotography_data/Andromeda_2022/104MSDCF/DSC09965.bkg_subtracted.fits Mon Sep 11 13:25:42 2023\n",
      "Writing bkg-subtracted image:  /Users/busko/Projects/astrophotography_data/Andromeda_2022/104MSDCF/DSC09949.bkg_subtracted.fits Mon Sep 11 13:25:43 2023\n",
      "Writing bkg-subtracted image:  /Users/busko/Projects/astrophotography_data/Andromeda_2022/104MSDCF/DSC09942.bkg_subtracted.fits Mon Sep 11 13:28:08 2023\n",
      "Writing bkg-subtracted image:  /Users/busko/Projects/astrophotography_data/Andromeda_2022/104MSDCF/DSC09958.bkg_subtracted.fits Mon Sep 11 13:28:11 2023\n",
      "Writing bkg-subtracted image:  /Users/busko/Projects/astrophotography_data/Andromeda_2022/104MSDCF/DSC09989.bkg_subtracted.fits Mon Sep 11 13:28:15 2023\n",
      "Writing bkg-subtracted image:  /Users/busko/Projects/astrophotography_data/Andromeda_2022/104MSDCF/DSC09996.bkg_subtracted.fits Mon Sep 11 13:28:15 2023\n",
      "Writing bkg-subtracted image:  /Users/busko/Projects/astrophotography_data/Andromeda_2022/104MSDCF/DSC09966.bkg_subtracted.fits Mon Sep 11 13:28:17 2023\n",
      "Writing bkg-subtracted image:  /Users/busko/Projects/astrophotography_data/Andromeda_2022/104MSDCF/DSC09974.bkg_subtracted.fits Mon Sep 11 13:28:17 2023\n",
      "Writing bkg-subtracted image:  /Users/busko/Projects/astrophotography_data/Andromeda_2022/104MSDCF/DSC09982.bkg_subtracted.fits Mon Sep 11 13:28:17 2023\n",
      "Writing bkg-subtracted image:  /Users/busko/Projects/astrophotography_data/Andromeda_2022/104MSDCF/DSC09950.bkg_subtracted.fits Mon Sep 11 13:28:19 2023\n",
      "Writing bkg-subtracted image:  /Users/busko/Projects/astrophotography_data/Andromeda_2022/104MSDCF/DSC09943.bkg_subtracted.fits Mon Sep 11 13:30:42 2023\n",
      "Writing bkg-subtracted image:  /Users/busko/Projects/astrophotography_data/Andromeda_2022/104MSDCF/DSC09959.bkg_subtracted.fits Mon Sep 11 13:30:46 2023\n",
      "Writing bkg-subtracted image:  /Users/busko/Projects/astrophotography_data/Andromeda_2022/104MSDCF/DSC09997.bkg_subtracted.fits Mon Sep 11 13:30:53 2023\n",
      "Writing bkg-subtracted image:  /Users/busko/Projects/astrophotography_data/Andromeda_2022/104MSDCF/DSC09990.bkg_subtracted.fits Mon Sep 11 13:30:53 2023\n",
      "Writing bkg-subtracted image:  /Users/busko/Projects/astrophotography_data/Andromeda_2022/104MSDCF/DSC09983.bkg_subtracted.fits Mon Sep 11 13:30:55 2023\n",
      "Writing bkg-subtracted image:  /Users/busko/Projects/astrophotography_data/Andromeda_2022/104MSDCF/DSC09967.bkg_subtracted.fits Mon Sep 11 13:30:56 2023\n",
      "Writing bkg-subtracted image:  /Users/busko/Projects/astrophotography_data/Andromeda_2022/104MSDCF/DSC09975.bkg_subtracted.fits Mon Sep 11 13:30:56 2023\n",
      "Writing bkg-subtracted image:  /Users/busko/Projects/astrophotography_data/Andromeda_2022/104MSDCF/DSC09951.bkg_subtracted.fits Mon Sep 11 13:30:57 2023\n",
      "Writing bkg-subtracted image:  /Users/busko/Projects/astrophotography_data/Andromeda_2022/104MSDCF/DSC09944.bkg_subtracted.fits Mon Sep 11 13:33:17 2023\n",
      "Writing bkg-subtracted image:  /Users/busko/Projects/astrophotography_data/Andromeda_2022/104MSDCF/DSC09960.bkg_subtracted.fits Mon Sep 11 13:33:23 2023\n",
      "Writing bkg-subtracted image:  /Users/busko/Projects/astrophotography_data/Andromeda_2022/104MSDCF/DSC09998.bkg_subtracted.fits Mon Sep 11 13:33:31 2023\n",
      "Writing bkg-subtracted image:  /Users/busko/Projects/astrophotography_data/Andromeda_2022/104MSDCF/DSC09991.bkg_subtracted.fits Mon Sep 11 13:33:32 2023\n",
      "Writing bkg-subtracted image:  /Users/busko/Projects/astrophotography_data/Andromeda_2022/104MSDCF/DSC09976.bkg_subtracted.fits Mon Sep 11 13:33:33 2023\n",
      "Writing bkg-subtracted image:  /Users/busko/Projects/astrophotography_data/Andromeda_2022/104MSDCF/DSC09984.bkg_subtracted.fits Mon Sep 11 13:33:34 2023\n",
      "Writing bkg-subtracted image:  /Users/busko/Projects/astrophotography_data/Andromeda_2022/104MSDCF/DSC09968.bkg_subtracted.fits Mon Sep 11 13:33:34 2023\n",
      "Writing bkg-subtracted image:  /Users/busko/Projects/astrophotography_data/Andromeda_2022/104MSDCF/DSC09952.bkg_subtracted.fits Mon Sep 11 13:33:36 2023\n",
      "Writing bkg-subtracted image:  /Users/busko/Projects/astrophotography_data/Andromeda_2022/104MSDCF/DSC09945.bkg_subtracted.fits Mon Sep 11 13:35:51 2023\n",
      "Writing bkg-subtracted image:  /Users/busko/Projects/astrophotography_data/Andromeda_2022/104MSDCF/DSC09961.bkg_subtracted.fits Mon Sep 11 13:35:58 2023\n",
      "Writing bkg-subtracted image:  /Users/busko/Projects/astrophotography_data/Andromeda_2022/104MSDCF/DSC09992.bkg_subtracted.fits Mon Sep 11 13:36:07 2023\n",
      "Writing bkg-subtracted image:  /Users/busko/Projects/astrophotography_data/Andromeda_2022/104MSDCF/DSC09999.bkg_subtracted.fits Mon Sep 11 13:36:07 2023\n",
      "Writing bkg-subtracted image:  /Users/busko/Projects/astrophotography_data/Andromeda_2022/104MSDCF/DSC09977.bkg_subtracted.fits Mon Sep 11 13:36:09 2023\n",
      "Writing bkg-subtracted image:  /Users/busko/Projects/astrophotography_data/Andromeda_2022/104MSDCF/DSC09969.bkg_subtracted.fits Mon Sep 11 13:36:09 2023\n"
     ]
    },
    {
     "name": "stdout",
     "output_type": "stream",
     "text": [
      "Writing bkg-subtracted image:  /Users/busko/Projects/astrophotography_data/Andromeda_2022/104MSDCF/DSC09985.bkg_subtracted.fits Mon Sep 11 13:36:10 2023\n",
      "Writing bkg-subtracted image:  /Users/busko/Projects/astrophotography_data/Andromeda_2022/104MSDCF/DSC09953.bkg_subtracted.fits Mon Sep 11 13:36:12 2023\n",
      "Writing bkg-subtracted image:  /Users/busko/Projects/astrophotography_data/Andromeda_2022/104MSDCF/DSC09946.bkg_subtracted.fits Mon Sep 11 13:38:19 2023\n",
      "Writing bkg-subtracted image:  /Users/busko/Projects/astrophotography_data/Andromeda_2022/104MSDCF/DSC09962.bkg_subtracted.fits Mon Sep 11 13:38:25 2023\n",
      "Writing bkg-subtracted image:  /Users/busko/Projects/astrophotography_data/Andromeda_2022/104MSDCF/DSC09978.bkg_subtracted.fits Mon Sep 11 13:38:35 2023\n",
      "Writing bkg-subtracted image:  /Users/busko/Projects/astrophotography_data/Andromeda_2022/104MSDCF/DSC09970.bkg_subtracted.fits Mon Sep 11 13:38:35 2023\n",
      "Writing bkg-subtracted image:  /Users/busko/Projects/astrophotography_data/Andromeda_2022/104MSDCF/DSC09954.bkg_subtracted.fits Mon Sep 11 13:38:39 2023\n"
     ]
    }
   ],
   "source": [
    "# for image_name in image_list:\n",
    "#     raw = rawpy.imread(image_name)\n",
    "#     imarray = raw.raw_image_visible.astype(float)\n",
    "#     subtracted = subtract_background(imarray, red_norm=red_norm, blue_norm=blue_norm)\n",
    "#     write_bkg_subtracted(image_name, subtracted)\n",
    "\n",
    "# number of processors\n",
    "nproc = 8    # (Mac M1)\n",
    "\n",
    "# split file list in nproc chuncks; one for each processor\n",
    "image_list_chuncks = np.array_split(image_list, nproc)\n",
    "\n",
    "results = []\n",
    "pool = Pool(nproc)\n",
    "\n",
    "for p in range(nproc):\n",
    "    worker = Worker(image_list_chuncks[p], input_suffix, output_suffix, \n",
    "                    red_mask, green_mask, blue_mask, \n",
    "                    red_norm, blue_norm,\n",
    "                    bkg_cell_footprint, bkg_filter, bkg_sigma_clip, bkg_kernel, bkg_estimator)\n",
    "\n",
    "    r = pool.apply_async(worker)\n",
    "    results.append(r)\n",
    "\n",
    "for r in results:\n",
    "    r.wait()\n",
    "\n",
    "pool.close()    "
   ]
  },
  {
   "cell_type": "code",
   "execution_count": null,
   "id": "f951615a",
   "metadata": {},
   "outputs": [],
   "source": []
  }
 ],
 "metadata": {
  "kernelspec": {
   "display_name": "Python 3 (ipykernel)",
   "language": "python",
   "name": "python3"
  },
  "language_info": {
   "codemirror_mode": {
    "name": "ipython",
    "version": 3
   },
   "file_extension": ".py",
   "mimetype": "text/x-python",
   "name": "python",
   "nbconvert_exporter": "python",
   "pygments_lexer": "ipython3",
   "version": "3.10.9"
  }
 },
 "nbformat": 4,
 "nbformat_minor": 5
}
