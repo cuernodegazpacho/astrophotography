{
 "cells": [
  {
   "cell_type": "markdown",
   "metadata": {},
   "source": [
    "# Flat-field analysis"
   ]
  },
  {
   "cell_type": "markdown",
   "metadata": {},
   "source": [
    "In here, we analise a set of flat field frames and build a combined flat."
   ]
  },
  {
   "cell_type": "markdown",
   "metadata": {},
   "source": [
    "## Data\n",
    "\n",
    "The input is a set of 90 flat field raw frames made with this device ![alt text](Flat_device_small.jpeg \"Title\") \n",
    "\n",
    "Used a standard setting of ISO 100, which corresponds to gain=1. The 14mm lens was held at full aperture (the same used for the light frames), and shutter speed was adjusted automatically with the A (Aperture priority) mode so as to generate properly scaled histograms in the three colors.\n",
    "\n",
    "The indoors and outdoors sets where both made with indirect Sun light.\n",
    "\n",
    "The data acquisition was conducted in three subsets of 30 frames each, with the camera setup rotated 90 degrees in between each subset. The purpose is to cancel out differences in the overall ligth distribution caused by uneven illumination of the setup (e.g. the Sun shining sideways on the setup).\n",
    "\n",
    "In between each individual picture, the diffuser cover was slightly repositioned and/or rotated. The purpose is to average over high-frequency uneven features in the light distribution coming from the diffuser (e.g. caused by scratches and stains on the plastic lid)."
   ]
  },
  {
   "cell_type": "markdown",
   "metadata": {},
   "source": []
  },
  {
   "cell_type": "code",
   "execution_count": null,
   "metadata": {},
   "outputs": [],
   "source": [
    "%pylab notebook\n",
    "%matplotlib notebook\n",
    "# %matplotlib inline\n",
    "\n",
    "import os, glob\n",
    "\n",
    "# from dask import delayed\n",
    "\n",
    "import numpy as np\n",
    "from matplotlib.pyplot import imshow\n",
    "import matplotlib.pyplot as plt\n",
    "\n",
    "import exifread\n",
    "import rawpy"
   ]
  },
  {
   "cell_type": "markdown",
   "metadata": {},
   "source": [
    "## Utility functions "
   ]
  },
  {
   "cell_type": "code",
   "execution_count": null,
   "metadata": {},
   "outputs": [],
   "source": [
    "# Function that combines raw frames from a file list, using a provided numpy \n",
    "# combination function. It returns a numpy array with the combined result.\n",
    "def combine_arrays(file_list, combination_function=np.average):\n",
    "    \n",
    "    # Get metadata for reporting purposes\n",
    "    f = open(file_list[0], 'rb')\n",
    "    tags = exifread.process_file(f)\n",
    "    iso = str(tags['EXIF ISOSpeedRatings'])\n",
    "    exptime = str(tags['EXIF ExposureTime'])\n",
    "    \n",
    "    stack = None\n",
    "\n",
    "    for fname, i in zip(file_list, range(len(file_list))):\n",
    "\n",
    "        # Build stack. We do not use the scipy/numpy stacking \n",
    "        # functions because they clog memory.\n",
    "        with rawpy.imread(fname) as raw:\n",
    "            array = raw.raw_image_visible\n",
    "\n",
    "            # Only now we can create the stack, since arry size\n",
    "            # is unknown before we actually read the first image.\n",
    "            if stack is None:            \n",
    "                stack = np.zeros(shape=(array.shape[0],array.shape[1],len(file_list)), dtype='float32')\n",
    "\n",
    "            # Actual raw DN values are obtained after subtracting the\n",
    "            # camera-created black level per channel. In the Sony A7, this\n",
    "            # parameter is the same for all channels, and constant.\n",
    "            # Just subtract it from everything. No need to subtract an\n",
    "            # actual dark frame, since the noise in those is so small.\n",
    "            stack[:,:,i] = array - 512\n",
    "\n",
    "    # Combine \n",
    "    combined = combination_function(stack, axis=2)\n",
    "\n",
    "    return combined, exptime, iso"
   ]
  },
  {
   "cell_type": "code",
   "execution_count": null,
   "metadata": {},
   "outputs": [],
   "source": [
    "# Function that generates plots from a list of numpy arrays.\n",
    "# The plots are all lined up in a single row. That way, up to 3 plots\n",
    "# can be placed on the visible window in a notebook page.\n",
    "# The title string is used to generate the plot titles\n",
    "def plot_multiple(input_list, title, labels=None):\n",
    "    figsize(9.5,3)\n",
    "    \n",
    "    if labels is None:\n",
    "        sequence_index = [i+1 for i in range(len(input_list))]\n",
    "    else:\n",
    "        sequence_index = labels\n",
    "\n",
    "    fig = plt.figure() \n",
    "    ax = None\n",
    "    for array, name, i in zip(input_list, sequence_index, range(len(input_list))):\n",
    "        if ax is None:\n",
    "            ax = fig.add_subplot(1, len(input_list), i+1)\n",
    "            ax.set_title(str(sequence_index[i]))    \n",
    "        else:\n",
    "            ax1 = fig.add_subplot(1, len(input_list), i+1, sharex=ax, sharey=ax)\n",
    "            ax1.set_title(str(sequence_index[i]))    \n",
    "\n",
    "        plt.imshow(array)\n",
    "        plt.colorbar()\n",
    "\n",
    "    fig.suptitle(title)\n",
    "    plt.show()"
   ]
  },
  {
   "cell_type": "code",
   "execution_count": null,
   "metadata": {},
   "outputs": [],
   "source": [
    "# Process the flat fields. The entire set of file names is provided as a single list.\n",
    "# Three slices are used to select three subsets within that list. 'Name' is used to\n",
    "# generate the plot titles.\n",
    "def process(list_raw, slice1, slice2, slice3, name, combination_function=np.average):\n",
    "    c1, exptime, iso = combine_arrays(list_raw[slice1], combination_function)\n",
    "    c2, _, _ = combine_arrays(list_raw[slice2], combination_function)\n",
    "    c3, _, _ = combine_arrays(list_raw[slice3], combination_function)\n",
    "\n",
    "    diff_1 = c1 - c3\n",
    "    diff_2 = c2 - c3\n",
    "    diff_3 = c1 - c2\n",
    "    \n",
    "    plot_multiple([c1, c2, c3], name+' '+exptime+'s  ISO '+iso)\n",
    "    plot_multiple([diff_1, diff_2, diff_3], 'Differences')"
   ]
  },
  {
   "cell_type": "markdown",
   "metadata": {},
   "source": [
    "## Define path to data files"
   ]
  },
  {
   "cell_type": "code",
   "execution_count": null,
   "metadata": {},
   "outputs": [],
   "source": [
    "path = '../astrophotography_data/MilkyWayPrettyBoy/flats/'"
   ]
  },
  {
   "cell_type": "markdown",
   "metadata": {},
   "source": [
    "## Analysis of uniformness of the light field\n",
    "\n",
    "The three data subsets (30 frames each) from each data acquisition run, are combined separately, and differences in between the three subsets  can tell us something about the overal quality of the flat field that is built by combining all the 90 frames together.\n",
    "\n",
    "Tried mean and median combinations.\n",
    "\n"
   ]
  },
  {
   "cell_type": "code",
   "execution_count": null,
   "metadata": {},
   "outputs": [],
   "source": [
    "%%time\n",
    "# Flats made indoors - 14mm f2.8\n",
    "list_raw = glob.glob(path + 'raw_1/*.ARW')\n",
    "process(list_raw, slice(0,30), slice(31,60), slice(61,90), '14mm f2.8 indoors', combination_function=np.median)"
   ]
  },
  {
   "cell_type": "code",
   "execution_count": null,
   "metadata": {},
   "outputs": [],
   "source": [
    "%%time\n",
    "# Flats made outdoors - 14mm f2.8\n",
    "list_raw = glob.glob(path + 'raw_2/*.ARW')\n",
    "process(list_raw, slice(0,30), slice(31,60), slice(61,90), '14mm f2.8 outdoors ', combination_function=np.median)"
   ]
  },
  {
   "cell_type": "code",
   "execution_count": null,
   "metadata": {},
   "outputs": [],
   "source": [
    "%%time\n",
    "# Flats made outdoors - 14mm f4 for comparison with the f2.8 data sets.\n",
    "list_raw = glob.glob(path + 'raw_f4/*.ARW')\n",
    "process(list_raw, slice(0,30), slice(31,60), slice(61,90), '14mm f4 outdoors', combination_function=np.median)"
   ]
  },
  {
   "cell_type": "markdown",
   "metadata": {},
   "source": [
    "### Conclusion\n",
    "\n",
    "The difference plots are more uniform, with less structure, for the outdoors subset. Note that the range in DN in these plots is mostly coming from the fact that we have the three RGB colors still mixed together in these non-debayred arrays. Thus no direct noise measurements of the flat field can be made there.\n",
    "\n",
    "From the diff plots, we can conclude that the best flat field can be derived from the median combination of the 90 frames taken outdoors."
   ]
  },
  {
   "cell_type": "markdown",
   "metadata": {},
   "source": [
    "## Analysis of noise in each color channel\n",
    "\n",
    "Because we cannot extract noise information directly from the raw images, we use standard debayerization to build interpolated RGB arrays. This is justified by the fact that the flat field is very smooth and in practice any interpolation technique applied in the color sub-arrays should give essentially the same result.\n",
    "\n"
   ]
  },
  {
   "cell_type": "code",
   "execution_count": null,
   "metadata": {},
   "outputs": [],
   "source": [
    "%%time\n",
    "# Build combination from entire data set. Here we use a similar procedure as\n",
    "# defined in function combine_arrays, but work with the de-bayered arays. Step\n",
    "# over every other frame to minimize kernel shutdown problems.\n",
    "list_raw = glob.glob(path + 'raw_2/*.ARW')[::2]\n",
    "\n",
    "# Build stack. We do not use the scipy/numpy stacking functions because \n",
    "# they clog memory.\n",
    "stack_r = None\n",
    "stack_g = None\n",
    "stack_b = None\n",
    "\n",
    "for fname, i in zip(list_raw, range(len(list_raw))):\n",
    "\n",
    "    # Read and de-bayer each raw file into a linear image.\n",
    "    # These settings preserve the raw pixel values into \n",
    "    # the output RGB array.\n",
    "    with rawpy.imread(fname) as raw:\n",
    "        rgb = raw.postprocess(gamma=(1,1), \n",
    "                              output_bps=16,\n",
    "                              use_camera_wb=False,\n",
    "                              use_auto_wb=False,\n",
    "                              no_auto_bright=True, \n",
    "                              no_auto_scale=True,\n",
    "                              output_color=rawpy.ColorSpace.raw)\n",
    "        red = rgb[::,::,0]\n",
    "        green = rgb[::,::,1]\n",
    "        blue = rgb[::,::,2]\n",
    "\n",
    "        if stack_r is None:            \n",
    "            stack_r = np.zeros(shape=(red.shape[0],red.shape[1],len(list_raw)), dtype='float32')\n",
    "            stack_g = np.zeros(shape=(red.shape[0],red.shape[1],len(list_raw)), dtype='float32')\n",
    "            stack_b = np.zeros(shape=(red.shape[0],red.shape[1],len(list_raw)), dtype='float32')\n",
    "\n",
    "        stack_r[:,:,i] = red\n",
    "        stack_g[:,:,i] = green\n",
    "        stack_b[:,:,i] = blue\n",
    "\n",
    "        print(i, fname)\n",
    "\n",
    "print(\"Stack shape: \" + str(stack_r.shape))\n",
    "\n",
    "# Combine \n",
    "c_red = np.median(stack_r, axis=2)\n",
    "c_green = np.median(stack_g, axis=2)\n",
    "c_blue = np.median(stack_b, axis=2)"
   ]
  },
  {
   "cell_type": "code",
   "execution_count": null,
   "metadata": {},
   "outputs": [],
   "source": [
    "plot_multiple([c_red, c_green, c_blue], 'Combined '+str(len(list_raw))+' frames', labels=['R','G','B'])"
   ]
  },
  {
   "cell_type": "code",
   "execution_count": null,
   "metadata": {},
   "outputs": [],
   "source": [
    "# Stats\n",
    "def stats(array, x, y, size, name):\n",
    "    slice_x = slice(x,x+100)\n",
    "    slice_y = slice(y,y+100)\n",
    "    mean = np.mean(array[slice_x,slice_y])\n",
    "    std = np.std(array[slice_x,slice_y])\n",
    "    print(name, \"  mean =\", mean, \"stddev =\", std, \"S/N =\", str(mean/std))\n",
    "\n",
    "size = 100\n",
    "\n",
    "x = int(c_red.shape[0] / 2)\n",
    "y = int(c_red.shape[1] / 2)\n",
    "stats(c_red, x, y, size, \"Center R:\")\n",
    "stats(c_green, x, y, size, \"Center G:\")\n",
    "stats(c_blue, x, y, size, \"Center B:\")\n",
    "\n",
    "x = 10\n",
    "y = 10\n",
    "stats(c_red, x, y, size, \"Corner R:\")\n",
    "stats(c_green, x, y, size, \"Corner G:\")\n",
    "stats(c_blue, x, y, size, \"Corner B:\")"
   ]
  },
  {
   "cell_type": "markdown",
   "metadata": {},
   "source": [
    "## Modeling flat field with a 2-D polynomial "
   ]
  },
  {
   "cell_type": "code",
   "execution_count": null,
   "metadata": {},
   "outputs": [],
   "source": [
    "def polyfit2d(x, y, z, kx=3, ky=3, order=None):\n",
    "    '''\n",
    "    Two dimensional polynomial fitting by least squares.\n",
    "    Fits the functional form f(x,y) = z.\n",
    "\n",
    "    Notes\n",
    "    -----\n",
    "    Resultant fit can be plotted with:\n",
    "    np.polynomial.polynomial.polygrid2d(x, y, soln.reshape((kx+1, ky+1)))\n",
    "\n",
    "    Parameters\n",
    "    ----------\n",
    "    x, y: array-like, 1d\n",
    "        x and y coordinates.\n",
    "    z: np.ndarray, 2d\n",
    "        Surface to fit.\n",
    "    kx, ky: int, default is 3\n",
    "        Polynomial order in x and y, respectively.\n",
    "    order: int or None, default is None\n",
    "        If None, all coefficients up to maxiumum kx, ky, ie. up to and including x^kx*y^ky, are considered.\n",
    "        If int, coefficients up to a maximum of kx+ky <= order are considered.\n",
    "\n",
    "    Returns\n",
    "    -------\n",
    "    Return paramters from np.linalg.lstsq.\n",
    "\n",
    "    soln: np.ndarray\n",
    "        Array of polynomial coefficients.\n",
    "    residuals: np.ndarray\n",
    "    rank: int\n",
    "    s: np.ndarray\n",
    "\n",
    "    '''\n",
    "    # grid coords\n",
    "    x, y = np.meshgrid(x, y)\n",
    "    # coefficient array, up to x^kx, y^ky\n",
    "    coeffs = np.ones((kx+1, ky+1))\n",
    "\n",
    "    # solve array\n",
    "    a = np.zeros((coeffs.size, x.size))\n",
    "\n",
    "    # for each coefficient produce array x^i, y^j\n",
    "    for index, (j, i) in enumerate(np.ndindex(coeffs.shape)):\n",
    "        # do not include powers greater than order\n",
    "        if order is not None and i + j > order:\n",
    "            arr = np.zeros_like(x)\n",
    "        else:\n",
    "            arr = coeffs[i, j] * x**i * y**j\n",
    "        a[index] = arr.ravel()\n",
    "\n",
    "    # do leastsq fitting and return leastsq result\n",
    "    return np.linalg.lstsq(a.T, np.ravel(z), rcond=None)"
   ]
  },
  {
   "cell_type": "code",
   "execution_count": null,
   "metadata": {},
   "outputs": [],
   "source": [
    "fitted_surf = np.polynomial.polynomial.polyval2d(x, y, soln.reshape((kx+1,ky+1)))\n",
    "plt.matshow(fitted_surf)\n",
    "\n",
    "# https://scipython.com/blog/non-linear-least-squares-fitting-of-a-two-dimensional-data/\n",
    "\n",
    "# https://stackoverflow.com/questions/33964913/equivalent-of-polyfit-for-a-2d-polynomial-in-python"
   ]
  },
  {
   "cell_type": "code",
   "execution_count": null,
   "metadata": {},
   "outputs": [],
   "source": [
    "# def poly2Dreco(X, Y, c):\n",
    "#     return (c[0] + X*c[1] + Y*c[2] + X**2*c[3] + X**2*Y*c[4] + X**2*Y**2*c[5] + \n",
    "#            Y**2*c[6] + X*Y**2*c[7] + X*Y*c[8])"
   ]
  }
 ],
 "metadata": {
  "kernelspec": {
   "display_name": "Python 3",
   "language": "python",
   "name": "python3"
  },
  "language_info": {
   "codemirror_mode": {
    "name": "ipython",
    "version": 3
   },
   "file_extension": ".py",
   "mimetype": "text/x-python",
   "name": "python",
   "nbconvert_exporter": "python",
   "pygments_lexer": "ipython3",
   "version": "3.7.10"
  }
 },
 "nbformat": 4,
 "nbformat_minor": 2
}
