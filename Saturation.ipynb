{
 "cells": [
  {
   "cell_type": "markdown",
   "metadata": {},
   "source": [
    "# Saturation analysis"
   ]
  },
  {
   "cell_type": "code",
   "execution_count": null,
   "metadata": {},
   "outputs": [],
   "source": [
    "%pylab notebook\n",
    "%matplotlib notebook\n",
    "\n",
    "import os, glob\n",
    "\n",
    "import numpy as np\n",
    "from matplotlib.pyplot import imshow\n",
    "import matplotlib.pyplot as plt\n",
    "\n",
    "import exifread\n",
    "import rawpy"
   ]
  },
  {
   "cell_type": "markdown",
   "metadata": {},
   "source": [
    "## Image made on purpose to saturate all pixels"
   ]
  },
  {
   "cell_type": "code",
   "execution_count": null,
   "metadata": {},
   "outputs": [],
   "source": [
    "with rawpy.imread('../astrophotography_data/MilkyWayPrettyBoy/tests/saturated_ISO100/DSC07070.ARW') as raw:\n",
    "    array = raw.raw_image_visible\n",
    "    print(array[2000:2005,1000:1005])"
   ]
  },
  {
   "cell_type": "markdown",
   "metadata": {},
   "source": [
    "## Finding saturated pixels"
   ]
  },
  {
   "cell_type": "markdown",
   "metadata": {},
   "source": [
    "One image from highest exposure set (ISO 12800, 3.2s, f/2.8):"
   ]
  },
  {
   "cell_type": "code",
   "execution_count": null,
   "metadata": {},
   "outputs": [],
   "source": [
    "path = '../astrophotography_data/MilkyWayPrettyBoy/12800/light'\n",
    "# path = '../astrophotography_data/MilkyWayPrettyBoy/800/light'\n",
    "\n",
    "list_p = glob.glob(os.path.join(path,'*.ARW'))\n",
    "image = list_p[1]"
   ]
  },
  {
   "cell_type": "code",
   "execution_count": null,
   "metadata": {},
   "outputs": [],
   "source": [
    "with rawpy.imread(image) as raw:\n",
    "    rgb = raw.postprocess()\n",
    "    plt.figure(figsize=[9, 5])\n",
    "    plt.imshow(rgb)\n",
    "    plt.colorbar()"
   ]
  },
  {
   "cell_type": "markdown",
   "metadata": {},
   "source": [
    "Top left corner has a saturated star, and a bright but unsaturated one. From the RGB image, one might think both are saturated though. This is caused by clipping at the imshow level."
   ]
  },
  {
   "cell_type": "code",
   "execution_count": null,
   "metadata": {},
   "outputs": [],
   "source": [
    "figsize(9,3)\n",
    "fig = plt.figure()\n",
    "with rawpy.imread(image) as raw:\n",
    "    rgb = raw.postprocess()\n",
    "    a = fig.add_subplot(1, 2, 1)\n",
    "    plt.imshow(rgb[0:300,0:300])\n",
    "    plt.colorbar()\n",
    "    a.set_title('RGB')\n",
    "    a1 = fig.add_subplot(1, 2, 2, sharex=a, sharey=a)\n",
    "    plt.imshow(raw.raw_image_visible[0:300,0:300],vmin=0,vmax=3000)\n",
    "    plt.colorbar()\n",
    "    a1.set_title('Raw')\n",
    "    \n",
    "    print(rgb[55:75,20:40,1])"
   ]
  },
  {
   "cell_type": "markdown",
   "metadata": {},
   "source": [
    "Attempt with linear RGB processing. Fainter star still looks saturated in the resulting RGB image, as a result of imshow clipping."
   ]
  },
  {
   "cell_type": "code",
   "execution_count": null,
   "metadata": {},
   "outputs": [],
   "source": [
    "figsize(9,3)\n",
    "fig = plt.figure()\n",
    "with rawpy.imread(image) as raw:\n",
    "    rgb_linear = raw.postprocess(gamma=(1,1), output_bps=16, use_camera_wb=False,\n",
    "                                 use_auto_wb=False, no_auto_bright=True, no_auto_scale=True,\n",
    "                                 output_color=rawpy.ColorSpace.raw)\n",
    "    a = fig.add_subplot(1, 2, 1)\n",
    "    plt.imshow(rgb_linear[0:300,0:300])\n",
    "    plt.colorbar()\n",
    "    a.set_title('RGB')\n",
    "    a1 = fig.add_subplot(1, 2, 2, sharex=a, sharey=a)\n",
    "    plt.imshow(raw.raw_image_visible[0:300,0:300],vmin=0,vmax=3000)\n",
    "    plt.colorbar()\n",
    "    a1.set_title('Raw')\n",
    "    \n",
    "    print(rgb_linear[55:75,20:40,1])"
   ]
  },
  {
   "cell_type": "code",
   "execution_count": null,
   "metadata": {},
   "outputs": [],
   "source": [
    "with rawpy.imread(image) as raw:\n",
    "    array = raw.raw_image_visible\n",
    "    saturated = np.where(array > 16300)\n",
    "    print(saturated)"
   ]
  },
  {
   "cell_type": "code",
   "execution_count": null,
   "metadata": {},
   "outputs": [],
   "source": [
    "figsize(9,3)\n",
    "fig = plt.figure()\n",
    "with rawpy.imread(image) as raw:\n",
    "    rgb = raw.postprocess()\n",
    "    a = fig.add_subplot(1, 2, 1)\n",
    "    plt.imshow(raw.raw_image_visible,vmin=0,vmax=3000)\n",
    "    plt.colorbar()\n",
    "    a.set_title('Raw')\n",
    "    a1 = fig.add_subplot(1, 2, 2, sharex=a, sharey=a)\n",
    "    plt.imshow(raw.raw_image_visible,vmin=0,vmax=3000)\n",
    "    plt.plot(saturated[1], saturated[0],marker='s',mfc='red',mew=0.,ls='',markersize=5)\n",
    "    plt.colorbar()\n",
    "    a1.set_title('Marked')"
   ]
  },
  {
   "cell_type": "code",
   "execution_count": null,
   "metadata": {},
   "outputs": [],
   "source": []
  }
 ],
 "metadata": {
  "kernelspec": {
   "display_name": "Python 3",
   "language": "python",
   "name": "python3"
  },
  "language_info": {
   "codemirror_mode": {
    "name": "ipython",
    "version": 3
   },
   "file_extension": ".py",
   "mimetype": "text/x-python",
   "name": "python",
   "nbconvert_exporter": "python",
   "pygments_lexer": "ipython3",
   "version": "3.7.10"
  }
 },
 "nbformat": 4,
 "nbformat_minor": 2
}
