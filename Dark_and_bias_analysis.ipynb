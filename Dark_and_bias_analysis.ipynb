{
 "cells": [
  {
   "cell_type": "markdown",
   "metadata": {},
   "source": [
    "# Dark and bias analysis"
   ]
  },
  {
   "cell_type": "markdown",
   "metadata": {},
   "source": [
    "The input consists of sets of 31 dark frames and 31 bias frames. One set was taken with the same settings used for the light exposures; the other set with settings identical with the flat exposures:\n",
    "\n",
    " - Darks and bias for the ligth exposures: ISO 6400 and 12800, exposure time 3.2s\n",
    " - Darks and bias for the flat exposures: ISO 100, exposure 1/40s\n",
    "\n",
    "Bias in both sets were taken at 1/8000s. The darks were taken on-site right after the ligths. Bias taken next day. "
   ]
  },
  {
   "cell_type": "code",
   "execution_count": null,
   "metadata": {},
   "outputs": [],
   "source": [
    "%pylab notebook\n",
    "%matplotlib notebook\n",
    "\n",
    "import os, glob\n",
    "\n",
    "import numpy as np\n",
    "from matplotlib.pyplot import imshow\n",
    "import matplotlib.pyplot as plt\n",
    "\n",
    "import exifread\n",
    "import rawpy"
   ]
  },
  {
   "cell_type": "markdown",
   "metadata": {},
   "source": [
    "## Utility functions "
   ]
  },
  {
   "cell_type": "code",
   "execution_count": null,
   "metadata": {},
   "outputs": [],
   "source": [
    "# Stats\n",
    "def stats(array, x, y, size, name, results):\n",
    "    slice_x = slice(x,x+100)\n",
    "    slice_y = slice(y,y+100)\n",
    "\n",
    "    mean = np.mean(array[slice_x,slice_y])\n",
    "    std = np.std(array[slice_x,slice_y])\n",
    "    \n",
    "    results[name] = [mean, std]\n",
    "    print(name, \"  mean =\", mean, \"stddev =\", std)"
   ]
  },
  {
   "cell_type": "code",
   "execution_count": null,
   "metadata": {},
   "outputs": [],
   "source": [
    "# Combine darks from list, using a provided numpy averaging function.\n",
    "def combine_arrays(file_list, combination_function=np.average):\n",
    "    stack = None\n",
    "    for fname, i in zip(file_list, range(len(file_list))):\n",
    "\n",
    "        raw = rawpy.imread(fname)\n",
    "        array = raw.raw_image_visible\n",
    "\n",
    "        if stack is None:            \n",
    "            stack = np.zeros(shape=(array.shape[0],array.shape[1],len(file_list)), dtype='float32')\n",
    "\n",
    "        # Actual raw DN values are obtained by subtracting the\n",
    "        # camera-created black level per channel. In the Sony A7, this\n",
    "        # parameter is the same for all channels, and constant.\n",
    "        # Just subtract it from everything.\n",
    "        stack[:,:,i] = np.array(array, dtype='float32') - 512.\n",
    "\n",
    "    return combination_function(stack, axis=2)"
   ]
  },
  {
   "cell_type": "code",
   "execution_count": null,
   "metadata": {},
   "outputs": [],
   "source": [
    "def process(path, title, results, vmin=-8, vmax=4, combination_function=np.average, output=False):\n",
    "    list_p = glob.glob(path + '/*.ARW')\n",
    "\n",
    "    # get exposure time\n",
    "    f = open(list_p[0], 'rb')\n",
    "    tags = exifread.process_file(f)\n",
    "    exptime = str(tags['EXIF ExposureTime'])    \n",
    "    \n",
    "    array = combine_arrays(list_p, combination_function=combination_function)\n",
    "\n",
    "    results[title] = {}\n",
    "    \n",
    "    x = int(array.shape[0] / 2)\n",
    "    y = int(array.shape[1] / 2)\n",
    "    stats(array, x, y, size, \"Center:\", results[title])\n",
    "\n",
    "    x = 10\n",
    "    y = 10\n",
    "    stats(array, x, y, size, \"Corner:\", results[title])\n",
    "\n",
    "    plt.figure(figsize=[10, 6])\n",
    "    plt.imshow(array, vmin=vmin, vmax=vmax)\n",
    "    plt.colorbar()\n",
    "    plt.title(title + \" \" + exptime)\n",
    "    \n",
    "    if output:\n",
    "        return array"
   ]
  },
  {
   "cell_type": "markdown",
   "metadata": {},
   "source": [
    "## Define paths to data files"
   ]
  },
  {
   "cell_type": "code",
   "execution_count": null,
   "metadata": {},
   "outputs": [],
   "source": [
    "path1 = '../astrophotography_data/MilkyWayPrettyBoy/12800/'\n",
    "path2 = '../astrophotography_data/MilkyWayPrettyBoy/6400/'\n",
    "path3 = '../astrophotography_data/MilkyWayPrettyBoy/darks/ISO100_3.2s/'\n",
    "path4 = '../astrophotography_data/MilkyWayPrettyBoy/darks/ISO3200_25s/'"
   ]
  },
  {
   "cell_type": "markdown",
   "metadata": {},
   "source": [
    "## Define dictionary to store summary of results"
   ]
  },
  {
   "cell_type": "code",
   "execution_count": null,
   "metadata": {},
   "outputs": [],
   "source": [
    "results = {}"
   ]
  },
  {
   "cell_type": "markdown",
   "metadata": {},
   "source": [
    "## Analysis of dark/bias for light exposures"
   ]
  },
  {
   "cell_type": "markdown",
   "metadata": {},
   "source": [
    "#### ISO 12800"
   ]
  },
  {
   "cell_type": "code",
   "execution_count": null,
   "metadata": {},
   "outputs": [],
   "source": [
    "dark_path = os.path.join(path1,'dark')\n",
    "process(dark_path, 'Average dark - ISO 12800 31 frames', results)"
   ]
  },
  {
   "cell_type": "code",
   "execution_count": null,
   "metadata": {},
   "outputs": [],
   "source": [
    "bias_path = os.path.join(path1,'bias')\n",
    "process(bias_path, 'Average bias - ISO 12800 31 frames', results)"
   ]
  },
  {
   "cell_type": "code",
   "execution_count": null,
   "metadata": {},
   "outputs": [],
   "source": [
    "process(dark_path, 'Dark standard deviation - ISO 12800 31 frames', results,\n",
    "        vmin=9, vmax=14, combination_function=np.std)"
   ]
  },
  {
   "cell_type": "code",
   "execution_count": null,
   "metadata": {},
   "outputs": [],
   "source": [
    "process(bias_path, 'Bias standard deviation - ISO 12800 31 frames', results,\n",
    "        vmin=9, vmax=14, combination_function=np.std)"
   ]
  },
  {
   "cell_type": "markdown",
   "metadata": {},
   "source": [
    "#### ISO 6400"
   ]
  },
  {
   "cell_type": "code",
   "execution_count": null,
   "metadata": {},
   "outputs": [],
   "source": [
    "dark_path = os.path.join(path2,'dark')\n",
    "process(dark_path, 'Average dark - ISO 6400 31 frames', results)"
   ]
  },
  {
   "cell_type": "code",
   "execution_count": null,
   "metadata": {},
   "outputs": [],
   "source": [
    "bias_path = os.path.join(path2,'bias')\n",
    "process(bias_path, 'Average bias - ISO 6400 31 frames', results)"
   ]
  },
  {
   "cell_type": "code",
   "execution_count": null,
   "metadata": {},
   "outputs": [],
   "source": [
    "process(dark_path, 'Dark standard deviation - ISO 6400 31 frames', results,\n",
    "        vmin=5, vmax=8, combination_function=np.std)"
   ]
  },
  {
   "cell_type": "code",
   "execution_count": null,
   "metadata": {},
   "outputs": [],
   "source": [
    "process(bias_path, 'Bias standard deviation - ISO 6400 31 frames', results,\n",
    "        vmin=5, vmax=8, combination_function=np.std)"
   ]
  },
  {
   "cell_type": "markdown",
   "metadata": {},
   "source": [
    "## Analysis of dark/bias for flat exposures (ISO 100)"
   ]
  },
  {
   "cell_type": "code",
   "execution_count": null,
   "metadata": {},
   "outputs": [],
   "source": [
    "dark_path = os.path.join(path3,'dark')\n",
    "process(dark_path, 'Average dark - ISO 100 31 frames', results,\n",
    "       vmin=0.6, vmax=1.4)"
   ]
  },
  {
   "cell_type": "code",
   "execution_count": null,
   "metadata": {},
   "outputs": [],
   "source": [
    "bias_path = os.path.join(path3,'bias')\n",
    "process(bias_path, 'Average bias - ISO 100 31 frames', results,\n",
    "        vmin=0.8, vmax=1.8,)"
   ]
  },
  {
   "cell_type": "code",
   "execution_count": null,
   "metadata": {},
   "outputs": [],
   "source": [
    "process(dark_path, 'Dark standard deviation - ISO 100 31 frames', results,\n",
    "        vmin=2.0, vmax=2.4, combination_function=np.std)"
   ]
  },
  {
   "cell_type": "code",
   "execution_count": null,
   "metadata": {},
   "outputs": [],
   "source": [
    "process(bias_path, 'Bias standard deviation - ISO 100 31 frames', results,\n",
    "        vmin=2.0, vmax=2.4, combination_function=np.std)"
   ]
  },
  {
   "cell_type": "code",
   "execution_count": null,
   "metadata": {},
   "outputs": [],
   "source": [
    "for k1 in results:\n",
    "    print(k1)\n",
    "    r = results[k1]\n",
    "    for k2 in r:\n",
    "        print(k2, r[k2])\n",
    "    print()"
   ]
  },
  {
   "cell_type": "markdown",
   "metadata": {},
   "source": [
    "## Conclusions\n",
    "\n",
    "##### For short exposures!\n",
    "\n",
    "- Read noise\n",
    "\n",
    "   Bias variance for any given pixel, along a sequence of bias exposures:\n",
    "     - ISO   100 - 2.2 DN\n",
    "     - ISO  6400 - 6.3 DN\n",
    "     - ISO 12800 -  12 DN\n",
    " \n",
    "   These are large when compared with the across-detector bias variance in the averaged frames - thus should be a good    estimator of the sensor readnoise.\n",
    "\n",
    "\n",
    "- Dark fixed pattern\n",
    "\n",
    "   In a similar way as above for the read out noise, the frame-to-frame dark variance for any given pixel is large when compared with the across-detector dark variance in the averaged darks. This suggest that no significant high-frequency fixed pattern exists in the dark signal. \n",
    "\n",
    "\n",
    "\n",
    "Darks have low mean values at any ISO, but the variance increases rapidily with increasing ISO. The low mean value seemingly independent of the ISO setting suggests that the camera hardware is calibrated to adjust the ADC dark level based on the sensor gain setting. "
   ]
  },
  {
   "cell_type": "markdown",
   "metadata": {},
   "source": [
    "# Looking for pattern in long exposure dark frames"
   ]
  },
  {
   "cell_type": "markdown",
   "metadata": {},
   "source": [
    "Using the minimum entropy method to find the optimal damping factor for the dark frame (https://www.cs.ubc.ca/labs/imager/tr/2001/goesele2001a/goesele.2001a.pdf)"
   ]
  },
  {
   "cell_type": "markdown",
   "metadata": {},
   "source": [
    "## Data"
   ]
  },
  {
   "cell_type": "code",
   "execution_count": null,
   "metadata": {},
   "outputs": [],
   "source": [
    "dark_path = os.path.join(path4,'dark')\n",
    "dark_average = process(dark_path, 'Average dark - ISO 3200 30 frames', results, \n",
    "                       output=True, vmin=15.5, vmax=19.5)"
   ]
  },
  {
   "cell_type": "code",
   "execution_count": null,
   "metadata": {},
   "outputs": [],
   "source": [
    "process(dark_path, 'Dark standard deviation - ISO 3200 30 frames', results, combination_function=np.std,\n",
    "       vmin=7., vmax=9.)"
   ]
  },
  {
   "cell_type": "markdown",
   "metadata": {},
   "source": [
    "## Entropy"
   ]
  },
  {
   "cell_type": "code",
   "execution_count": null,
   "metadata": {},
   "outputs": [],
   "source": [
    "def entropy(target_array, dark_array, nbins=30, y1=None, y2=None):\n",
    "    x = []\n",
    "    y = []\n",
    "    for k in arange(0., 1.8, 0.02):\n",
    "        # Subtract dark from target.\n",
    "        dark_subtracted = target_array - k * dark_array\n",
    "\n",
    "        # Build frequency density histogram.\n",
    "        hist = np.histogram(dark_subtracted, bins=nbins, density=True)\n",
    "        hist = hist[0] #/ float(target_array.shape[0] * target_array.shape[1])\n",
    "\n",
    "        # Compute entropy.\n",
    "        logp = np.log10(hist)\n",
    "        s = -np.sum(hist * logp)\n",
    "\n",
    "        x.append(k)\n",
    "        y.append(s)\n",
    "\n",
    "    plt.figure(figsize=[10, 6])\n",
    "    if y1 is not None and y2 is not None:\n",
    "        plt.ylim(y1, y2)\n",
    "    plt.scatter(x, y)"
   ]
  },
  {
   "cell_type": "code",
   "execution_count": null,
   "metadata": {},
   "outputs": [],
   "source": [
    "# ISO 3200 - MW image, average dark\n",
    "basepath_dark = '../astrophotography_data/MilkyWayPrettyBoy/darks'\n",
    "basepath_target = '../astrophotography_data/assateague/milky_way'\n",
    "\n",
    "fullpath = os.path.join(basepath_target, 'raw')\n",
    "filename = os.path.join(fullpath, 'DSC03288.ARW')\n",
    "raw = rawpy.imread(filename)\n",
    "target_array = raw.raw_image_visible - 512.\n",
    "\n",
    "fullpath = os.path.join(basepath_dark, 'ISO3200_25s/dark')\n",
    "filename = os.path.join(fullpath, 'DSC07112.ARW')\n",
    "raw = rawpy.imread(filename)\n",
    "dark_array = raw.raw_image_visible - 512.\n",
    "\n",
    "entropy(target_array, dark_array)\n",
    "# entropy(target_array, dark_average, y1=0.0053, y2=0.006)"
   ]
  },
  {
   "cell_type": "code",
   "execution_count": null,
   "metadata": {},
   "outputs": [],
   "source": [
    "# ISO 3200 - target image, average dark\n",
    "basepath_dark = '../astrophotography_data/MilkyWayPrettyBoy/darks'\n",
    "basepath_target = '../astrophotography_data/MilkyWayPrettyBoy/darks'\n",
    "\n",
    "fullpath = os.path.join(basepath_target, 'target_entropy')\n",
    "filename = os.path.join(fullpath, 'f11.ARW')\n",
    "raw = rawpy.imread(filename)\n",
    "target_array = raw.raw_image_visible - 512.\n",
    "\n",
    "entropy(target_array[700:2000,1500:3000,], dark_average[700:2000,1500:3000,], nbins=100)\n",
    "# plt.figure(figsize=[10, 6])\n",
    "# plt.imshow(target_array[700:2000,1500:3000,])"
   ]
  },
  {
   "cell_type": "markdown",
   "metadata": {},
   "source": [
    "## Conclusion\n",
    "\n",
    "Dark subtraction does not affect the entropy significantly. We can make do with just subtracting 512 from each pixel. \n",
    "\n",
    "It remains to be seen if this is indeed the best approach. A test running a processing pipeline with and without dark subtraction can solve the problem."
   ]
  },
  {
   "cell_type": "code",
   "execution_count": null,
   "metadata": {},
   "outputs": [],
   "source": []
  }
 ],
 "metadata": {
  "kernelspec": {
   "display_name": "Python 3",
   "language": "python",
   "name": "python3"
  },
  "language_info": {
   "codemirror_mode": {
    "name": "ipython",
    "version": 3
   },
   "file_extension": ".py",
   "mimetype": "text/x-python",
   "name": "python",
   "nbconvert_exporter": "python",
   "pygments_lexer": "ipython3",
   "version": "3.7.10"
  }
 },
 "nbformat": 4,
 "nbformat_minor": 2
}
