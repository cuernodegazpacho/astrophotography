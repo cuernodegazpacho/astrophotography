{
 "cells": [
  {
   "cell_type": "markdown",
   "id": "acbfba05",
   "metadata": {},
   "source": [
    "# Timing experiments 1 - offsets"
   ]
  },
  {
   "cell_type": "markdown",
   "id": "4e5df55e",
   "metadata": {},
   "source": [
    "This notebook contains code snippets that can be used to measure clock time for each step used in offsets processing. \n",
    "\n",
    "We use this to pick the fastest solution to coding issues that can't be solved with plain numpy vectorization."
   ]
  },
  {
   "cell_type": "code",
   "execution_count": 1,
   "id": "cb9ae56e",
   "metadata": {},
   "outputs": [],
   "source": [
    "import os, glob\n",
    "import time\n",
    "import numpy as np\n",
    "\n",
    "from astropy.table import Table\n",
    "\n",
    "import rawpy"
   ]
  },
  {
   "cell_type": "markdown",
   "id": "2aa0f16f",
   "metadata": {},
   "source": [
    "## Read prototype image"
   ]
  },
  {
   "cell_type": "markdown",
   "id": "b96d08b1",
   "metadata": {},
   "source": [
    "This image is used as a template for looping over all pixels in one raw frame."
   ]
  },
  {
   "cell_type": "code",
   "execution_count": 2,
   "id": "4923abee",
   "metadata": {},
   "outputs": [],
   "source": [
    "datadir = '../astrophotography_data/MilkyWayPrettyBoy/12800/light/'"
   ]
  },
  {
   "cell_type": "code",
   "execution_count": 3,
   "id": "95ae9ac7",
   "metadata": {},
   "outputs": [
    {
     "name": "stdout",
     "output_type": "stream",
     "text": [
      "../astrophotography_data/MilkyWayPrettyBoy/12800/light/DSC03770.ARW\n"
     ]
    }
   ],
   "source": [
    "file_name = os.path.join(datadir, 'DSC03770.ARW')\n",
    "print(file_name)\n",
    "\n",
    "raw = rawpy.imread(file_name)\n",
    "imarray = raw.raw_image_visible.astype(float)"
   ]
  },
  {
   "cell_type": "code",
   "execution_count": 4,
   "id": "ff1a290c",
   "metadata": {},
   "outputs": [
    {
     "name": "stdout",
     "output_type": "stream",
     "text": [
      "(2848, 4256)\n"
     ]
    }
   ],
   "source": [
    "print(imarray.shape)\n",
    "ny = imarray.shape[0]\n",
    "nx = imarray.shape[1]"
   ]
  },
  {
   "cell_type": "markdown",
   "id": "41e1ffb7",
   "metadata": {},
   "source": [
    "## Read last table in sequence"
   ]
  },
  {
   "cell_type": "markdown",
   "id": "2ec3f0b7",
   "metadata": {},
   "source": [
    "The last table contains only stars that are present in all previous tables. Thus we can use it to drive a realistic timing test. "
   ]
  },
  {
   "cell_type": "code",
   "execution_count": 5,
   "id": "1768f5c5",
   "metadata": {},
   "outputs": [
    {
     "name": "stdout",
     "output_type": "stream",
     "text": [
      "../astrophotography_data/MilkyWayPrettyBoy/12800/light/DSC03829.offsets_table.fits\n"
     ]
    }
   ],
   "source": [
    "table_list = glob.glob(datadir + '/*.offsets_table.fits')\n",
    "table_list.sort()\n",
    "print(table_list[-1])\n",
    "\n",
    "offsets_table = Table.read(table_list[-1])"
   ]
  },
  {
   "cell_type": "code",
   "execution_count": 6,
   "id": "8fff8d4b",
   "metadata": {},
   "outputs": [
    {
     "data": {
      "text/html": [
       "<div><i>Table length=550</i>\n",
       "<table id=\"table140372957190096\" class=\"table-striped table-bordered table-condensed\">\n",
       "<thead><tr><th>id</th><th>xcentroid</th><th>ycentroid</th><th>sharpness</th><th>roundness1</th><th>roundness2</th><th>npix</th><th>sky</th><th>peak</th><th>flux</th><th>mag</th><th>xoffset</th><th>yoffset</th><th>xoffset_prev</th><th>yoffset_prev</th><th>ref_row</th><th>prev_row</th></tr></thead>\n",
       "<thead><tr><th>int64</th><th>float64</th><th>float64</th><th>float64</th><th>float64</th><th>float64</th><th>int64</th><th>float64</th><th>float64</th><th>float64</th><th>float64</th><th>float64</th><th>float64</th><th>float64</th><th>float64</th><th>int64</th><th>int64</th></tr></thead>\n",
       "<tr><td>12</td><td>4057.23428944849</td><td>37.501282627404876</td><td>0.6255534815274955</td><td>-0.13035903590695222</td><td>-0.04262950687732578</td><td>25</td><td>0.0</td><td>2109.370030539578</td><td>1.8324258551870407</td><td>-0.6575660274035364</td><td>-87.84425766157256</td><td>-5.467778520996887</td><td>-1.5299578676304009</td><td>-0.048228652179709286</td><td>12</td><td>0</td></tr>\n",
       "<tr><td>17</td><td>2889.890455473514</td><td>45.52478702135995</td><td>0.41365575811250577</td><td>-0.03475474039877437</td><td>0.33711999871008413</td><td>25</td><td>0.0</td><td>1267.1553678237385</td><td>1.5858006062130152</td><td>-0.5006214488390172</td><td>-53.07390723997105</td><td>-2.8195271701421802</td><td>-1.1223671286224999</td><td>0.055332762537837255</td><td>13</td><td>1</td></tr>\n",
       "<tr><td>24</td><td>2764.9591473498076</td><td>69.3942446407432</td><td>0.8639779160237718</td><td>-0.2240141949572272</td><td>0.1814554181247305</td><td>25</td><td>0.0</td><td>5569.577003735975</td><td>3.8931127957568927</td><td>-1.4757424669534744</td><td>-51.03836395298504</td><td>-2.108073380868049</td><td>-0.7514724230954926</td><td>0.08979483638633212</td><td>17</td><td>2</td></tr>\n",
       "<tr><td>26</td><td>3237.0702416896474</td><td>72.55740328369315</td><td>0.7436361997061437</td><td>-0.4512663738003762</td><td>0.010104039259551839</td><td>25</td><td>0.0</td><td>2028.4382918112365</td><td>1.6438839359526491</td><td>-0.5396778788819001</td><td>-58.00155007364583</td><td>-5.0574814276426565</td><td>-1.1637822747784412</td><td>-0.24496945913968204</td><td>23</td><td>3</td></tr>\n",
       "<tr><td>34</td><td>3804.1341742398067</td><td>92.0060910260806</td><td>0.338153108176713</td><td>-0.7111009629819625</td><td>-0.3465544015472982</td><td>25</td><td>0.0</td><td>2559.8367531582367</td><td>3.5412108951098458</td><td>-1.3728794793176835</td><td>-74.84073386459477</td><td>-7.079134618850162</td><td>-1.0863417229443257</td><td>-0.05994521542255882</td><td>25</td><td>4</td></tr>\n",
       "<tr><td>35</td><td>3399.65956182854</td><td>98.09113609675815</td><td>0.622632157331309</td><td>-0.5901394827494575</td><td>-0.1615603643315067</td><td>25</td><td>0.0</td><td>2199.6220708847322</td><td>2.02798945111849</td><td>-0.7676642290534613</td><td>-61.31184815711276</td><td>-6.464544827042374</td><td>-1.1646165490078602</td><td>0.023392983169586046</td><td>27</td><td>5</td></tr>\n",
       "<tr><td>38</td><td>1203.343683276709</td><td>114.26959278472731</td><td>0.3944858788803717</td><td>0.20854002341804606</td><td>0.21925592982713288</td><td>25</td><td>0.0</td><td>1243.766969302332</td><td>1.4527461781594255</td><td>-0.40547435395891407</td><td>-52.08108485974981</td><td>11.5417191575539</td><td>-0.9084755522446812</td><td>0.1610781148148135</td><td>26</td><td>6</td></tr>\n",
       "<tr><td>43</td><td>3288.064949578804</td><td>125.96082869199668</td><td>0.482611421526518</td><td>-0.6134313405293523</td><td>-0.1402967716599808</td><td>25</td><td>0.0</td><td>1693.39199641931</td><td>1.903775514420821</td><td>-0.6990393420065626</td><td>-58.008333378351836</td><td>-6.375860230146117</td><td>-0.8558311548995334</td><td>-0.1360379640099012</td><td>37</td><td>7</td></tr>\n",
       "<tr><td>55</td><td>2660.0315377864654</td><td>148.94635889712774</td><td>0.7914094328637472</td><td>-0.25957987209261507</td><td>0.10065802851943292</td><td>25</td><td>0.0</td><td>1748.3392470239655</td><td>1.1993280246636255</td><td>-0.19734495486503895</td><td>-48.826340742948105</td><td>-1.9745048481723302</td><td>-0.9260609728326017</td><td>-0.1091914416224995</td><td>44</td><td>8</td></tr>\n",
       "<tr><td>70</td><td>2536.2970204062512</td><td>193.03378471251324</td><td>0.33218108242039013</td><td>-0.08055607261663797</td><td>0.4524526365784235</td><td>25</td><td>0.0</td><td>1198.050532504151</td><td>1.6956962012106818</td><td>-0.5733701180976705</td><td>-46.64129666651161</td><td>-1.0159646276255216</td><td>-0.7830823843842154</td><td>-0.2051612181972473</td><td>56</td><td>9</td></tr>\n",
       "<tr><td>...</td><td>...</td><td>...</td><td>...</td><td>...</td><td>...</td><td>...</td><td>...</td><td>...</td><td>...</td><td>...</td><td>...</td><td>...</td><td>...</td><td>...</td><td>...</td><td>...</td></tr>\n",
       "<tr><td>2958</td><td>2425.5098110847725</td><td>2573.064755533825</td><td>0.5374921691358685</td><td>0.3554090967676759</td><td>0.07970367635075673</td><td>25</td><td>0.0</td><td>2862.336295127854</td><td>2.8192315166017163</td><td>-1.1253268545016588</td><td>-1.758816000441584</td><td>-4.225572715455655</td><td>-0.124298518888736</td><td>-0.10978966487937214</td><td>2943</td><td>547</td></tr>\n",
       "<tr><td>2962</td><td>2589.936130959622</td><td>2574.1988893650932</td><td>0.41181667700724994</td><td>0.8747350188551152</td><td>0.6181624512407882</td><td>25</td><td>0.0</td><td>1223.3986944420176</td><td>1.4677357885923241</td><td>-0.4166197099929916</td><td>-2.2109403941281016</td><td>-8.383286758563372</td><td>0.0182648982399769</td><td>-0.11438512665108647</td><td>2944</td><td>548</td></tr>\n",
       "<tr><td>2965</td><td>2583.7362312485193</td><td>2591.108746272586</td><td>0.7077598525329594</td><td>0.35796701153545113</td><td>0.1698472376694084</td><td>25</td><td>0.0</td><td>3979.3011597756677</td><td>3.117526180442055</td><td>-1.2345252732383403</td><td>-1.941790776986636</td><td>-8.20177900541239</td><td>-0.07476624624632677</td><td>0.057100750811514445</td><td>2950</td><td>549</td></tr>\n",
       "<tr><td>2970</td><td>2743.957365436498</td><td>2605.0616435828633</td><td>0.3592093864112994</td><td>0.47916076064874497</td><td>0.6737555285251847</td><td>25</td><td>0.0</td><td>982.7675650343383</td><td>1.2436605928565225</td><td>-0.2367546832794557</td><td>-2.6188673739943624</td><td>-12.144593311692915</td><td>-0.02108131016348125</td><td>0.15985660668638957</td><td>2961</td><td>550</td></tr>\n",
       "<tr><td>2980</td><td>1912.4060199712565</td><td>2621.5289406583493</td><td>0.6364582071652648</td><td>-0.10834875728440596</td><td>0.27932383858378546</td><td>25</td><td>0.0</td><td>2511.644359888185</td><td>2.098588354926355</td><td>-0.8048181465792581</td><td>-1.2535005222478048</td><td>9.320056379106063</td><td>-0.14537126845630155</td><td>0.11829707599736139</td><td>2958</td><td>551</td></tr>\n",
       "<tr><td>2993</td><td>2579.904106345542</td><td>2645.896178465443</td><td>0.46116860863188497</td><td>0.7408554487373823</td><td>0.32907573358986547</td><td>25</td><td>0.0</td><td>3750.5715491117744</td><td>4.040019385712169</td><td>-1.5159586226079627</td><td>-0.9533850410020932</td><td>-8.438205398162154</td><td>-0.05312687244213521</td><td>-0.28998224258384653</td><td>2981</td><td>552</td></tr>\n",
       "<tr><td>2995</td><td>3398.672977562521</td><td>2647.2047796690613</td><td>0.5528946829158815</td><td>0.27190115314610197</td><td>0.0728519390329348</td><td>25</td><td>0.0</td><td>1901.8049413352112</td><td>1.838838750214853</td><td>-0.6613591178718297</td><td>-10.377370610572598</td><td>-32.017424186859444</td><td>-0.11014176574326484</td><td>-0.4369335524120288</td><td>2990</td><td>553</td></tr>\n",
       "<tr><td>3009</td><td>1977.486951028354</td><td>2676.226943685087</td><td>0.25055915352307695</td><td>-0.2706709458335871</td><td>0.29758394266070326</td><td>25</td><td>0.0</td><td>5348.812729768568</td><td>7.62563760981463</td><td>-2.205690406554268</td><td>0.12898936192050314</td><td>7.767075098278838</td><td>-0.014274060286425083</td><td>0.14617513981238517</td><td>2987</td><td>554</td></tr>\n",
       "<tr><td>3032</td><td>2348.1260243215283</td><td>2733.1321158082924</td><td>0.6230220685664936</td><td>0.6501384100308817</td><td>0.5284417760144247</td><td>25</td><td>0.0</td><td>4723.850740427528</td><td>4.003952639005605</td><td>-1.5062223293982155</td><td>1.5824495092119832</td><td>-2.1124760980960673</td><td>0.03849882663371318</td><td>0.031510749949575256</td><td>3016</td><td>555</td></tr>\n",
       "<tr><td>3038</td><td>2821.2304224074</td><td>2749.4159644656947</td><td>0.4041200437428018</td><td>0.6241849385890661</td><td>0.14981758956942837</td><td>25</td><td>0.0</td><td>1195.5549104846896</td><td>1.436558989799666</td><td>-0.3933086606066849</td><td>-0.6711962004860652</td><td>-15.541379777613201</td><td>-0.0355273512614076</td><td>-0.3304108489760438</td><td>3025</td><td>556</td></tr>\n",
       "</table></div>"
      ],
      "text/plain": [
       "<Table length=550>\n",
       "  id      xcentroid          ycentroid      ... ref_row prev_row\n",
       "int64      float64            float64       ...  int64   int64  \n",
       "----- ------------------ ------------------ ... ------- --------\n",
       "   12   4057.23428944849 37.501282627404876 ...      12        0\n",
       "   17  2889.890455473514  45.52478702135995 ...      13        1\n",
       "   24 2764.9591473498076   69.3942446407432 ...      17        2\n",
       "   26 3237.0702416896474  72.55740328369315 ...      23        3\n",
       "   34 3804.1341742398067   92.0060910260806 ...      25        4\n",
       "   35   3399.65956182854  98.09113609675815 ...      27        5\n",
       "   38  1203.343683276709 114.26959278472731 ...      26        6\n",
       "   43  3288.064949578804 125.96082869199668 ...      37        7\n",
       "   55 2660.0315377864654 148.94635889712774 ...      44        8\n",
       "   70 2536.2970204062512 193.03378471251324 ...      56        9\n",
       "  ...                ...                ... ...     ...      ...\n",
       " 2958 2425.5098110847725  2573.064755533825 ...    2943      547\n",
       " 2962  2589.936130959622 2574.1988893650932 ...    2944      548\n",
       " 2965 2583.7362312485193  2591.108746272586 ...    2950      549\n",
       " 2970  2743.957365436498 2605.0616435828633 ...    2961      550\n",
       " 2980 1912.4060199712565 2621.5289406583493 ...    2958      551\n",
       " 2993  2579.904106345542  2645.896178465443 ...    2981      552\n",
       " 2995  3398.672977562521 2647.2047796690613 ...    2990      553\n",
       " 3009  1977.486951028354  2676.226943685087 ...    2987      554\n",
       " 3032 2348.1260243215283 2733.1321158082924 ...    3016      555\n",
       " 3038    2821.2304224074 2749.4159644656947 ...    3025      556"
      ]
     },
     "execution_count": 6,
     "metadata": {},
     "output_type": "execute_result"
    }
   ],
   "source": [
    "offsets_table"
   ]
  },
  {
   "cell_type": "markdown",
   "id": "4244afa2",
   "metadata": {},
   "source": [
    "## Empty loop"
   ]
  },
  {
   "cell_type": "code",
   "execution_count": 7,
   "id": "b5fed22c",
   "metadata": {},
   "outputs": [
    {
     "name": "stdout",
     "output_type": "stream",
     "text": [
      "0.36586499214172363 sec\n"
     ]
    }
   ],
   "source": [
    "t1 = time.time()\n",
    "for j in range(ny):\n",
    "    for i in range(nx):\n",
    "        pass\n",
    "t2 = time.time() - t1\n",
    "print(t2, \"sec\")"
   ]
  },
  {
   "cell_type": "markdown",
   "id": "8c1446ec",
   "metadata": {},
   "source": [
    "## Read pixels"
   ]
  },
  {
   "cell_type": "markdown",
   "id": "cc87ea8d",
   "metadata": {},
   "source": [
    "Typically we won't need to grab the pixel value itself, since we are dealing only with pixel positions. But we will need eventually to store the X and Y offsets associated to each pixel. Thus, accessing image arrays is part of the overall method. In fact, these offset arrays are the final product of the entire offset processing step."
   ]
  },
  {
   "cell_type": "code",
   "execution_count": 8,
   "id": "c09d6516",
   "metadata": {},
   "outputs": [
    {
     "name": "stdout",
     "output_type": "stream",
     "text": [
      "2.840592861175537 sec\n"
     ]
    }
   ],
   "source": [
    "t1 = time.time()\n",
    "for j in range(ny):\n",
    "    for i in range(nx):\n",
    "        pix = imarray[j][i]\n",
    "t2 = time.time() - t1\n",
    "print(t2, \"sec\")"
   ]
  },
  {
   "cell_type": "markdown",
   "id": "6637d160",
   "metadata": {},
   "source": [
    "## Store value in array"
   ]
  },
  {
   "cell_type": "code",
   "execution_count": 9,
   "id": "ff463f5b",
   "metadata": {},
   "outputs": [
    {
     "name": "stdout",
     "output_type": "stream",
     "text": [
      "2.6494410037994385 sec\n"
     ]
    }
   ],
   "source": [
    "pixarray = np.asarray(imarray)\n",
    "t1 = time.time()\n",
    "for j in range(ny):\n",
    "    for i in range(nx):\n",
    "        pixarray[j][i] = 0.0\n",
    "t2 = time.time() - t1\n",
    "print(t2, \"sec\")"
   ]
  },
  {
   "cell_type": "markdown",
   "id": "07755543",
   "metadata": {},
   "source": [
    "## Locate star closest to pixel"
   ]
  },
  {
   "cell_type": "markdown",
   "id": "b6e8fdb8",
   "metadata": {},
   "source": [
    "For any given pixel, the algorithm must locate the closest star in each quadrant."
   ]
  },
  {
   "cell_type": "code",
   "execution_count": 10,
   "id": "7f86f6b6",
   "metadata": {},
   "outputs": [],
   "source": [
    "centroid_x = offsets_table['xcentroid'].data\n",
    "centroid_y = offsets_table['ycentroid'].data"
   ]
  },
  {
   "cell_type": "code",
   "execution_count": 11,
   "id": "fb31bc0a",
   "metadata": {},
   "outputs": [],
   "source": [
    "t1 = time.time()\n",
    "\n",
    "# arbitrary pixel for testing\n",
    "pixel_x = 2128\n",
    "pixel_y = 1460"
   ]
  },
  {
   "cell_type": "code",
   "execution_count": 12,
   "id": "a999f09c",
   "metadata": {},
   "outputs": [],
   "source": [
    "# differences pixel - star centroid\n",
    "diff_x = pixel_x - centroid_x\n",
    "diff_y = pixel_y - centroid_y\n",
    "\n",
    "# mask to reject all stars not in first quadrant\n",
    "mask_x = np.where(diff_x > 0.0, 1, 0)\n",
    "mask_y = np.where(diff_y > 0.0, 1, 0)\n",
    "mask = mask_x * mask_y\n",
    "\n",
    "distance = np.sqrt((diff_x * diff_x + diff_y * diff_y)) * mask"
   ]
  },
  {
   "cell_type": "code",
   "execution_count": 13,
   "id": "dbe94a3e",
   "metadata": {},
   "outputs": [
    {
     "name": "stdout",
     "output_type": "stream",
     "text": [
      "0.007289886474609375 sec\n"
     ]
    }
   ],
   "source": [
    "mindist = np.min(distance[np.nonzero(distance)])\n",
    "index = np.where(distance == mindist )[0][0]\n",
    "\n",
    "t2 = time.time() - t1\n",
    "print(t2, \"sec\")"
   ]
  },
  {
   "cell_type": "code",
   "execution_count": 14,
   "id": "afd22af3",
   "metadata": {},
   "outputs": [
    {
     "name": "stdout",
     "output_type": "stream",
     "text": [
      "90.17960327671783 280\n",
      "79.75334799609072 42.092331018377536\n",
      "2048.2466520039093 1417.9076689816225\n"
     ]
    }
   ],
   "source": [
    "print(mindist, index)\n",
    "print(diff_x[index], diff_y[index])\n",
    "print(centroid_x[index], centroid_y[index])"
   ]
  },
  {
   "cell_type": "markdown",
   "id": "5fcafdcd",
   "metadata": {},
   "source": [
    "## Locate star closest to pixel 2 - repeat over four quadrants, over many pixels"
   ]
  },
  {
   "cell_type": "code",
   "execution_count": 15,
   "id": "29b2962c",
   "metadata": {},
   "outputs": [
    {
     "name": "stdout",
     "output_type": "stream",
     "text": [
      "0 0 -1 -1 -1 6 0.00131988525390625 sec\n",
      "0 0 0.0 0.0 0.0 1208.757030969063\n",
      "0 1000 -1 159 -1 229 0.06025886535644531 sec\n",
      "0 1000 0.0 1395.4457791870966 0.0 414.3843841270778\n",
      "0 2000 -1 390 -1 444 0.11823701858520508 sec\n",
      "0 2000 0.0 448.4547522915838 0.0 291.998033322789\n",
      "1000 0 -1 -1 200 6 89.17554306983948 sec\n",
      "1000 0 0.0 0.0 1207.696964090634 233.25135232989746\n",
      "1000 1000 -1 159 200 180 89.2389919757843 sec\n",
      "1000 1000 0.0 396.68665898479355 384.0802017681573 160.57642026579657\n",
      "1000 2000 337 387 444 465 89.30937504768372 sec\n",
      "1000 2000 506.8169468283493 354.61615459146105 710.0022576946972 479.4971076427624\n",
      "2000 0 -1 -1 12 15 185.40675687789917 sec\n",
      "2000 0 0.0 0.0 214.14804486391438 249.79899624361656\n",
      "2000 1000 165 118 228 203 185.48018407821655 sec\n",
      "2000 1000 71.99809367891362 288.1212881550183 339.7901842102872 194.96616541701877\n",
      "2000 2000 414 402 441 440 185.55442309379578 sec\n",
      "2000 2000 106.54454325467611 150.06511847833647 40.833239010430056 16.504412564202198\n",
      "3000 0 -1 -1 1 11 287.52708315849304 sec\n",
      "3000 0 0.0 0.0 119.14956159873343 242.38271832214934\n",
      "3000 1000 155 149 185 188 287.60098791122437 sec\n",
      "3000 1000 71.97711662199278 131.91071808179726 202.013860055279 117.42623734037515\n",
      "3000 2000 416 398 457 450 287.6776421070099 sec\n",
      "3000 2000 103.61662378365665 167.73115536095776 116.13719667653747 70.6054089397351\n",
      "4000 0 -1 -1 4 0 386.53550386428833 sec\n",
      "4000 0 0.0 0.0 216.3990353181405 68.42594601007745\n",
      "4000 1000 151 163 199 175 386.6065180301666 sec\n",
      "4000 1000 99.69299273987741 108.40447520850637 143.23399738215056 26.5004545586432\n",
      "4000 2000 409 298 451 534 386.67794704437256 sec\n",
      "4000 2000 139.26844221816805 514.6510004116409 301.7527708566425 509.66237590721744\n",
      "408.6816670894623 sec\n"
     ]
    }
   ],
   "source": [
    "gt_zero = lambda x: x > 0.0\n",
    "lt_zero = lambda x: x < 0.0\n",
    "\n",
    "def closest(diff_x, diff_y, compare_x, compare_y):\n",
    "    # Compute mask that masks out everything that is outside \n",
    "    # the quadrant defined by the comparison functions\n",
    "    mask_x = np.where(compare_x(diff_x), 1, 0)\n",
    "    mask_y = np.where(compare_y(diff_y), 1, 0)\n",
    "    mask = mask_x * mask_y\n",
    "\n",
    "    # Get index of star at minimum distance\n",
    "    distance = np.sqrt((diff_x * diff_x + diff_y * diff_y)) * mask\n",
    "    if np.nonzero(distance)[0].size > 0:\n",
    "        mindist = np.min(distance[np.nonzero(distance)])\n",
    "        index = np.where(distance == mindist )[0][0]\n",
    "        return index, mindist\n",
    "    else:\n",
    "        return -1, 0.0\n",
    "\n",
    "t1 = time.time()\n",
    "\n",
    "for i in range(0, nx, 2):\n",
    "    for j in range(0, ny, 2):\n",
    "        pixel_x = i\n",
    "        pixel_y = j\n",
    "\n",
    "        diff_x = pixel_x - centroid_x\n",
    "        diff_y = pixel_y - centroid_y\n",
    "        \n",
    "        index = np.array(range(4), dtype=int)\n",
    "        dist  = np.array(range(4), dtype=float)\n",
    "        \n",
    "        # get index and distance of the closest star, one per quadrant\n",
    "        index[0], dist[0] = closest(diff_x, diff_y, gt_zero, gt_zero)\n",
    "        index[1], dist[1] = closest(diff_x, diff_y, lt_zero, gt_zero)\n",
    "        index[2], dist[2] = closest(diff_x, diff_y, gt_zero, lt_zero)\n",
    "        index[3], dist[3] = closest(diff_x, diff_y, lt_zero, lt_zero)\n",
    "\n",
    "        t2 = time.time() - t1\n",
    "        if i % 1000 == 0 and j % 1000 == 0:\n",
    "            print(i, j, index[0], index[1], index[2], index[3], t2, \"sec\")\n",
    "            print(i, j, dist[0], dist[1], dist[2], dist[3])\n",
    "\n",
    "print((time.time() - t1), \"sec\")"
   ]
  },
  {
   "cell_type": "markdown",
   "id": "7648b131",
   "metadata": {},
   "source": [
    "7 min to process one image, at every other row and column (1/4 total pixels). The empty pixels could be filled with a fast call to a scipy interpolator.\n",
    "\n",
    "This definitely can be parallelized by dividing the image in segments. \n",
    "\n",
    "Test with 1/2 pixels, after parallelization."
   ]
  }
 ],
 "metadata": {
  "kernelspec": {
   "display_name": "Python 3",
   "language": "python",
   "name": "python3"
  },
  "language_info": {
   "codemirror_mode": {
    "name": "ipython",
    "version": 3
   },
   "file_extension": ".py",
   "mimetype": "text/x-python",
   "name": "python",
   "nbconvert_exporter": "python",
   "pygments_lexer": "ipython3",
   "version": "3.7.10"
  }
 },
 "nbformat": 4,
 "nbformat_minor": 5
}
