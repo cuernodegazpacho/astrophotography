{
 "cells": [
  {
   "cell_type": "markdown",
   "id": "acbfba05",
   "metadata": {},
   "source": [
    "# Timing experiments 1 - offsets"
   ]
  },
  {
   "cell_type": "markdown",
   "id": "4e5df55e",
   "metadata": {},
   "source": [
    "This notebook contains code snippets that can be used to measure clock time for each step used in offsets processing. \n",
    "\n",
    "We use this to pick the fastest solution to coding issues that can't be solved with plain numpy vectorization."
   ]
  },
  {
   "cell_type": "code",
   "execution_count": 1,
   "id": "cb9ae56e",
   "metadata": {},
   "outputs": [],
   "source": [
    "import time\n",
    "import numpy as np\n",
    "\n",
    "import rawpy"
   ]
  },
  {
   "cell_type": "markdown",
   "id": "2aa0f16f",
   "metadata": {},
   "source": [
    "## Read prototype image"
   ]
  },
  {
   "cell_type": "markdown",
   "id": "b96d08b1",
   "metadata": {},
   "source": [
    "This image is used as a template for looping over all pixels in one raw frame."
   ]
  },
  {
   "cell_type": "code",
   "execution_count": 2,
   "id": "95ae9ac7",
   "metadata": {},
   "outputs": [],
   "source": [
    "fname = '../astrophotography_data/MilkyWayPrettyBoy/12800/light/DSC03779.ARW'\n",
    "raw = rawpy.imread(fname)\n",
    "imarray = raw.raw_image_visible.astype(float)"
   ]
  },
  {
   "cell_type": "code",
   "execution_count": 3,
   "id": "ff1a290c",
   "metadata": {},
   "outputs": [
    {
     "name": "stdout",
     "output_type": "stream",
     "text": [
      "(2848, 4256)\n"
     ]
    }
   ],
   "source": [
    "print(imarray.shape)\n",
    "ny = imarray.shape[0]\n",
    "nx = imarray.shape[1]"
   ]
  },
  {
   "cell_type": "markdown",
   "id": "4244afa2",
   "metadata": {},
   "source": [
    "## Empty loop"
   ]
  },
  {
   "cell_type": "code",
   "execution_count": 4,
   "id": "b5fed22c",
   "metadata": {},
   "outputs": [
    {
     "name": "stdout",
     "output_type": "stream",
     "text": [
      "0.35911989212036133 sec\n"
     ]
    }
   ],
   "source": [
    "t1 = time.time()\n",
    "for j in range(ny):\n",
    "    for i in range(nx):\n",
    "        pass\n",
    "t2 = time.time() - t1\n",
    "print(t2, \"sec\")"
   ]
  },
  {
   "cell_type": "markdown",
   "id": "8c1446ec",
   "metadata": {},
   "source": [
    "## Read pixels"
   ]
  },
  {
   "cell_type": "markdown",
   "id": "cc87ea8d",
   "metadata": {},
   "source": [
    "Typically we won't need to grab the pixel value itself, since we are dealing only with pixel positions. But we will need eventually to store the X and Y offsets associated to each pixel. Thus, accessing image arrays is part of the overall method. In fact, these offset arrays are the final product of the entire offset processing step."
   ]
  },
  {
   "cell_type": "code",
   "execution_count": 5,
   "id": "c09d6516",
   "metadata": {},
   "outputs": [
    {
     "name": "stdout",
     "output_type": "stream",
     "text": [
      "3.201051950454712 sec\n"
     ]
    }
   ],
   "source": [
    "t1 = time.time()\n",
    "for j in range(ny):\n",
    "    for i in range(nx):\n",
    "        pix = imarray[j][i]\n",
    "t2 = time.time() - t1\n",
    "print(t2, \"sec\")"
   ]
  },
  {
   "cell_type": "markdown",
   "id": "6637d160",
   "metadata": {},
   "source": [
    "## Store value in array"
   ]
  },
  {
   "cell_type": "code",
   "execution_count": 6,
   "id": "ff463f5b",
   "metadata": {},
   "outputs": [
    {
     "name": "stdout",
     "output_type": "stream",
     "text": [
      "3.9489479064941406 sec\n"
     ]
    }
   ],
   "source": [
    "pixarray = np.asarray(imarray)\n",
    "t1 = time.time()\n",
    "for j in range(ny):\n",
    "    for i in range(nx):\n",
    "        pixarray[j][i] = 0.0\n",
    "t2 = time.time() - t1\n",
    "print(t2, \"sec\")"
   ]
  },
  {
   "cell_type": "code",
   "execution_count": null,
   "id": "31c5017c",
   "metadata": {},
   "outputs": [],
   "source": []
  }
 ],
 "metadata": {
  "kernelspec": {
   "display_name": "Python 3",
   "language": "python",
   "name": "python3"
  },
  "language_info": {
   "codemirror_mode": {
    "name": "ipython",
    "version": 3
   },
   "file_extension": ".py",
   "mimetype": "text/x-python",
   "name": "python",
   "nbconvert_exporter": "python",
   "pygments_lexer": "ipython3",
   "version": "3.7.10"
  }
 },
 "nbformat": 4,
 "nbformat_minor": 5
}
