{
 "cells": [
  {
   "cell_type": "code",
   "execution_count": 1,
   "metadata": {},
   "outputs": [],
   "source": [
    "import os, sys\n",
    "from PIL import Image"
   ]
  },
  {
   "cell_type": "code",
   "execution_count": 2,
   "metadata": {},
   "outputs": [],
   "source": [
    "def make_sequence(im, i0, i1, x0, y0, dx, dy, size, dsize):\n",
    "\n",
    "    xr = 0\n",
    "    yr = 0\n",
    "    sr = 0\n",
    "\n",
    "    for i in range(i0, i1):\n",
    "\n",
    "        # center of extraction box\n",
    "        x = x0 + dx * (i - i0)\n",
    "        y = y0 + dy * (i - i0)\n",
    "\n",
    "        # size of extraction box\n",
    "        s = size - dsize * (i - i0)\n",
    "        s2 = s / 2\n",
    "        \n",
    "        # return values\n",
    "        xr = x\n",
    "        yr = y\n",
    "        sr = s\n",
    "        \n",
    "        # size of target box\n",
    "        sb = min(im.size[0], im.size[1])\n",
    "    \n",
    "        box = (x-s2, y-s2, x+s2, y+s2)\n",
    "        inter = im.crop(box)\n",
    "        out = inter.resize((sb, sb))\n",
    "    \n",
    "        outfile = outpath + f + '_' + str(i) + '.jpg'\n",
    "        out.save(outfile)\n",
    "        out.close()\n",
    "\n",
    "#         print(outfile, x, y, s)\n",
    "                \n",
    "        sys.stdout.write(\"\\r\\x1b[K\"+outfile.__str__())\n",
    "        sys.stdout.flush()\n",
    "    \n",
    "    return (xr, yr, sr)"
   ]
  },
  {
   "cell_type": "code",
   "execution_count": 3,
   "metadata": {},
   "outputs": [],
   "source": [
    "inpath = '/Users/busko/tmp0/images/'\n",
    "outpath = '/Users/busko/tmp0/images/out/'\n",
    "infile = 'NGC3368.png'\n",
    "f, e = os.path.splitext(infile)"
   ]
  },
  {
   "cell_type": "code",
   "execution_count": 4,
   "metadata": {},
   "outputs": [],
   "source": [
    "im = Image.open(os.path.join(inpath,infile))\n",
    "im.size"
   ]
  },
  {
   "cell_type": "code",
   "execution_count": 5,
   "metadata": {},
   "outputs": [],
   "source": [
    "SIZE = min(im.size[0], im.size[1])\n",
    "\n",
    "X0 = im.size[0] / 2\n",
    "Y0 = im.size[1] / 2"
   ]
  },
  {
   "cell_type": "code",
   "execution_count": 6,
   "metadata": {},
   "outputs": [
    {
     "name": "stdout",
     "output_type": "stream",
     "text": [
      "\u001b[K/Users/busko/tmp0/images/out/NGC3368_1399.jpg"
     ]
    }
   ],
   "source": [
    "# zoom on center\n",
    "(x, y, s) = make_sequence(im,   0,   260,  X0, Y0,  0.,   0.,   SIZE, 6.)\n",
    "# brief start moving\n",
    "(x, y, s) = make_sequence(im,  260,  280,  x,   y,  2.,  -2.,   s,    5.)\n",
    "# move right and up\n",
    "(x, y, s) = make_sequence(im,  280,  600,  x,   y,  4.0, -2.0,  s,    4.5)\n",
    "# brief stop\n",
    "(x, y, s) = make_sequence(im,  600,  630,  x,   y,  0.5, -0.4,  s,    1.)\n",
    "# upwards\n",
    "(x, y, s) = make_sequence(im,  630,  800,  x,   y, -1.,  -2.,   s,   -1.)\n",
    "# zoom out, go left \n",
    "(x, y, s) = make_sequence(im,  800, 1000,  x,   y, -3.0, -2.5,  s,   -0.5)\n",
    "# yet a little more... \n",
    "(x, y, s) = make_sequence(im, 1000, 1100,  x,   y, -3.2,  0.,   s,    2.5)\n",
    "(x, y, s) = make_sequence(im, 1100, 1150,  x,   y, -0.2,  0.3,  s,    0.5)\n",
    "(x, y, s) = make_sequence(im, 1150, 1200,  x,   y,  0.0,  0.0,  s,    0.5)\n",
    "\n",
    "# pre-compute speeds to reach exact center and zoom level at the end\n",
    "k0 = 1200\n",
    "k1 = 1300\n",
    "dx = (X0 - x) / (k1 - k0)\n",
    "dy = (Y0 - y) / (k1 - k0)\n",
    "ds = (s - SIZE) / (k1 - k0)\n",
    "\n",
    "# zoom out, go back to center\n",
    "(x, y, s) = make_sequence(im, k0,     k1,   x,  y, dx,   dy,   s,     ds)\n",
    "# hold at center for a few sec\n",
    "(x, y, s) = make_sequence(im, 1300, 1400,  X0, Y0,  0.,   0.,   SIZE, 0.)\n",
    "\n",
    "\n",
    "# (X0, Y0, X1, Y1) = make_sequence(im, 27, 50, X0, X1, Y0, Y1, 30, 30, SIZE, vx=20, vy=-10)\n",
    "# (X0, Y0, X1, Y1) = make_sequence(im, 50, 80, X0, X1, Y0, Y1, 0, 0, SIZE, vx=20, vy=-10)\n",
    "# (X0, Y0, X1, Y1) = make_sequence(im, 80, 110, X0, X1, Y0, Y1, -20, -20, SIZE, vx=0, vy=0)\n"
   ]
  },
  {
   "cell_type": "code",
   "execution_count": 7,
   "metadata": {},
   "outputs": [],
   "source": [
    "# _ = make_sequence(im, 0, 270, X0, X1, Y0, Y1, 3, 3, SIZE)\n",
    "# (X0, Y0, X1, Y1) = make_sequence(im, 270, 500, X0, X1, Y0, Y1, 3, 3, SIZE, vx=2, vy=-1)\n",
    "# (X0, Y0, X1, Y1) = make_sequence(im, 500, 800, X0, X1, Y0, Y1, 0, 0, SIZE, vx=2, vy=-1)\n",
    "# (X0, Y0, X1, Y1) = make_sequence(im, 800, 820, X0, X1, Y0, Y1, 0, 0, SIZE)\n",
    "# (X0, Y0, X1, Y1) = make_sequence(im, 820, 1100, X0, X1, Y0, Y1, -2, -2, SIZE, vx=-2, vy=-2)"
   ]
  },
  {
   "cell_type": "code",
   "execution_count": 8,
   "metadata": {},
   "outputs": [],
   "source": [
    "# images[0].save(outpath + f + '.gif',\n",
    "#                save_all=True, append_images=images[1:], optimize=False, duration=80, loop=0)"
   ]
  },
  {
   "cell_type": "code",
   "execution_count": null,
   "metadata": {},
   "outputs": [],
   "source": []
  }
 ],
 "metadata": {
  "kernelspec": {
   "display_name": "Python 3",
   "language": "python",
   "name": "python3"
  },
  "language_info": {
   "codemirror_mode": {
    "name": "ipython",
    "version": 3
   },
   "file_extension": ".py",
   "mimetype": "text/x-python",
   "name": "python",
   "nbconvert_exporter": "python",
   "pygments_lexer": "ipython3",
   "version": "3.7.10"
  }
 },
 "nbformat": 4,
 "nbformat_minor": 4
}
